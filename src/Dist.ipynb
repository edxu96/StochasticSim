{
 "cells": [
  {
   "cell_type": "markdown",
   "metadata": {},
   "source": [
    "\n",
    "# Stochastic Simulation: Random Variable Generator (RVG)"
   ]
  },
  {
   "cell_type": "code",
   "execution_count": 1,
   "metadata": {},
   "outputs": [],
   "source": [
    "import math\n",
    "import pandas as pd\n",
    "import numpy as np\n",
    "from matplotlib import pyplot as plt\n",
    "import scipy.stats as st\n",
    "import random as rd\n",
    "from operator import add"
   ]
  },
  {
   "cell_type": "markdown",
   "metadata": {},
   "source": [
    "## 1. Inverse Transform Method / Direct Method / Crude Method"
   ]
  },
  {
   "cell_type": "markdown",
   "metadata": {},
   "source": [
    "## 2. Rejection Method / Acceptance-Rejection Method"
   ]
  },
  {
   "cell_type": "code",
   "execution_count": 2,
   "metadata": {},
   "outputs": [],
   "source": [
    "def sim_reject(fq, qs, ps, c, num:int=10):\n",
    "    \"\"\"Simulate realisations of discrete random variables using \n",
    "        rejection method.\n",
    "    \n",
    "    Keyworkd Argument\n",
    "    =================\n",
    "    num: Number of simulated variables.\n",
    "    fq: Function to simulate realisations of discrete random \n",
    "        variables with `qs` PMF. The default value is `rd.random()`.\n",
    "    qs: Probability mass function of basis random variable.\n",
    "    ps: Probability mass function of desired random variable.\n",
    "    \"\"\"\n",
    "    if not callable(fq) or not callable(qs) or not callable(ps):\n",
    "        raise Exception(\"`fq` and `qs` must be functions!\")\n",
    "    \n",
    "    xs = [0 for i in range(num)]\n",
    "    for i in range(num):\n",
    "        if_continue = True\n",
    "        ## The process will continue until `xs[i]` is determined.\n",
    "        while if_continue:\n",
    "            y = fq()\n",
    "            u = rd.random()  \n",
    "            if u < ps(y) / c / qs(y):\n",
    "                xs[i] = y\n",
    "                if_continue = False"
   ]
  },
  {
   "cell_type": "code",
   "execution_count": 4,
   "metadata": {},
   "outputs": [],
   "source": [
    "def exam_sim_reject():\n",
    "    fq = rd.randint(0, 10)"
   ]
  },
  {
   "cell_type": "code",
   "execution_count": 5,
   "metadata": {},
   "outputs": [],
   "source": [
    "def pmf_q_uniform(j:int):\n",
    "    if j < 0 or type(j) is not int:\n",
    "        raise Exception(\"j must be a non-negative integer!\")\n",
    "    elif j <= 9:\n",
    "        pm = 0.1\n",
    "    else:\n",
    "        pm = 0\n",
    "    return pm"
   ]
  },
  {
   "cell_type": "markdown",
   "metadata": {},
   "source": [
    "## 2. Alias Method"
   ]
  },
  {
   "cell_type": "code",
   "execution_count": 6,
   "metadata": {},
   "outputs": [],
   "source": [
    "def check_pmf(li:list):\n",
    "    \"\"\"Check if input probability mass function represented by a list is\n",
    "    a `n`-point positive probability mass function.\"\"\"\n",
    "    if sum([i <= 0 for i in li]) > 0:\n",
    "        raise Exception(\"Some probability is not positive.\")\n",
    "    elif abs(sum(li) - 1) >= 0.001:\n",
    "        raise Exception(f\"Sum of PMF {sum(li):.4f} is not 100%.\")\n",
    "    else:\n",
    "        print(f\"The input list is a {len(li)}-point positive PMF.\")"
   ]
  },
  {
   "cell_type": "code",
   "execution_count": 7,
   "metadata": {
    "scrolled": false
   },
   "outputs": [
    {
     "name": "stdout",
     "output_type": "stream",
     "text": [
      "The input list is a 5-point positive PMF.\n"
     ]
    }
   ],
   "source": [
    "li = [0.39, 0.2, 0.2, 0.2, 0.01]\n",
    "check_pmf(li)"
   ]
  },
  {
   "cell_type": "code",
   "execution_count": 8,
   "metadata": {},
   "outputs": [],
   "source": [
    "def find_ij(p):\n",
    "    \"\"\"Find the index i, j in the apas method for generating discrete random variables\"\"\"\n",
    "    n = len(p)\n",
    "    \n",
    "    ## Find all indices with their values smaller than 1/(n-1) and return the first one.\n",
    "    ## Note that p is considered as positive PMF, so point with 0 probablity is not considered.\n",
    "    i = [i for i, x in enumerate(p) if x < 1 / (n - 1) and x > 0][0]\n",
    "    \n",
    "    indices = [j for j, x in enumerate(p) if p[i] + x >= 1 / (n - 1)]\n",
    "    k = 0\n",
    "    ## To make sure that j != i\n",
    "    while indices[k] == i:\n",
    "        k += 1\n",
    "    j = indices[k]\n",
    "    \n",
    "    ## It is easy to check the results\n",
    "    if j == i or p[i] >= 1 / (n - 1) or p[i] + p[j] < 1 / (n - 1):\n",
    "        raise Exception(\"There is something wrong with the function.\")\n",
    "    \n",
    "    ## The index in Python starts with 0\n",
    "    i += 1\n",
    "    j += 1\n",
    "    \n",
    "    return i, j"
   ]
  },
  {
   "cell_type": "code",
   "execution_count": 9,
   "metadata": {},
   "outputs": [],
   "source": [
    "def set_alias(p):\n",
    "    \"\"\"Set up alias for `n`-point PMF.\"\"\"\n",
    "    n = len(p)\n",
    "    ps = {n: [l for l in p]}\n",
    "    qs = {}\n",
    "    for k in range(1, n-1):\n",
    "        i, j = find_ij(ps[n-k+1])\n",
    "        i -= 1\n",
    "        j -= 1\n",
    "        \n",
    "        qs[k] = [0 for l in range(n)]\n",
    "        qs[k][i] = (n-k) * ps[n-k+1][i]\n",
    "        qs[k][j] = 1 - (n-k) * ps[n-k+1][i]\n",
    "        \n",
    "        ps[n-k] = [(n-k) / (n-k-1) * l for l in ps[n-k+1]]\n",
    "        ps[n-k][j] = (n-k) / (n-k-1) * (ps[n-k+1][i] + ps[n-k+1][j] - 1/(n-k))\n",
    "        ps[n-k][i] = 0\n",
    "        \n",
    "        ## `ps[n-k]` should be a {n-k}-point PMF\n",
    "        if abs( sum(ps[n-k]) - 1 ) > 0.0001:\n",
    "            raise Exception(f\"There is something wrong with {n-k}-point PMF.\")\n",
    "        \n",
    "        ## Check the iteration\n",
    "        q_t = [l / (n-k) for l in qs[k]]\n",
    "        p_t = [(n-k-1) / (n-k) * l for l in ps[n-k]]\n",
    "        p_tt = map(add, q_t, p_t)\n",
    "        t = sum( map(add, ps[n-k+1], [-l for l in p_tt]) )\n",
    "        if abs(t) > 0.001:\n",
    "            print(f\"t = {t}.\")\n",
    "            raise Exception(\"The function is wrong.\")\n",
    "        \n",
    "    ## \n",
    "    k = n - 1\n",
    "    qs[n - 1] = ps[2]\n",
    "\n",
    "    ##\n",
    "    q_pd = pd.DataFrame.from_dict(qs, orient='index')\n",
    "    \n",
    "    ## Test\n",
    "    p_new = [i / (n-1) for i in q_pd.sum().tolist()]\n",
    "    delta = map(add, p, [-l for l in p_new])\n",
    "    t = sum([abs(l) for l in delta])\n",
    "    if abs(t) > 0.001:\n",
    "        print(f\"t = {t}.\")\n",
    "        raise Exception(\"The final result is wrong.\")\n",
    "    \n",
    "    return q_pd"
   ]
  },
  {
   "cell_type": "code",
   "execution_count": 10,
   "metadata": {
    "scrolled": true
   },
   "outputs": [
    {
     "name": "stdout",
     "output_type": "stream",
     "text": [
      "        0     1      2       3\n",
      "1  0.2500  0.75  0.000  0.0000\n",
      "2  0.6250  0.00  0.375  0.0000\n",
      "3  0.4375  0.00  0.000  0.5625\n"
     ]
    }
   ],
   "source": [
    "def exam_set_alias():\n",
    "#     p = [7/16, 0.5, 1/16]\n",
    "    p = [7/16, 1/4, 1/8, 3/16]\n",
    "    q_pd = set_alias(p)\n",
    "    print(q_pd)\n",
    "    \n",
    "    \n",
    "exam_set_alias()"
   ]
  }
 ],
 "metadata": {
  "kernelspec": {
   "display_name": "Python 3",
   "language": "python",
   "name": "python3"
  },
  "language_info": {
   "codemirror_mode": {
    "name": "ipython",
    "version": 3
   },
   "file_extension": ".py",
   "mimetype": "text/x-python",
   "name": "python",
   "nbconvert_exporter": "python",
   "pygments_lexer": "ipython3",
   "version": "3.7.6"
  }
 },
 "nbformat": 4,
 "nbformat_minor": 2
}
