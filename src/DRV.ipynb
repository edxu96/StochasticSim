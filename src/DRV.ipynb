{
 "cells": [
  {
   "cell_type": "markdown",
   "metadata": {},
   "source": [
    "\n",
    "# Stochastic Simulation: Discrete Random Variable (DRV)"
   ]
  },
  {
   "cell_type": "code",
   "execution_count": 6,
   "metadata": {},
   "outputs": [
    {
     "name": "stdout",
     "output_type": "stream",
     "text": [
      "`TidySimStat.py` by Edward J. Xu is imported. Last modifed date is June 1, 2020.\n"
     ]
    }
   ],
   "source": [
    "import math\n",
    "import pandas as pd\n",
    "import numpy as np\n",
    "from matplotlib import pyplot as plt\n",
    "import scipy.stats as st\n",
    "import random as rd\n",
    "from operator import add\n",
    "\n",
    "import TidySimStat as tss\n",
    "\n",
    "from importlib import reload  \n",
    "tss = reload(tss)"
   ]
  },
  {
   "cell_type": "markdown",
   "metadata": {},
   "source": [
    "## 1. Inverse Transform Method / Direct Method / Crude Method"
   ]
  },
  {
   "cell_type": "markdown",
   "metadata": {},
   "source": [
    "## 2. Rejection Method / Acceptance-Rejection Method"
   ]
  },
  {
   "cell_type": "code",
   "execution_count": 2,
   "metadata": {},
   "outputs": [
    {
     "name": "stdout",
     "output_type": "stream",
     "text": [
      "Help on function sim_drv_reject in module TidySimStat.DRV:\n",
      "\n",
      "sim_drv_reject(pmf: list)\n",
      "    Rejection method to simulate realisations of a discrete random variables\n",
      "    with `random.random()` and uniform distribution as basis functions.\n",
      "    \n",
      "    Keyworkd Argument\n",
      "    =================\n",
      "    pmf: probablity mass function of the desired discrete random variable.\n",
      "    \n",
      "    Attentions\n",
      "    ==========\n",
      "    - The possible values of the desired DRV is 1, 2, 3, ..., j.\n",
      "    - Whenever `p_j` is larger than 0, `q_j` should be larger than 0, or there\n",
      "      is no way to simulate the realisation being j for the desired\n",
      "      distribution. For the sake of simplicity, the uniform distribution over\n",
      "      all possible indices is used as basis random variable.\n",
      "\n"
     ]
    }
   ],
   "source": [
    "help(tss.sim_drv_reject)"
   ]
  },
  {
   "cell_type": "code",
   "execution_count": 3,
   "metadata": {},
   "outputs": [
    {
     "data": {
      "text/plain": [
       "1"
      ]
     },
     "execution_count": 3,
     "metadata": {},
     "output_type": "execute_result"
    }
   ],
   "source": [
    "# def exam_sim_drv_reject():\n",
    "pmf = [7/16, 1/4, 1/8, 3/16]\n",
    "tss.sim_drv_reject(pmf)"
   ]
  },
  {
   "cell_type": "code",
   "execution_count": 7,
   "metadata": {},
   "outputs": [
    {
     "ename": "TypeError",
     "evalue": "sim_drv_reject() missing 1 required positional argument: 'pmf'",
     "output_type": "error",
     "traceback": [
      "\u001b[0;31m---------------------------------------------------------------------------\u001b[0m",
      "\u001b[0;31mTypeError\u001b[0m                                 Traceback (most recent call last)",
      "\u001b[0;32m<ipython-input-7-6ee7841c7f71>\u001b[0m in \u001b[0;36m<module>\u001b[0;34m\u001b[0m\n\u001b[0;32m----> 1\u001b[0;31m \u001b[0mtss\u001b[0m\u001b[0;34m.\u001b[0m\u001b[0mexam_sim_drv\u001b[0m\u001b[0;34m(\u001b[0m\u001b[0mtss\u001b[0m\u001b[0;34m.\u001b[0m\u001b[0msim_drv_reject\u001b[0m\u001b[0;34m(\u001b[0m\u001b[0;34m)\u001b[0m\u001b[0;34m)\u001b[0m\u001b[0;34m\u001b[0m\u001b[0;34m\u001b[0m\u001b[0m\n\u001b[0m",
      "\u001b[0;31mTypeError\u001b[0m: sim_drv_reject() missing 1 required positional argument: 'pmf'"
     ]
    }
   ],
   "source": [
    "tss.exam_sim_drv(tss.sim_drv_reject())"
   ]
  },
  {
   "cell_type": "code",
   "execution_count": 22,
   "metadata": {},
   "outputs": [
    {
     "name": "stdout",
     "output_type": "stream",
     "text": [
      "Chi-squared goodness of fit test: 2.8575.\n",
      "The input stat: 2.8575. \n",
      "The p value from Chi-Square distribution: 0.7219.\n",
      "Null hypothesis: two populations have the same distribution. \n",
      "The input p value is 0.7219. \n",
      "Is the p value smaller than 0.05? False. \n",
      "If reject the null hypothesis? False. \n",
      "If from the same distribution? True.\n"
     ]
    },
    {
     "data": {
      "image/png": "[encoded data removed]",
      "text/plain": [
       "<Figure size 432x288 with 1 Axes>"
      ]
     },
     "metadata": {
      "needs_background": "light"
     },
     "output_type": "display_data"
    }
   ],
   "source": [
    "def exam_sim_drv_reject():\n",
    "    num_sim = 10000\n",
    "#     p = w\n",
    "    p = [0.1, 0.1, 0.2, 0.4, 0.1, 0.1]\n",
    "    n = len(p)\n",
    "    \n",
    "    xs = [tss.sim_drv_reject(p) for l in range(num_sim)]\n",
    "    p_sample = [xs.count(l) / num_sim for l in range(1, n+1)]\n",
    "    \n",
    "    ## KS test\n",
    "    li_count = [xs.count(l) for l in range(1, n+1)]\n",
    "    li_cdf = tss.pmf2cdf(p)\n",
    "    stat = cal_stat_gof(li_count, li_cdf)\n",
    "    pvalue = cal_pvalue_chi2(stat, df=5)\n",
    "    tss.test_dist(pvalue)\n",
    "    \n",
    "    ## Start plotting.\n",
    "    labels = [l for l in range(1, n+1)]\n",
    "\n",
    "    x = np.arange(len(labels))  # the label locations\n",
    "    width = 0.35  # the width of the bars\n",
    "\n",
    "    fig, ax = plt.subplots()\n",
    "    rects1 = ax.bar(x - width/2, p, width, label='given')\n",
    "    rects2 = ax.bar(x + width/2, p_sample, width, label='sample')\n",
    "\n",
    "    # Add some text for labels, title and custom x-axis tick labels, etc.\n",
    "    ax.set_ylabel('Probability')\n",
    "    ax.set_title('Given Probabilities and Probabilities from Samples')\n",
    "    ax.set_xticks(x)\n",
    "    ax.set_xticklabels(labels)\n",
    "    ax.legend()\n",
    "\n",
    "\n",
    "    def autolabel(rects):\n",
    "        \"\"\"Attach a text label above each bar in *rects*, displaying its height.\"\"\"\n",
    "        for rect in rects:\n",
    "            height = rect.get_height()\n",
    "            ax.annotate('{}'.format(height),\n",
    "                xy=(rect.get_x() + rect.get_width() / 2, height),\n",
    "                xytext=(0, 3),  # 3 points vertical offset\n",
    "                textcoords=\"offset points\",\n",
    "                ha='center', va='bottom')\n",
    "\n",
    "\n",
    "    autolabel(rects1)\n",
    "    autolabel(rects2)\n",
    "\n",
    "    fig.tight_layout()\n",
    "\n",
    "    plt.show()\n",
    "\n",
    "\n",
    "exam_sim_drv_reject()"
   ]
  },
  {
   "cell_type": "markdown",
   "metadata": {},
   "source": [
    "## 2. Alias Method"
   ]
  },
  {
   "cell_type": "code",
   "execution_count": 12,
   "metadata": {},
   "outputs": [
    {
     "name": "stdout",
     "output_type": "stream",
     "text": [
      "Help on function check_posi_pmf in module TidySimStat.auxiliary:\n",
      "\n",
      "check_posi_pmf(li: list, if_mute=True)\n",
      "    Check if input probability mass function represented by a list is\n",
      "    a `n`-point positive probability mass function.\n",
      "\n"
     ]
    }
   ],
   "source": [
    "help(tss.check_posi_pmf)"
   ]
  },
  {
   "cell_type": "code",
   "execution_count": 13,
   "metadata": {},
   "outputs": [
    {
     "name": "stdout",
     "output_type": "stream",
     "text": [
      "Help on function find_ij in module TidySimStat.DRV:\n",
      "\n",
      "find_ij(p)\n",
      "    Find the index i, j in the apas method for generating\n",
      "    discrete random variables.\n",
      "    \n",
      "    Issues\n",
      "    ======\n",
      "    There are many numerical issues. I have tried to solve most of them.\n",
      "    Details can be found in comments.\n",
      "\n"
     ]
    }
   ],
   "source": [
    "help(tss.find_ij)"
   ]
  },
  {
   "cell_type": "code",
   "execution_count": 14,
   "metadata": {},
   "outputs": [
    {
     "name": "stdout",
     "output_type": "stream",
     "text": [
      "Help on function set_alias in module TidySimStat.DRV:\n",
      "\n",
      "set_alias(p)\n",
      "    Set up alias for a positive probability mass function.\n",
      "    \n",
      "    Keyword Arguments\n",
      "    =================\n",
      "    p: list indicating `n`-point positive PMF\n",
      "    \n",
      "    Local Variables\n",
      "    ===============\n",
      "    ps: dict of PMF \"p\"\n",
      "    qs: dict of PMF \"q\"\n",
      "    qis: dict of `i` values in each iteration\n",
      "    qjs: dict of `j` values in each iteration\n",
      "    \n",
      "    Issues\n",
      "    ======\n",
      "    - Not sure if the `i` and `j` in the final iteration is right.\n",
      "      For now, the index of the smaller one is assumed to be `i`.\n",
      "    - Mathematically, `(n-k)` is indicating the number of points\n",
      "      in the current positive PMF. Sometimes, when there are two\n",
      "      identical values in the PMF, one iteration can reduce two\n",
      "      probability points to zero. That way, the PMF in the final\n",
      "      iteration will have only one point. For example, try PMF\n",
      "      `[0.1, 0.1, 0.2, 0.4, 0.1, 0.1]`. Besides, it is likely that\n",
      "      such iterations will happen more than once. So the number of\n",
      "      necessary iteration may not be `n-1`. This function has been\n",
      "      formulated in case of that PMF, but I haven't found such\n",
      "      cases, yet. In theory, such case is not supposed to happen.\n",
      "      Because, even if it happens, it will not pass the final result\n",
      "      check.\n",
      "\n"
     ]
    }
   ],
   "source": [
    "help(tss.set_alias)"
   ]
  },
  {
   "cell_type": "code",
   "execution_count": 16,
   "metadata": {
    "scrolled": true
   },
   "outputs": [
    {
     "ename": "NameError",
     "evalue": "name 'greater' is not defined",
     "output_type": "error",
     "traceback": [
      "\u001b[0;31m---------------------------------------------------------------------------\u001b[0m",
      "\u001b[0;31mNameError\u001b[0m                                 Traceback (most recent call last)",
      "\u001b[0;32m<ipython-input-16-2548906fa3cf>\u001b[0m in \u001b[0;36m<module>\u001b[0;34m\u001b[0m\n\u001b[1;32m      8\u001b[0m \u001b[0;34m\u001b[0m\u001b[0m\n\u001b[1;32m      9\u001b[0m \u001b[0;34m\u001b[0m\u001b[0m\n\u001b[0;32m---> 10\u001b[0;31m \u001b[0mexam_set_alias\u001b[0m\u001b[0;34m(\u001b[0m\u001b[0;34m)\u001b[0m\u001b[0;34m\u001b[0m\u001b[0;34m\u001b[0m\u001b[0m\n\u001b[0m",
      "\u001b[0;32m<ipython-input-16-2548906fa3cf>\u001b[0m in \u001b[0;36mexam_set_alias\u001b[0;34m()\u001b[0m\n\u001b[1;32m      4\u001b[0m \u001b[0;31m#     p = [0.1, 0.1, 0.2, 0.4, 0.1, 0.1]\u001b[0m\u001b[0;34m\u001b[0m\u001b[0;34m\u001b[0m\u001b[0;34m\u001b[0m\u001b[0m\n\u001b[1;32m      5\u001b[0m \u001b[0;31m#     p = [0.2, 0.2, 0.2, 0.2, 0.2]\u001b[0m\u001b[0;34m\u001b[0m\u001b[0;34m\u001b[0m\u001b[0;34m\u001b[0m\u001b[0m\n\u001b[0;32m----> 6\u001b[0;31m     \u001b[0malias\u001b[0m \u001b[0;34m=\u001b[0m \u001b[0mtss\u001b[0m\u001b[0;34m.\u001b[0m\u001b[0mset_alias\u001b[0m\u001b[0;34m(\u001b[0m\u001b[0mp\u001b[0m\u001b[0;34m)\u001b[0m\u001b[0;34m\u001b[0m\u001b[0;34m\u001b[0m\u001b[0m\n\u001b[0m\u001b[1;32m      7\u001b[0m     \u001b[0mprint\u001b[0m\u001b[0;34m(\u001b[0m\u001b[0malias\u001b[0m\u001b[0;34m)\u001b[0m\u001b[0;34m\u001b[0m\u001b[0;34m\u001b[0m\u001b[0m\n\u001b[1;32m      8\u001b[0m \u001b[0;34m\u001b[0m\u001b[0m\n",
      "\u001b[0;32m~/GitHub/TidySimStat/src/TidySimStat/DRV.py\u001b[0m in \u001b[0;36mset_alias\u001b[0;34m(p)\u001b[0m\n\u001b[1;32m    127\u001b[0m \u001b[0;34m\u001b[0m\u001b[0m\n\u001b[1;32m    128\u001b[0m         \u001b[0mk\u001b[0m \u001b[0;34m+=\u001b[0m \u001b[0;36m1\u001b[0m\u001b[0;34m\u001b[0m\u001b[0;34m\u001b[0m\u001b[0m\n\u001b[0;32m--> 129\u001b[0;31m         \u001b[0mn_current\u001b[0m \u001b[0;34m=\u001b[0m \u001b[0mlen\u001b[0m\u001b[0;34m(\u001b[0m\u001b[0;34m[\u001b[0m\u001b[0ml\u001b[0m \u001b[0;32mfor\u001b[0m \u001b[0ml\u001b[0m \u001b[0;32min\u001b[0m \u001b[0mps\u001b[0m\u001b[0;34m[\u001b[0m\u001b[0mn\u001b[0m\u001b[0;34m-\u001b[0m\u001b[0mk\u001b[0m\u001b[0;34m+\u001b[0m\u001b[0;36m1\u001b[0m\u001b[0;34m]\u001b[0m \u001b[0;32mif\u001b[0m \u001b[0mgreater\u001b[0m\u001b[0;34m(\u001b[0m\u001b[0ml\u001b[0m\u001b[0;34m,\u001b[0m \u001b[0;36m0\u001b[0m\u001b[0;34m)\u001b[0m\u001b[0;34m]\u001b[0m\u001b[0;34m)\u001b[0m\u001b[0;34m\u001b[0m\u001b[0;34m\u001b[0m\u001b[0m\n\u001b[0m\u001b[1;32m    130\u001b[0m         \u001b[0;32mif\u001b[0m \u001b[0mk\u001b[0m \u001b[0;34m>=\u001b[0m \u001b[0mn\u001b[0m\u001b[0;34m-\u001b[0m\u001b[0;36m1\u001b[0m \u001b[0;32mor\u001b[0m \u001b[0mn_current\u001b[0m \u001b[0;34m<=\u001b[0m \u001b[0;36m1\u001b[0m\u001b[0;34m:\u001b[0m\u001b[0;34m\u001b[0m\u001b[0;34m\u001b[0m\u001b[0m\n\u001b[1;32m    131\u001b[0m             \u001b[0;32mbreak\u001b[0m\u001b[0;34m\u001b[0m\u001b[0;34m\u001b[0m\u001b[0m\n",
      "\u001b[0;32m~/GitHub/TidySimStat/src/TidySimStat/DRV.py\u001b[0m in \u001b[0;36mfind_ij\u001b[0;34m(p)\u001b[0m\n\u001b[1;32m     52\u001b[0m     \u001b[0;31m## The index in Python starts with 0\u001b[0m\u001b[0;34m\u001b[0m\u001b[0;34m\u001b[0m\u001b[0;34m\u001b[0m\u001b[0m\n\u001b[1;32m     53\u001b[0m     \u001b[0mi\u001b[0m \u001b[0;34m+=\u001b[0m \u001b[0;36m1\u001b[0m\u001b[0;34m\u001b[0m\u001b[0;34m\u001b[0m\u001b[0m\n\u001b[0;32m---> 54\u001b[0;31m     \u001b[0mj\u001b[0m \u001b[0;34m+=\u001b[0m \u001b[0;36m1\u001b[0m\u001b[0;34m\u001b[0m\u001b[0;34m\u001b[0m\u001b[0m\n\u001b[0m\u001b[1;32m     55\u001b[0m \u001b[0;34m\u001b[0m\u001b[0m\n\u001b[1;32m     56\u001b[0m     \u001b[0;32mreturn\u001b[0m \u001b[0mi\u001b[0m\u001b[0;34m,\u001b[0m \u001b[0mj\u001b[0m\u001b[0;34m\u001b[0m\u001b[0;34m\u001b[0m\u001b[0m\n",
      "\u001b[0;32m~/GitHub/TidySimStat/src/TidySimStat/DRV.py\u001b[0m in \u001b[0;36m<listcomp>\u001b[0;34m(.0)\u001b[0m\n\u001b[1;32m     52\u001b[0m     \u001b[0;31m## The index in Python starts with 0\u001b[0m\u001b[0;34m\u001b[0m\u001b[0;34m\u001b[0m\u001b[0;34m\u001b[0m\u001b[0m\n\u001b[1;32m     53\u001b[0m     \u001b[0mi\u001b[0m \u001b[0;34m+=\u001b[0m \u001b[0;36m1\u001b[0m\u001b[0;34m\u001b[0m\u001b[0;34m\u001b[0m\u001b[0m\n\u001b[0;32m---> 54\u001b[0;31m     \u001b[0mj\u001b[0m \u001b[0;34m+=\u001b[0m \u001b[0;36m1\u001b[0m\u001b[0;34m\u001b[0m\u001b[0;34m\u001b[0m\u001b[0m\n\u001b[0m\u001b[1;32m     55\u001b[0m \u001b[0;34m\u001b[0m\u001b[0m\n\u001b[1;32m     56\u001b[0m     \u001b[0;32mreturn\u001b[0m \u001b[0mi\u001b[0m\u001b[0;34m,\u001b[0m \u001b[0mj\u001b[0m\u001b[0;34m\u001b[0m\u001b[0;34m\u001b[0m\u001b[0m\n",
      "\u001b[0;31mNameError\u001b[0m: name 'greater' is not defined"
     ]
    }
   ],
   "source": [
    "def exam_set_alias():\n",
    "#     p = [7/16, 0.5, 1/16]\n",
    "    p = [7/16, 1/4, 1/8, 3/16]\n",
    "#     p = [0.1, 0.1, 0.2, 0.4, 0.1, 0.1]\n",
    "#     p = [0.2, 0.2, 0.2, 0.2, 0.2]\n",
    "    alias = tss.set_alias(p)\n",
    "    print(alias)\n",
    "    \n",
    "    \n",
    "exam_set_alias()"
   ]
  },
  {
   "cell_type": "code",
   "execution_count": null,
   "metadata": {},
   "outputs": [],
   "source": [
    "help(tss.run_alias)"
   ]
  },
  {
   "cell_type": "code",
   "execution_count": null,
   "metadata": {
    "scrolled": true
   },
   "outputs": [],
   "source": [
    "def exam_run_alias():\n",
    "    num_sim = 10000\n",
    "#     p = [7/16, 1/4, 1/8, 3/16]\n",
    "    p = [0.1, 0.1, 0.2, 0.4, 0.1, 0.1]\n",
    "    n = len(p)\n",
    "    alias = set_alias(p)\n",
    "    \n",
    "    xs = [run_alias(alias) for l in range(num_sim)]\n",
    "    p_sample = [xs.count(l) / num_sim for l in range(1, n+1)]\n",
    "    \n",
    "    ## Start plotting.\n",
    "    labels = [l for l in range(1, n+1)]\n",
    "\n",
    "    x = np.arange(len(labels))  # the label locations\n",
    "    width = 0.35  # the width of the bars\n",
    "\n",
    "    fig, ax = plt.subplots()\n",
    "    rects1 = ax.bar(x - width/2, p, width, label='given')\n",
    "    rects2 = ax.bar(x + width/2, p_sample, width, label='sample')\n",
    "\n",
    "    # Add some text for labels, title and custom x-axis tick labels, etc.\n",
    "    ax.set_ylabel('Probability')\n",
    "    ax.set_title('Given Probabilities and Probabilities from Samples')\n",
    "    ax.set_xticks(x)\n",
    "    ax.set_xticklabels(labels)\n",
    "    ax.legend()\n",
    "\n",
    "\n",
    "    def autolabel(rects):\n",
    "        \"\"\"Attach a text label above each bar in *rects*, displaying its height.\"\"\"\n",
    "        for rect in rects:\n",
    "            height = rect.get_height()\n",
    "            ax.annotate('{}'.format(height),\n",
    "                xy=(rect.get_x() + rect.get_width() / 2, height),\n",
    "                xytext=(0, 3),  # 3 points vertical offset\n",
    "                textcoords=\"offset points\",\n",
    "                ha='center', va='bottom')\n",
    "\n",
    "\n",
    "    autolabel(rects1)\n",
    "    autolabel(rects2)\n",
    "\n",
    "    fig.tight_layout()\n",
    "\n",
    "    plt.show()\n",
    "\n",
    "\n",
    "exam_run_alias()"
   ]
  },
  {
   "cell_type": "markdown",
   "metadata": {},
   "source": [
    "## 3. Chi-Squared Goodness-of-Fit Test of Samples"
   ]
  },
  {
   "cell_type": "code",
   "execution_count": null,
   "metadata": {},
   "outputs": [],
   "source": [
    "help(test_dist)"
   ]
  },
  {
   "cell_type": "markdown",
   "metadata": {},
   "source": [
    "The function `cal_stat_gof` is a bit different from that in `RNG.ipynb`"
   ]
  },
  {
   "cell_type": "code",
   "execution_count": 18,
   "metadata": {},
   "outputs": [],
   "source": [
    "def cal_stat_gof(li_count, li_cdf):\n",
    "    \"\"\"Calculate the statistic in Goodness of Fit test.\"\"\"\n",
    "    li_p = [li_cdf[0]] + [li_cdf[i] - li_cdf[i-1] for i in range(1, len(li_cdf))]\n",
    "    n = sum(li_count)\n",
    "    k = len(li_p)\n",
    "    stat = sum( [(li_count[i] - n * li_p[i])**2 / n / li_p[i] for i in range(k)] )\n",
    "    print(f\"Chi-squared goodness of fit test: {stat:.4f}.\")\n",
    "    \n",
    "    return stat"
   ]
  },
  {
   "cell_type": "code",
   "execution_count": 19,
   "metadata": {},
   "outputs": [],
   "source": [
    "def cal_pvalue_chi2(stat, df):\n",
    "    \"\"\"Calculate the pvalue of two-sided t-test using Chi-Square distribution.\"\"\"\n",
    "    pvalue = 1 - st.chi2.cdf(stat, df)\n",
    "    print(f\"The input stat: {stat:.4f}. \\n\"\n",
    "        f\"The p value from Chi-Square distribution: {pvalue:.4f}.\")\n",
    "    return pvalue"
   ]
  },
  {
   "cell_type": "code",
   "execution_count": null,
   "metadata": {
    "scrolled": true
   },
   "outputs": [],
   "source": [
    "num_sim = 10000\n",
    "#     p = [7/16, 1/4, 1/8, 3/16]\n",
    "p = [0.1, 0.1, 0.2, 0.4, 0.1, 0.1]\n",
    "n = len(p)\n",
    "alias = set_alias(p)\n",
    "\n",
    "xs = [run_alias(alias) for l in range(num_sim)]\n",
    "li_count = [xs.count(l) for l in range(1, n+1)]\n",
    "\n",
    "li_cdf = [0.1, 0.2, 0.4, 0.8, 0.9, 1]\n",
    "stat = cal_stat_gof(li_count, li_cdf)\n",
    "pvalue = cal_pvalue_chi2(stat, df=5)\n",
    "test_dist(pvalue)"
   ]
  },
  {
   "cell_type": "markdown",
   "metadata": {},
   "source": [
    "## Alias Method by the Teacher"
   ]
  },
  {
   "cell_type": "code",
   "execution_count": null,
   "metadata": {},
   "outputs": [],
   "source": [
    "def set_alias_direct(p):\n",
    "    k = len(p)\n",
    "    l = [x for x in range(1, k+1)]\n",
    "    f = [k * x for x in p]\n",
    "    g = [i+1 for i, x in enumerate(f) if x >= 1]\n",
    "    s = [i+1 for i, x in enumerate(f) if x <= 1]\n",
    "    \n",
    "    while len(s) > 0:  # and len(g) > 0\n",
    "        ## To make sure that indices are integers\n",
    "        i = int(g[0])\n",
    "        j = int(s[0])\n",
    "        \n",
    "        l[j-1] = i\n",
    "        f[i-1] = f[i-1] - (1 - f[j-1])\n",
    "        if f[i-1] < 1 - 0.000001:\n",
    "            del g[0]\n",
    "            s = s + [i]\n",
    "        del s[0]\n",
    "    \n",
    "    return f, l"
   ]
  },
  {
   "cell_type": "code",
   "execution_count": null,
   "metadata": {},
   "outputs": [],
   "source": [
    "p = [0.1, 0.1, 0.2, 0.4, 0.1, 0.1]\n",
    "# p = [7/16, 1/4, 1/8, 3/16]\n",
    "# p = [7/16, 0.5, 1/16]\n",
    "# p = [17/96, 1/12, 1/3, 1/4, 1/24, 11/96]\n",
    "f, l = set_alias_direct(p)\n",
    "print(f)\n",
    "print(l)"
   ]
  },
  {
   "cell_type": "code",
   "execution_count": null,
   "metadata": {},
   "outputs": [],
   "source": [
    "def run_alias_direct(f, l):\n",
    "    k = len(f)\n",
    "    i = rd.randint(1, k)\n",
    "    if rd.random() <= f[i-1]:\n",
    "        x = i\n",
    "    else:\n",
    "        x = l[i-1]\n",
    "    return x"
   ]
  },
  {
   "cell_type": "code",
   "execution_count": null,
   "metadata": {
    "scrolled": true
   },
   "outputs": [],
   "source": [
    "def exam_run_alias_direct():\n",
    "    num_sim = 10000\n",
    "    p = [0.1, 0.1, 0.2, 0.4, 0.1, 0.1]\n",
    "#     p = [7/16, 1/4, 1/8, 3/16]\n",
    "#     p = [7/16, 0.5, 1/16]\n",
    "#     p = [1/4, 1/2, 1/4]\n",
    "#     p = [17/96, 1/12, 1/3, 1/4, 1/24, 11/96]\n",
    "    n = len(p)\n",
    "    f, l = set_alias_direct(p)\n",
    "    \n",
    "    xs = [run_alias_direct(f, l) for s in range(num_sim)]\n",
    "    p_sample = [xs.count(s) / num_sim for s in range(1, n+1)]\n",
    "    \n",
    "    ## Start plotting.\n",
    "    labels = [l for l in range(1, n+1)]\n",
    "\n",
    "    x = np.arange(len(labels))  # the label locations\n",
    "    width = 0.35  # the width of the bars\n",
    "\n",
    "    fig, ax = plt.subplots()\n",
    "    rects1 = ax.bar(x - width/2, p, width, label='given')\n",
    "    rects2 = ax.bar(x + width/2, p_sample, width, label='sample')\n",
    "\n",
    "    # Add some text for labels, title and custom x-axis tick labels, etc.\n",
    "    ax.set_ylabel('Probability')\n",
    "    ax.set_title('Given Probabilities and Probabilities from Samples')\n",
    "    ax.set_xticks(x)\n",
    "    ax.set_xticklabels(labels)\n",
    "    ax.legend()\n",
    "\n",
    "\n",
    "    def autolabel(rects):\n",
    "        \"\"\"Attach a text label above each bar in *rects*, displaying its height.\"\"\"\n",
    "        for rect in rects:\n",
    "            height = rect.get_height()\n",
    "            ax.annotate('{}'.format(height),\n",
    "                xy=(rect.get_x() + rect.get_width() / 2, height),\n",
    "                xytext=(0, 3),  # 3 points vertical offset\n",
    "                textcoords=\"offset points\",\n",
    "                ha='center', va='bottom')\n",
    "\n",
    "\n",
    "    autolabel(rects1)\n",
    "    autolabel(rects2)\n",
    "\n",
    "    fig.tight_layout()\n",
    "\n",
    "    plt.show()\n",
    "\n",
    "\n",
    "exam_run_alias_direct()"
   ]
  },
  {
   "cell_type": "code",
   "execution_count": null,
   "metadata": {
    "scrolled": false
   },
   "outputs": [],
   "source": [
    "num_sim = 10000\n",
    "p = [17/96, 1/12, 1/3, 1/4, 1/24, 11/96]\n",
    "f, l = set_alias_direct(p)\n",
    "\n",
    "xs = [run_alias_direct(f, l) for s in range(num_sim)]\n",
    "li_count = [xs.count(l) for l in range(1, n+1)]\n",
    "\n",
    "li_cdf = pmf2pdf(p)\n",
    "stat = cal_stat_gof(li_count, li_cdf)\n",
    "pvalue = cal_pvalue_chi2(stat, df=5)\n",
    "test_dist(pvalue)"
   ]
  }
 ],
 "metadata": {
  "kernelspec": {
   "display_name": "Python 3",
   "language": "python",
   "name": "python3"
  },
  "language_info": {
   "codemirror_mode": {
    "name": "ipython",
    "version": 3
   },
   "file_extension": ".py",
   "mimetype": "text/x-python",
   "name": "python",
   "nbconvert_exporter": "python",
   "pygments_lexer": "ipython3",
   "version": "3.7.6"
  }
 },
 "nbformat": 4,
 "nbformat_minor": 2
}
