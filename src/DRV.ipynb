{
 "cells": [
  {
   "cell_type": "markdown",
   "metadata": {},
   "source": [
    "\n",
    "# Stochastic Simulation: Discrete Random Variable (DRV)"
   ]
  },
  {
   "cell_type": "code",
   "execution_count": 2,
   "metadata": {},
   "outputs": [
    {
     "name": "stdout",
     "output_type": "stream",
     "text": [
      "`TidySimStat.py` by Edward J. Xu is imported. Last modifed date is June 1, 2020.\n"
     ]
    }
   ],
   "source": [
    "import math\n",
    "import pandas as pd\n",
    "import numpy as np\n",
    "from matplotlib import pyplot as plt\n",
    "import scipy.stats as st\n",
    "import random as rd\n",
    "from operator import add\n",
    "\n",
    "import TidySimStat as tss"
   ]
  },
  {
   "cell_type": "markdown",
   "metadata": {},
   "source": [
    "## 1. Inverse Transform Method / Direct Method / Crude Method"
   ]
  },
  {
   "cell_type": "markdown",
   "metadata": {},
   "source": [
    "## 2. Rejection Method / Acceptance-Rejection Method"
   ]
  },
  {
   "cell_type": "code",
   "execution_count": 2,
   "metadata": {},
   "outputs": [],
   "source": [
    "help(sim_drv_reject)"
   ]
  },
  {
   "cell_type": "code",
   "execution_count": 3,
   "metadata": {},
   "outputs": [],
   "source": [
    "def exam_sim_reject():\n",
    "    fq = rd.randint(0, 10)"
   ]
  },
  {
   "cell_type": "code",
   "execution_count": 4,
   "metadata": {},
   "outputs": [],
   "source": [
    "def pmf_q_uniform(j:int):\n",
    "    if j < 0 or type(j) is not int:\n",
    "        raise Exception(\"j must be a non-negative integer!\")\n",
    "    elif j <= 9:\n",
    "        pm = 0.1\n",
    "    else:\n",
    "        pm = 0\n",
    "    return pm"
   ]
  },
  {
   "cell_type": "markdown",
   "metadata": {},
   "source": [
    "## 2. Alias Method"
   ]
  },
  {
   "cell_type": "code",
   "execution_count": 5,
   "metadata": {},
   "outputs": [],
   "source": [
    "help(tss.check_posi_pmf)"
   ]
  },
  {
   "cell_type": "code",
   "execution_count": 6,
   "metadata": {
    "scrolled": true
   },
   "outputs": [
    {
     "name": "stdout",
     "output_type": "stream",
     "text": [
      "The input is a 5-point positive PMF.\n"
     ]
    }
   ],
   "source": [
    "li = [0.39, 0.2, 0.2, 0.2, 0.01]\n",
    "check_posi_pmf(li, False)"
   ]
  },
  {
   "cell_type": "code",
   "execution_count": 8,
   "metadata": {},
   "outputs": [],
   "source": [
    "help(tss.find_ij)"
   ]
  },
  {
   "cell_type": "code",
   "execution_count": 9,
   "metadata": {},
   "outputs": [],
   "source": [
    "help(tss.set_alias)"
   ]
  },
  {
   "cell_type": "code",
   "execution_count": 10,
   "metadata": {
    "scrolled": true
   },
   "outputs": [
    {
     "name": "stdout",
     "output_type": "stream",
     "text": [
      "        1     2      3       4  i  j\n",
      "1  0.2500  0.75  0.000  0.0000  2  1\n",
      "2  0.6250  0.00  0.375  0.0000  3  1\n",
      "3  0.4375  0.00  0.000  0.5625  1  4\n"
     ]
    }
   ],
   "source": [
    "def exam_set_alias():\n",
    "#     p = [7/16, 0.5, 1/16]\n",
    "    p = [7/16, 1/4, 1/8, 3/16]\n",
    "#     p = [0.1, 0.1, 0.2, 0.4, 0.1, 0.1]\n",
    "#     p = [0.2, 0.2, 0.2, 0.2, 0.2]\n",
    "    alias = set_alias(p)\n",
    "    print(alias)\n",
    "    \n",
    "    \n",
    "exam_set_alias()"
   ]
  },
  {
   "cell_type": "code",
   "execution_count": 11,
   "metadata": {},
   "outputs": [],
   "source": [
    "help(tss.run_alias)"
   ]
  },
  {
   "cell_type": "code",
   "execution_count": 12,
   "metadata": {
    "scrolled": true
   },
   "outputs": [
    {
     "data": {
      "image/png": "[encoded data removed]",
      "text/plain": [
       "<Figure size 432x288 with 1 Axes>"
      ]
     },
     "metadata": {
      "needs_background": "light"
     },
     "output_type": "display_data"
    }
   ],
   "source": [
    "def exam_run_alias():\n",
    "    num_sim = 10000\n",
    "#     p = [7/16, 1/4, 1/8, 3/16]\n",
    "    p = [0.1, 0.1, 0.2, 0.4, 0.1, 0.1]\n",
    "    n = len(p)\n",
    "    alias = set_alias(p)\n",
    "    \n",
    "    xs = [run_alias(alias) for l in range(num_sim)]\n",
    "    p_sample = [xs.count(l) / num_sim for l in range(1, n+1)]\n",
    "    \n",
    "    ## Start plotting.\n",
    "    labels = [l for l in range(1, n+1)]\n",
    "\n",
    "    x = np.arange(len(labels))  # the label locations\n",
    "    width = 0.35  # the width of the bars\n",
    "\n",
    "    fig, ax = plt.subplots()\n",
    "    rects1 = ax.bar(x - width/2, p, width, label='given')\n",
    "    rects2 = ax.bar(x + width/2, p_sample, width, label='sample')\n",
    "\n",
    "    # Add some text for labels, title and custom x-axis tick labels, etc.\n",
    "    ax.set_ylabel('Probability')\n",
    "    ax.set_title('Given Probabilities and Probabilities from Samples')\n",
    "    ax.set_xticks(x)\n",
    "    ax.set_xticklabels(labels)\n",
    "    ax.legend()\n",
    "\n",
    "\n",
    "    def autolabel(rects):\n",
    "        \"\"\"Attach a text label above each bar in *rects*, displaying its height.\"\"\"\n",
    "        for rect in rects:\n",
    "            height = rect.get_height()\n",
    "            ax.annotate('{}'.format(height),\n",
    "                xy=(rect.get_x() + rect.get_width() / 2, height),\n",
    "                xytext=(0, 3),  # 3 points vertical offset\n",
    "                textcoords=\"offset points\",\n",
    "                ha='center', va='bottom')\n",
    "\n",
    "\n",
    "    autolabel(rects1)\n",
    "    autolabel(rects2)\n",
    "\n",
    "    fig.tight_layout()\n",
    "\n",
    "    plt.show()\n",
    "\n",
    "\n",
    "exam_run_alias()"
   ]
  },
  {
   "cell_type": "markdown",
   "metadata": {},
   "source": [
    "## 3. Chi-Squared Goodness-of-Fit Test of Samples"
   ]
  },
  {
   "cell_type": "code",
   "execution_count": 13,
   "metadata": {},
   "outputs": [],
   "source": [
    "help(test_dist)"
   ]
  },
  {
   "cell_type": "markdown",
   "metadata": {},
   "source": [
    "The function `cal_stat_gof` is a bit different from that in `RNG.ipynb`"
   ]
  },
  {
   "cell_type": "code",
   "execution_count": 14,
   "metadata": {},
   "outputs": [],
   "source": [
    "def cal_stat_gof(li_count, li_cdf):\n",
    "    \"\"\"Calculate the statistic in Goodness of Fit test.\"\"\"\n",
    "    li_p = [li_cdf[0]] + [li_cdf[i] - li_cdf[i-1] for i in range(1, len(li_cdf))]\n",
    "    n = sum(li_count)\n",
    "    k = len(li_p)\n",
    "    stat = sum( [(li_count[i] - n * li_p[i])**2 / n / li_p[i] for i in range(k)] )\n",
    "    print(f\"Chi-squared goodness of fit test: {stat:.4f}.\")\n",
    "    \n",
    "    return stat"
   ]
  },
  {
   "cell_type": "code",
   "execution_count": 15,
   "metadata": {},
   "outputs": [],
   "source": [
    "def cal_pvalue_chi2(stat, df):\n",
    "    \"\"\"Calculate the pvalue of two-sided t-test using Chi-Square distribution.\"\"\"\n",
    "    pvalue = 1 - st.chi2.cdf(stat, df)\n",
    "    print(f\"The input stat: {stat:.4f}. \\n\"\n",
    "        f\"The p value from Chi-Square distribution: {pvalue:.4f}.\")\n",
    "    return pvalue"
   ]
  },
  {
   "cell_type": "code",
   "execution_count": 16,
   "metadata": {
    "scrolled": true
   },
   "outputs": [
    {
     "name": "stdout",
     "output_type": "stream",
     "text": [
      "Chi-squared goodness of fit test: 6.2420.\n",
      "The input stat: 6.2420. \n",
      "The p value from Chi-Square distribution: 0.2834.\n",
      "Null hypothesis: two populations have the same distribution. \n",
      "The input p value is 0.2834. \n",
      "Is the p value smaller than 0.05? False. \n",
      "If reject the null hypothesis? False. \n",
      "If from the same distribution? True. \n",
      "\n"
     ]
    }
   ],
   "source": [
    "num_sim = 10000\n",
    "#     p = [7/16, 1/4, 1/8, 3/16]\n",
    "p = [0.1, 0.1, 0.2, 0.4, 0.1, 0.1]\n",
    "n = len(p)\n",
    "alias = set_alias(p)\n",
    "\n",
    "xs = [run_alias(alias) for l in range(num_sim)]\n",
    "li_count = [xs.count(l) for l in range(1, n+1)]\n",
    "\n",
    "li_cdf = [0.1, 0.2, 0.4, 0.8, 0.9, 1]\n",
    "stat = cal_stat_gof(li_count, li_cdf)\n",
    "pvalue = cal_pvalue_chi2(stat, df=5)\n",
    "test_dist(pvalue)"
   ]
  },
  {
   "cell_type": "markdown",
   "metadata": {},
   "source": [
    "## Alias Method by the Teacher"
   ]
  },
  {
   "cell_type": "code",
   "execution_count": 17,
   "metadata": {},
   "outputs": [],
   "source": [
    "def set_alias_direct(p):\n",
    "    k = len(p)\n",
    "    l = [x for x in range(1, k+1)]\n",
    "    f = [k * x for x in p]\n",
    "    g = [i+1 for i, x in enumerate(f) if x >= 1]\n",
    "    s = [i+1 for i, x in enumerate(f) if x <= 1]\n",
    "    \n",
    "    while len(s) > 0:  # and len(g) > 0\n",
    "        ## To make sure that indices are integers\n",
    "        i = int(g[0])\n",
    "        j = int(s[0])\n",
    "        \n",
    "        l[j-1] = i\n",
    "        f[i-1] = f[i-1] - (1 - f[j-1])\n",
    "        if f[i-1] < 1 - 0.000001:\n",
    "            del g[0]\n",
    "            s = s + [i]\n",
    "        del s[0]\n",
    "    \n",
    "    return f, l"
   ]
  },
  {
   "cell_type": "code",
   "execution_count": 18,
   "metadata": {},
   "outputs": [
    {
     "name": "stdout",
     "output_type": "stream",
     "text": [
      "[0.6000000000000001, 0.6000000000000001, 0.8000000000000003, 1.0000000000000009, 0.6000000000000001, 0.6000000000000001]\n",
      "[3, 4, 4, 4, 4, 4]\n"
     ]
    }
   ],
   "source": [
    "p = [0.1, 0.1, 0.2, 0.4, 0.1, 0.1]\n",
    "# p = [7/16, 1/4, 1/8, 3/16]\n",
    "# p = [7/16, 0.5, 1/16]\n",
    "# p = [17/96, 1/12, 1/3, 1/4, 1/24, 11/96]\n",
    "f, l = set_alias_direct(p)\n",
    "print(f)\n",
    "print(l)"
   ]
  },
  {
   "cell_type": "code",
   "execution_count": 19,
   "metadata": {},
   "outputs": [],
   "source": [
    "def run_alias_direct(f, l):\n",
    "    k = len(f)\n",
    "    i = rd.randint(1, k)\n",
    "    if rd.random() <= f[i-1]:\n",
    "        x = i\n",
    "    else:\n",
    "        x = l[i-1]\n",
    "    return x"
   ]
  },
  {
   "cell_type": "code",
   "execution_count": 20,
   "metadata": {
    "scrolled": true
   },
   "outputs": [
    {
     "data": {
      "image/png": "[encoded data removed]",
      "text/plain": [
       "<Figure size 432x288 with 1 Axes>"
      ]
     },
     "metadata": {
      "needs_background": "light"
     },
     "output_type": "display_data"
    }
   ],
   "source": [
    "def exam_run_alias_direct():\n",
    "    num_sim = 10000\n",
    "    p = [0.1, 0.1, 0.2, 0.4, 0.1, 0.1]\n",
    "#     p = [7/16, 1/4, 1/8, 3/16]\n",
    "#     p = [7/16, 0.5, 1/16]\n",
    "#     p = [1/4, 1/2, 1/4]\n",
    "#     p = [17/96, 1/12, 1/3, 1/4, 1/24, 11/96]\n",
    "    n = len(p)\n",
    "    f, l = set_alias_direct(p)\n",
    "    \n",
    "    xs = [run_alias_direct(f, l) for s in range(num_sim)]\n",
    "    p_sample = [xs.count(s) / num_sim for s in range(1, n+1)]\n",
    "    \n",
    "    ## Start plotting.\n",
    "    labels = [l for l in range(1, n+1)]\n",
    "\n",
    "    x = np.arange(len(labels))  # the label locations\n",
    "    width = 0.35  # the width of the bars\n",
    "\n",
    "    fig, ax = plt.subplots()\n",
    "    rects1 = ax.bar(x - width/2, p, width, label='given')\n",
    "    rects2 = ax.bar(x + width/2, p_sample, width, label='sample')\n",
    "\n",
    "    # Add some text for labels, title and custom x-axis tick labels, etc.\n",
    "    ax.set_ylabel('Probability')\n",
    "    ax.set_title('Given Probabilities and Probabilities from Samples')\n",
    "    ax.set_xticks(x)\n",
    "    ax.set_xticklabels(labels)\n",
    "    ax.legend()\n",
    "\n",
    "\n",
    "    def autolabel(rects):\n",
    "        \"\"\"Attach a text label above each bar in *rects*, displaying its height.\"\"\"\n",
    "        for rect in rects:\n",
    "            height = rect.get_height()\n",
    "            ax.annotate('{}'.format(height),\n",
    "                xy=(rect.get_x() + rect.get_width() / 2, height),\n",
    "                xytext=(0, 3),  # 3 points vertical offset\n",
    "                textcoords=\"offset points\",\n",
    "                ha='center', va='bottom')\n",
    "\n",
    "\n",
    "    autolabel(rects1)\n",
    "    autolabel(rects2)\n",
    "\n",
    "    fig.tight_layout()\n",
    "\n",
    "    plt.show()\n",
    "\n",
    "\n",
    "exam_run_alias_direct()"
   ]
  },
  {
   "cell_type": "code",
   "execution_count": 21,
   "metadata": {},
   "outputs": [],
   "source": [
    "def pmf2pdf(pmf):\n",
    "    k = len(pmf)\n",
    "    pdf = [pmf[0] for i in range(k)]\n",
    "    for i in range(1, k):\n",
    "        pdf[i] = pmf[i] + pdf[i-1]\n",
    "    return pdf"
   ]
  },
  {
   "cell_type": "code",
   "execution_count": 22,
   "metadata": {
    "scrolled": false
   },
   "outputs": [
    {
     "name": "stdout",
     "output_type": "stream",
     "text": [
      "Chi-squared goodness of fit test: 4.3183.\n",
      "The input stat: 4.3183. \n",
      "The p value from Chi-Square distribution: 0.5046.\n",
      "Null hypothesis: two populations have the same distribution. \n",
      "The input p value is 0.5046. \n",
      "Is the p value smaller than 0.05? False. \n",
      "If reject the null hypothesis? False. \n",
      "If from the same distribution? True. \n",
      "\n"
     ]
    }
   ],
   "source": [
    "num_sim = 10000\n",
    "p = [17/96, 1/12, 1/3, 1/4, 1/24, 11/96]\n",
    "f, l = set_alias_direct(p)\n",
    "\n",
    "xs = [run_alias_direct(f, l) for s in range(num_sim)]\n",
    "li_count = [xs.count(l) for l in range(1, n+1)]\n",
    "\n",
    "li_cdf = pmf2pdf(p)\n",
    "stat = cal_stat_gof(li_count, li_cdf)\n",
    "pvalue = cal_pvalue_chi2(stat, df=5)\n",
    "test_dist(pvalue)"
   ]
  }
 ],
 "metadata": {
  "kernelspec": {
   "display_name": "Python 3",
   "language": "python",
   "name": "python3"
  },
  "language_info": {
   "codemirror_mode": {
    "name": "ipython",
    "version": 3
   },
   "file_extension": ".py",
   "mimetype": "text/x-python",
   "name": "python",
   "nbconvert_exporter": "python",
   "pygments_lexer": "ipython3",
   "version": "3.7.6"
  }
 },
 "nbformat": 4,
 "nbformat_minor": 2
}
