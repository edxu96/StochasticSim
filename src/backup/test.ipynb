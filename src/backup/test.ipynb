{
 "cells": [
  {
   "cell_type": "code",
   "execution_count": 1,
   "metadata": {},
   "outputs": [
    {
     "name": "stdout",
     "output_type": "stream",
     "text": [
      "`TidySimStat.py` by Edward J. Xu is imported. Copyright all reserved. \n",
      "Last modifed date is June 2, 2020.\n",
      "`TidySimStat.py` by Edward J. Xu is imported. Copyright all reserved. \n",
      "Last modifed date is June 2, 2020.\n"
     ]
    }
   ],
   "source": [
    "import math\n",
    "import pandas as pd\n",
    "import numpy as np\n",
    "from matplotlib import pyplot as plt\n",
    "import scipy.stats as st\n",
    "import random as rd\n",
    "from importlib import reload  \n",
    "\n",
    "import TidySimStat as tss\n",
    "tss = reload(tss)"
   ]
  },
  {
   "cell_type": "code",
   "execution_count": 9,
   "metadata": {},
   "outputs": [],
   "source": [
    "pmf = [0.05, 0.1596, 0.2312, 0.2237, 0.1622, 0.1733]  # 0.1733\n",
    "counts = [6, 2, 1, 9, 7, 5]"
   ]
  },
  {
   "cell_type": "code",
   "execution_count": 10,
   "metadata": {},
   "outputs": [
    {
     "data": {
      "text/plain": [
       "21.927823086175103"
      ]
     },
     "execution_count": 10,
     "metadata": {},
     "output_type": "execute_result"
    }
   ],
   "source": [
    "stat = tss.cal_stat_gof(counts, pmf)\n",
    "stat"
   ]
  },
  {
   "cell_type": "code",
   "execution_count": 6,
   "metadata": {},
   "outputs": [
    {
     "data": {
      "text/plain": [
       "0.000525713417528717"
      ]
     },
     "execution_count": 6,
     "metadata": {},
     "output_type": "execute_result"
    }
   ],
   "source": [
    "tss.cal_pvalue_chi2(19.887, df=4)"
   ]
  },
  {
   "cell_type": "code",
   "execution_count": 11,
   "metadata": {},
   "outputs": [
    {
     "data": {
      "text/plain": [
       "Power_divergenceResult(statistic=21.927823086175103, pvalue=0.000540400515414928)"
      ]
     },
     "execution_count": 11,
     "metadata": {},
     "output_type": "execute_result"
    }
   ],
   "source": [
    "counts_exp = [i * 30 for i in pmf]\n",
    "st.chisquare(counts, counts_exp)"
   ]
  },
  {
   "cell_type": "code",
   "execution_count": 78,
   "metadata": {},
   "outputs": [],
   "source": [
    "def cal_pvalue_gof(stat:float, counts:list, pmf:list, n:int, num_sim:int=1000):\n",
    "    k = len(pmf)\n",
    "    xk = [i for i in range(k)]\n",
    "    custm = st.rv_discrete(name='custm', values=(xk, pmf))\n",
    "\n",
    "#     def cal_t():\n",
    "#         samples = custm.rvs(size=n).tolist()\n",
    "#         counts_star = [samples.count(i) for i in range(k)]\n",
    "# #         print(counts_star)\n",
    "#         t = sum([(counts[i] - counts_star[i])**2 / counts_star[i]\n",
    "#             for i in range(k)])\n",
    "#         return t\n",
    "\n",
    "    def cal_t():\n",
    "        samples = custm.rvs(size=n).tolist()\n",
    "        counts = [samples.count(i) for i in range(k)]\n",
    "        t = sum([(counts[i] - n * pmf[i])**2 / n / pmf[i]\n",
    "            for i in range(k)])\n",
    "        return t\n",
    "\n",
    "    ts = [cal_t() for j in range(num_sim)]\n",
    "#     print(ts)\n",
    "\n",
    "    pvalue = sum([t >= stat for t in ts]) / num_sim\n",
    "    return pvalue"
   ]
  },
  {
   "cell_type": "code",
   "execution_count": 92,
   "metadata": {},
   "outputs": [
    {
     "data": {
      "text/plain": [
       "0.0019"
      ]
     },
     "execution_count": 92,
     "metadata": {},
     "output_type": "execute_result"
    }
   ],
   "source": [
    "rd.seed(123)\n",
    "cal_pvalue_gof(stat, counts, pmf, 30, 10000)"
   ]
  },
  {
   "cell_type": "code",
   "execution_count": 84,
   "metadata": {},
   "outputs": [
    {
     "data": {
      "text/plain": [
       "[1, 2, 1, 4, 3, 1, 3, 4, 5, 5, 3, 5, 5, 5, 4, 4, 1, 2, 1, 3]"
      ]
     },
     "execution_count": 84,
     "metadata": {},
     "output_type": "execute_result"
    }
   ],
   "source": [
    "f, l = tss.set_alias_direct([0.2, 0.2, 0.2, 0.2, 0.2])\n",
    "[tss.run_alias_direct(f, l) for i in range(20)]"
   ]
  },
  {
   "cell_type": "code",
   "execution_count": 93,
   "metadata": {},
   "outputs": [],
   "source": [
    "def cal_pvalue_gof(stat:float, pmf:list, n:int, num_sim:int=1000):\n",
    "    f, l = tss.set_alias_direct(pmf)\n",
    "    k = len(pmf)\n",
    "\n",
    "    def cal_t():\n",
    "        samples = [tss.run_alias_direct(f, l) for i in range(n)]\n",
    "        counts = [samples.count(i+1) for i in range(k)]\n",
    "        t = sum([(counts[i] - n * pmf[i])**2 / n / pmf[i]\n",
    "            for i in range(k)])\n",
    "        return t\n",
    "\n",
    "    ts = [cal_t() for j in range(num_sim)]\n",
    "#     print(ts)\n",
    "\n",
    "    pvalue = sum([t >= stat for t in ts]) / num_sim\n",
    "    return pvalue"
   ]
  },
  {
   "cell_type": "code",
   "execution_count": 94,
   "metadata": {},
   "outputs": [
    {
     "data": {
      "text/plain": [
       "0.0019"
      ]
     },
     "execution_count": 94,
     "metadata": {},
     "output_type": "execute_result"
    }
   ],
   "source": [
    "rd.seed(123)\n",
    "cal_pvalue_gof(stat, pmf, 30, 10000)"
   ]
  },
  {
   "cell_type": "code",
   "execution_count": 96,
   "metadata": {},
   "outputs": [
    {
     "data": {
      "text/plain": [
       "0.07024988780758834"
      ]
     },
     "execution_count": 96,
     "metadata": {},
     "output_type": "execute_result"
    }
   ],
   "source": [
    "stat = (15.5 - 11.667) / math.sqrt(4.4831)\n",
    "2 * (1 - st.norm.cdf(stat, 0, 1))"
   ]
  },
  {
   "cell_type": "code",
   "execution_count": null,
   "metadata": {},
   "outputs": [],
   "source": []
  }
 ],
 "metadata": {
  "kernelspec": {
   "display_name": "Python 3",
   "language": "python",
   "name": "python3"
  },
  "language_info": {
   "codemirror_mode": {
    "name": "ipython",
    "version": 3
   },
   "file_extension": ".py",
   "mimetype": "text/x-python",
   "name": "python",
   "nbconvert_exporter": "python",
   "pygments_lexer": "ipython3",
   "version": "3.7.6"
  }
 },
 "nbformat": 4,
 "nbformat_minor": 2
}
