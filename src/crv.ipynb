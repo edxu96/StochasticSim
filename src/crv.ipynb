{
 "cells": [
  {
   "cell_type": "markdown",
   "metadata": {},
   "source": [
    "# Stochastic Simulation: Continuous Random Variable"
   ]
  },
  {
   "cell_type": "code",
   "execution_count": 5,
   "metadata": {},
   "outputs": [],
   "source": [
    "import math\n",
    "import pandas as pd\n",
    "import numpy as np\n",
    "from matplotlib import pyplot as plt\n",
    "import scipy.stats as st\n",
    "import random as rd\n",
    "import statsmodels.api as sm\n",
    "from typing import Union\n",
    "\n",
    "import TidySimStat as tss\n",
    "\n",
    "# from importlib import reload  \n",
    "# tss = reload(tss)"
   ]
  },
  {
   "cell_type": "code",
   "execution_count": 14,
   "metadata": {},
   "outputs": [],
   "source": [
    "def analyse_sim_pareto(k, beta=1, n:int=1000):\n",
    "    sample = [tss.sim_pareto(beta=beta, k=k) for i in range(n)]\n",
    "    mean_sample = tss.cal_mean_sample(sample)\n",
    "    var_sample = tss.cal_var_sample(sample)\n",
    "    \n",
    "    expect = beta * k / (k-1) \n",
    "    var = beta**2 * k / (k-1)**2 / (k-2)\n",
    "    \n",
    "    return expect, mean_sample, var, var_sample"
   ]
  },
  {
   "cell_type": "code",
   "execution_count": 15,
   "metadata": {},
   "outputs": [
    {
     "data": {
      "text/plain": [
       "(1.9523809523809526, 1.9753188597996827, 37.18820861678019, 3.3081765044285287)"
      ]
     },
     "execution_count": 15,
     "metadata": {},
     "output_type": "execute_result"
    }
   ],
   "source": [
    "analyse_sim_pareto(2.05)"
   ]
  },
  {
   "cell_type": "code",
   "execution_count": 16,
   "metadata": {},
   "outputs": [
    {
     "data": {
      "text/plain": [
       "(1.6666666666666667,\n",
       " 1.6469595386628426,\n",
       " 2.2222222222222223,\n",
       " 1.0865825851650668)"
      ]
     },
     "execution_count": 16,
     "metadata": {},
     "output_type": "execute_result"
    }
   ],
   "source": [
    "analyse_sim_pareto(2.5)"
   ]
  },
  {
   "cell_type": "code",
   "execution_count": 17,
   "metadata": {},
   "outputs": [
    {
     "data": {
      "text/plain": [
       "(1.5, 1.485293619967576, 0.75, 0.6342626291316938)"
      ]
     },
     "execution_count": 17,
     "metadata": {},
     "output_type": "execute_result"
    }
   ],
   "source": [
    "analyse_sim_pareto(3)"
   ]
  },
  {
   "cell_type": "code",
   "execution_count": 18,
   "metadata": {},
   "outputs": [
    {
     "data": {
      "text/plain": [
       "(1.3333333333333333,\n",
       " 1.3181578981641275,\n",
       " 0.2222222222222222,\n",
       " 0.18235927629348658)"
      ]
     },
     "execution_count": 18,
     "metadata": {},
     "output_type": "execute_result"
    }
   ],
   "source": [
    "analyse_sim_pareto(4)"
   ]
  },
  {
   "cell_type": "code",
   "execution_count": null,
   "metadata": {},
   "outputs": [],
   "source": []
  }
 ],
 "metadata": {
  "kernelspec": {
   "display_name": "Python 3",
   "language": "python",
   "name": "python3"
  },
  "language_info": {
   "codemirror_mode": {
    "name": "ipython",
    "version": 3
   },
   "file_extension": ".py",
   "mimetype": "text/x-python",
   "name": "python",
   "nbconvert_exporter": "python",
   "pygments_lexer": "ipython3",
   "version": "3.7.6"
  }
 },
 "nbformat": 4,
 "nbformat_minor": 2
}
