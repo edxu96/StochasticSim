{
 "cells": [
  {
   "cell_type": "code",
   "execution_count": 76,
   "metadata": {
    "scrolled": true
   },
   "outputs": [
    {
     "name": "stdout",
     "output_type": "stream",
     "text": [
      "`TidySimStat.py` by Edward J. Xu is imported. Copyright all reserved. \n",
      "Last modifed date is June 2, 2020.\n"
     ]
    }
   ],
   "source": [
    "import math\n",
    "import pandas as pd\n",
    "import numpy as np\n",
    "from matplotlib import pyplot as plt\n",
    "import scipy.stats as st\n",
    "import random as rd\n",
    "from importlib import reload  \n",
    "import statsmodels.api as sm\n",
    "from typing import Union\n",
    "\n",
    "import TidySimStat as tss\n",
    "tss = reload(tss)"
   ]
  },
  {
   "cell_type": "code",
   "execution_count": 51,
   "metadata": {},
   "outputs": [],
   "source": [
    "\n",
    "class Node:\n",
    "\n",
    "    def __init__(self, index):\n",
    "        self._index = index\n",
    "        self._next = None\n",
    "\n",
    "\n",
    "class Head:\n",
    "\n",
    "    def __init__(self):\n",
    "        \"Initiate an empty linked list.\"\n",
    "        self._next = None\n",
    "\n",
    "    def insert(self, node_new):\n",
    "        \"Insert the given node according to indices.\"\n",
    "        if self.last._index <= node_new._index:\n",
    "            ## If the index of the last node is smaller than the index of the\n",
    "            ## given node, there is no need to check all nodes.\n",
    "            self.last._next = node_new\n",
    "        else:\n",
    "            cur = self._next\n",
    "            while True:\n",
    "                if cur._next._index < node_new._index:\n",
    "                    cur = cur._next\n",
    "                else:\n",
    "                    node_new._next = cur._next\n",
    "                    cur._next = node_new\n",
    "                    break\n",
    "\n",
    "    def undock(self):\n",
    "        \"\"\"Undock the first node and return it. The second node become the\n",
    "        first one.\"\"\"\n",
    "        undocked = self._next\n",
    "        self._next = self._next._next\n",
    "\n",
    "        return undocked\n",
    "\n",
    "    def collect(self):\n",
    "        cur = self._next\n",
    "        dict_indices = {}\n",
    "        i = 0\n",
    "        while cur:\n",
    "            dict_indices[i] = cur._index\n",
    "            cur = cur._next\n",
    "            i += 1\n",
    "        n = len(dict_indices)\n",
    "        indices = [dict_indices[i] for i in range(n)]\n",
    "        return indices\n",
    "\n",
    "    @property\n",
    "    def last(self):\n",
    "        cur = self._next\n",
    "        while cur._next:\n",
    "            cur = cur._next\n",
    "        return cur\n",
    "\n",
    "\n",
    "class Arrival(Node):\n",
    "\n",
    "    def __init__(self, time:float):\n",
    "        super().__init__(time)\n",
    "        self.whe_block = 0\n",
    "        self._next_arrived = None\n",
    "\n",
    "\n",
    "class Leave(Node):\n",
    "\n",
    "    def __init__(self, time:float, whi_server:int):\n",
    "        super().__init__(time)\n",
    "        self.whi_server = whi_server\n",
    "        self._arrival = None\n",
    "\n",
    "\n",
    "class Servers(Head):\n",
    "\n",
    "    def __init__(self, f_serve, f_arrive, num:int=5):\n",
    "        \"\"\"Queueing system modelled by linked lists.\n",
    "\n",
    "        Notes\n",
    "        =====\n",
    "        There is no waiting room in this setting.\n",
    "        \"\"\"\n",
    "        if not callable(f_serve):\n",
    "            raise ValueError(\"Function to simulate service time is \"\n",
    "                \"not callable.\")\n",
    "        if not callable(f_arrive):\n",
    "            raise ValueError(\"Function to simulate arrival sojourn time is \"\n",
    "                \"not callable.\")\n",
    "\n",
    "        super().__init__()\n",
    "        self.states = [0 for i in range(num)]\n",
    "        self.num_arrival = 0\n",
    "        self.num_block = 0\n",
    "        self.f_serve = f_serve\n",
    "        self.f_arrive = f_arrive\n",
    "        self.clock = 0\n",
    "        self.arriveds = {0: None}\n",
    "\n",
    "        self.warmup()\n",
    "\n",
    "    def warmup(self):\n",
    "        \"\"\"Warm up the scheduled arrivals.\n",
    "\n",
    "        Notes\n",
    "        =====\n",
    "        There is no need to schedule multiple arrivals in warming up stage.\n",
    "        \"\"\"\n",
    "        t = self.f_arrive()\n",
    "        self._next = Arrival(t)\n",
    "\n",
    "        ## An arbitrage `Arrival` must be added, or there is no way to build\n",
    "        ## a linked list for\n",
    "        # self._next_arrived = Arrival(0)\n",
    "\n",
    "    def schedule_arrival(self):\n",
    "        \"\"\"Schedule a new arrival, insert it to the event list, and return\n",
    "        the index.\n",
    "        \"\"\"\n",
    "        new = Arrival(time=self._next._index + self.f_arrive())\n",
    "        self.insert(new)\n",
    "        return new\n",
    "\n",
    "    def schedule_leave(self, whi_server):\n",
    "        new = Leave(self._next._index + self.f_serve(), whi_server)\n",
    "        self.insert(new)\n",
    "        return new\n",
    "\n",
    "    def arrive(self):\n",
    "        \"Event routine triggered when a new customer arrives.\"\n",
    "        self.num_arrival += 1\n",
    "        whi_server = self.first_idle + 0\n",
    "        if whi_server == self.num:  # There is no idle server.\n",
    "            ## If the customer is blocked, there is no need to set a\n",
    "            ## `leave` event.\n",
    "            self.num_block += 1\n",
    "            self._next.whe_block = 1\n",
    "        else:\n",
    "            ## To assign the customer to the first idle server and simulate\n",
    "            ## his/her leaving time.\n",
    "            self.states[whi_server] = 1\n",
    "            # print(self.states)\n",
    "            self.schedule_leave(whi_server)\n",
    "\n",
    "        ## Next schedule\n",
    "        self.schedule_arrival()\n",
    "\n",
    "    def leave(self):\n",
    "        \"Event routine triggered when an existing customer leaves.\"\n",
    "        self.states[self._next.whi_server] = 0  # To set the server idle.\n",
    "\n",
    "    def advance(self):\n",
    "        \"Invoke next event and advance the clock time.\"\n",
    "        self.clock = self._next._index + 0\n",
    "\n",
    "        if isinstance(self._next, Leave):\n",
    "            self.leave()\n",
    "            self.undock()\n",
    "        elif isinstance(self._next, Arrival):\n",
    "            self.arrive()\n",
    "            docked = self.undock()\n",
    "            self.arriveds[len(self.arriveds)+1] = docked\n",
    "            # self.last_arrived._next_arrived = docked\n",
    "\n",
    "        return self.clock\n",
    "\n",
    "    @property\n",
    "    def num(self):\n",
    "        return len(self.states)\n",
    "\n",
    "    @property\n",
    "    def first_idle(self):\n",
    "        \"\"\"Return the index of the first idle server.\n",
    "\n",
    "        Attentions\n",
    "        ==========\n",
    "        The indices are 0, 1, 2, ..., self.num-1\n",
    "        \"\"\"\n",
    "        result = 0\n",
    "        i = 0\n",
    "        while i <= self.num - 1:\n",
    "            if self.states[i] == 0:\n",
    "                break\n",
    "            else:\n",
    "                i += 1\n",
    "        return i\n",
    "\n",
    "    def collect_event_list(self):\n",
    "        cur = self._next\n",
    "        dict_whe_leave = {}\n",
    "        i = 0\n",
    "        while cur:\n",
    "            dict_whe_leave[i] = isinstance(cur, Leave)\n",
    "            cur = cur._next\n",
    "            i += 1\n",
    "        n = len(dict_whe_leave)\n",
    "        whe_leaves = [dict_whe_leave[i] for i in range(n)]\n",
    "        return whe_leaves\n",
    "\n",
    "    # @property\n",
    "    # def last_arrived(self):\n",
    "    #     cur = self._next_arrived\n",
    "    #     while cur._next_arrived:\n",
    "    #         cur = cur._next_arrived\n",
    "    #     return cur\n",
    "\n",
    "    # def collect_arriveds(self):\n",
    "    #     cur = self._next_arrived\n",
    "    #     indices = {}\n",
    "    #     i = 0\n",
    "    #     while cur:\n",
    "    #         indices[i] = cur._index\n",
    "    #         cur = cur._next_arrived\n",
    "    #         i += 1\n",
    "    #     n = len(indices)\n",
    "    #     li_indices = [indices[i] for i in range(n)]\n",
    "    #     return li_indices"
   ]
  },
  {
   "cell_type": "code",
   "execution_count": 52,
   "metadata": {
    "scrolled": true
   },
   "outputs": [],
   "source": [
    "block_rates = [0 for i in range(10)]\n",
    "for i in range(10):\n",
    "    ser = Servers(lambda: tss.sim_exp(8), lambda: tss.sim_exp(1), 10)\n",
    "    while ser.num_arrival <= 10000:\n",
    "        ser.advance()\n",
    "    block_rates[i] = ser.num_block / 10000"
   ]
  },
  {
   "cell_type": "code",
   "execution_count": 53,
   "metadata": {},
   "outputs": [
    {
     "data": {
      "text/plain": [
       "[0.1276,\n",
       " 0.1253,\n",
       " 0.1119,\n",
       " 0.1253,\n",
       " 0.1159,\n",
       " 0.1075,\n",
       " 0.1235,\n",
       " 0.1271,\n",
       " 0.1192,\n",
       " 0.1197]"
      ]
     },
     "execution_count": 53,
     "metadata": {},
     "output_type": "execute_result"
    }
   ],
   "source": [
    "block_rates"
   ]
  },
  {
   "cell_type": "code",
   "execution_count": 77,
   "metadata": {},
   "outputs": [],
   "source": [
    "def cal_mean_sample(sample:list, var_pop:int=None) -> Union[list, float]:\n",
    "    \"\"\"Calculate sample mean and its variance if the population variance\n",
    "    is given.\n",
    "\n",
    "    Attentions\n",
    "    ==========\n",
    "    - Usually, the population variance `var_pop` is represented by\n",
    "      `\\sigma^2`.\n",
    "    \"\"\"\n",
    "    mean_sample = np.mean(sample)\n",
    "    var_mean_sample = None\n",
    "    if var_pop is not None:\n",
    "        n = len(sample)  # size of the sample\n",
    "        var_mean_sample = var_pop / n\n",
    "\n",
    "    if var_pop is None:\n",
    "        return mean_sample\n",
    "    else:\n",
    "        return [mean_sample, var_mean_sample]"
   ]
  },
  {
   "cell_type": "code",
   "execution_count": 79,
   "metadata": {},
   "outputs": [
    {
     "data": {
      "text/plain": [
       "2.0"
      ]
     },
     "execution_count": 79,
     "metadata": {},
     "output_type": "execute_result"
    }
   ],
   "source": [
    "cal_mean_sample([1, 2, 3])"
   ]
  },
  {
   "cell_type": "code",
   "execution_count": 85,
   "metadata": {},
   "outputs": [
    {
     "data": {
      "text/plain": [
       "1.959963984540054"
      ]
     },
     "execution_count": 85,
     "metadata": {},
     "output_type": "execute_result"
    }
   ],
   "source": [
    "alpha = 0.05\n",
    "z_alpha2 = st.norm.ppf(1 - alpha / 2)\n",
    "z_alpha2"
   ]
  },
  {
   "cell_type": "code",
   "execution_count": 92,
   "metadata": {},
   "outputs": [],
   "source": [
    "\n",
    "import numpy as np\n",
    "from typing import Union\n",
    "import scipy.stats as st\n",
    "import math\n",
    "\n",
    "\n",
    "def cal_mean_sample(sample:list, var_pop:int=None) -> Union[list, float]:\n",
    "    \"\"\"Calculate sample mean and its variance if the population variance\n",
    "    is given.\n",
    "\n",
    "    Attentions\n",
    "    ==========\n",
    "    - Usually, the population variance `var_pop` is represented by\n",
    "      `\\sigma^2`.\n",
    "    \"\"\"\n",
    "    mean_sample = np.mean(sample)\n",
    "    var_mean_sample = None\n",
    "    if var_pop is not None:\n",
    "        n = len(sample)  # size of the sample\n",
    "        var_mean_sample = var_pop / n\n",
    "\n",
    "    if var_pop is None:\n",
    "        return mean_sample\n",
    "    else:\n",
    "        return [mean_sample, var_mean_sample]\n",
    "\n",
    "\n",
    "def cal_var_sample(sample:list) -> float:\n",
    "    \"\"\"Calculate the sample variance.\"\"\"\n",
    "    mean_sample = cal_mean_sample(sample)\n",
    "    n = len(sample)\n",
    "    var_sample = sum([(i - mean_sample)**2 for i in sample]) / (n-1)\n",
    "    return var_sample\n",
    "\n",
    "\n",
    "def update_mean_sample(mean_sample:float, n:float,\n",
    "        sample_new:Union[float, list]) -> float:\n",
    "    \"\"\"Update the sample recursively.\n",
    "\n",
    "    Keyword Arguments\n",
    "    =================\n",
    "    mean_sample: existing sample mean\n",
    "    n: size of sample for the existing sample mean\n",
    "    sample_new: a new single sample\n",
    "    \"\"\"\n",
    "    mean_sample_new = mean_sample + (sample_new - mean_sample) / (n+1)\n",
    "    return mean_sample_new\n",
    "\n",
    "\n",
    "def update_var_sample():\n",
    "    pass\n",
    "\n",
    "\n",
    "def est_interval(sample:list, alpha:float=0.05) -> list:\n",
    "    \"\"\"Interval estimation of the population mean based on the given\n",
    "    sample and significance level alpha.\n",
    "    \"\"\"\n",
    "    mean = cal_mean_sample(sample)\n",
    "    var = cal_var_sample(sample)\n",
    "    n = len(sample)\n",
    "\n",
    "    z_alpha2 = st.norm.ppf(1 - alpha / 2)\n",
    "\n",
    "    interval = [mean - z_alpha2 * math.sqrt(var / n),\n",
    "        mean + z_alpha2 * math.sqrt(var / n)]\n",
    "\n",
    "    return interval\n"
   ]
  },
  {
   "cell_type": "code",
   "execution_count": 120,
   "metadata": {},
   "outputs": [],
   "source": [
    "def est_interval(sample:list, alpha:float=0.05,\n",
    "        var_pop:int=None) -> list:\n",
    "    \"\"\"Interval estimation of the population mean based on the given\n",
    "    sample and significance level alpha.\n",
    "\n",
    "    Attentions\n",
    "    ==========\n",
    "    - Usually, the population variance `var_pop` is represented by\n",
    "      `\\sigma^2`. Sometimes, the population standard deviance `\\sigma`\n",
    "      is given.\n",
    "    \"\"\"\n",
    "    mean = cal_mean_sample(sample)\n",
    "    n = len(sample)\n",
    "\n",
    "    if var_pop is not None:\n",
    "        z_alpha2 = st.norm.ppf(1 - alpha / 2)\n",
    "        interval = [mean - z_alpha2 * math.sqrt(var_pop / n),\n",
    "            mean + z_alpha2 * math.sqrt(var_pop / n)]\n",
    "    else:\n",
    "        var = cal_var_sample(sample)\n",
    "        print(var)\n",
    "        t_alpha2 = st.t.ppf(1 - alpha / 2, df=n-1)\n",
    "        interval = [mean - t_alpha2 * math.sqrt(var / n),\n",
    "            mean + t_alpha2 * math.sqrt(var / n)]\n",
    "\n",
    "    return interval"
   ]
  },
  {
   "cell_type": "code",
   "execution_count": 112,
   "metadata": {},
   "outputs": [
    {
     "data": {
      "text/plain": [
       "[17.44, 21.16]"
      ]
     },
     "execution_count": 112,
     "metadata": {},
     "output_type": "execute_result"
    }
   ],
   "source": [
    "li = [17, 21, 20, 18, 19, 22, 20, 21, 16, 19]\n",
    "interval = est_interval(li, var_pop=9)\n",
    "[round(i, 2) for i in interval]"
   ]
  },
  {
   "cell_type": "code",
   "execution_count": 113,
   "metadata": {},
   "outputs": [
    {
     "data": {
      "text/plain": [
       "17.44"
      ]
     },
     "execution_count": 113,
     "metadata": {},
     "output_type": "execute_result"
    }
   ],
   "source": [
    "19.3 - 1.86"
   ]
  },
  {
   "cell_type": "code",
   "execution_count": 105,
   "metadata": {},
   "outputs": [
    {
     "data": {
      "text/plain": [
       "1.396815309743419"
      ]
     },
     "execution_count": 105,
     "metadata": {},
     "output_type": "execute_result"
    }
   ],
   "source": [
    "st.t.ppf(1 - alpha, df=8)"
   ]
  },
  {
   "cell_type": "code",
   "execution_count": 115,
   "metadata": {},
   "outputs": [
    {
     "data": {
      "text/plain": [
       "8.18"
      ]
     },
     "execution_count": 115,
     "metadata": {},
     "output_type": "execute_result"
    }
   ],
   "source": [
    "5.8 + 2.38"
   ]
  },
  {
   "cell_type": "code",
   "execution_count": 121,
   "metadata": {},
   "outputs": [
    {
     "name": "stdout",
     "output_type": "stream",
     "text": [
      "25.852631578947364\n"
     ]
    },
    {
     "data": {
      "text/plain": [
       "[3.42, 8.18]"
      ]
     },
     "execution_count": 121,
     "metadata": {},
     "output_type": "execute_result"
    }
   ],
   "source": [
    "li = [16,0,0,2,3,6,8,2,5,0,12,10,5,7,2,3,8,17,9,1]\n",
    "interval = est_interval(li)\n",
    "[round(i, 2) for i in interval]"
   ]
  },
  {
   "cell_type": "code",
   "execution_count": null,
   "metadata": {},
   "outputs": [],
   "source": []
  }
 ],
 "metadata": {
  "kernelspec": {
   "display_name": "Python 3",
   "language": "python",
   "name": "python3"
  },
  "language_info": {
   "codemirror_mode": {
    "name": "ipython",
    "version": 3
   },
   "file_extension": ".py",
   "mimetype": "text/x-python",
   "name": "python",
   "nbconvert_exporter": "python",
   "pygments_lexer": "ipython3",
   "version": "3.7.6"
  }
 },
 "nbformat": 4,
 "nbformat_minor": 2
}
