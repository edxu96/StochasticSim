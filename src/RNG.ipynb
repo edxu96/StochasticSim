{
 "cells": [
  {
   "cell_type": "markdown",
   "metadata": {},
   "source": [
    "# Stochastic Simulation 1: Random Number Generator"
   ]
  },
  {
   "cell_type": "code",
   "execution_count": 178,
   "metadata": {},
   "outputs": [],
   "source": [
    "import math\n",
    "import pandas as pd\n",
    "import numpy as np\n",
    "from matplotlib import pyplot as plt\n",
    "import scipy.stats as st\n",
    "import random as rd"
   ]
  },
  {
   "cell_type": "markdown",
   "metadata": {},
   "source": [
    "The structure of the simplest series of random number generators can be represented by:\n",
    "$$ \\begin{aligned}\n",
    "  y_{i-1} &= f(x_{i-1}, ...) \\\\\n",
    "  x_{i} &= \\mathrm{modulo} \\left(y_{i-1}, M\\right) \\\\\n",
    "  U_{i} &= \\frac{x_{i}}{M}\n",
    "\\end{aligned} $$"
   ]
  },
  {
   "cell_type": "code",
   "execution_count": 179,
   "metadata": {},
   "outputs": [],
   "source": [
    "def rng(x0, l, m, cal_y):\n",
    "    \"\"\"Generic function for random number generator.\"\"\"\n",
    "    dict_rn = {0: {'x': x0, 'y': None, 'u': None}}\n",
    "    x = x0\n",
    "    \n",
    "    for i in range(1, l+1):\n",
    "        y1 = cal_y(x)\n",
    "        x1 = y1 % m\n",
    "        u1 = x1 / m\n",
    "        dict_rn.update({i: {'x': x1, 'y': y1, 'u': u1}})\n",
    "        x = x1\n",
    "    \n",
    "    del dict_rn[0]\n",
    "    \n",
    "    return dict_rn"
   ]
  },
  {
   "cell_type": "markdown",
   "metadata": {},
   "source": [
    "## Fibonacci Generator (Additive Congruential Method)\n",
    "\n",
    "Two previous $x$ values are required to calculate $y$, so the general structure cannot be used here."
   ]
  },
  {
   "cell_type": "code",
   "execution_count": 180,
   "metadata": {
    "scrolled": true
   },
   "outputs": [],
   "source": [
    "def rng_fib(x0, x1, l, m):\n",
    "    \"\"\"Fibonacci Generator to generate random number series.\"\"\"\n",
    "    dict_rn = {0: {'x': x0, 'y': None, 'u': None}, 1: {'x': x1, 'y': None, 'u': None}}\n",
    "    x_1 = x0\n",
    "    x_2 = x1\n",
    "    \n",
    "    for i in range(1, l+1):\n",
    "        y1 = x_1 + x_2\n",
    "        x1 = y1 % m\n",
    "        u1 = x1 / m\n",
    "        dict_rn.update({i: {'x': x1, 'y': y1, 'u': u1}})\n",
    "        x_1 = x1\n",
    "        x_2 = x_1\n",
    "    \n",
    "    del dict_rn[0], dict_rn[1]\n",
    "    pd_rn = pd.DataFrame.from_dict(dict_rn, orient='index')\n",
    "    rn = pd_rn['u'].tolist()\n",
    "    \n",
    "    return rn, pd_rn, dict_rn"
   ]
  },
  {
   "cell_type": "code",
   "execution_count": 181,
   "metadata": {},
   "outputs": [
    {
     "data": {
      "text/plain": [
       "[0.008456659619450317,\n",
       " 0.016913319238900635,\n",
       " 0.03382663847780127,\n",
       " 0.06765327695560254,\n",
       " 0.13530655391120508,\n",
       " 0.27061310782241016,\n",
       " 0.5412262156448203,\n",
       " 0.0824524312896406,\n",
       " 0.1649048625792812]"
      ]
     },
     "execution_count": 181,
     "metadata": {},
     "output_type": "execute_result"
    }
   ],
   "source": [
    "rng_fib(1, 1, l=10, m=473)[0]"
   ]
  },
  {
   "cell_type": "markdown",
   "metadata": {},
   "source": [
    "## Linear Congruential Generator (LCG)\n",
    "\n",
    "Given $a$, $c$, $x_0$ and $M$, LCG is defined as:\n",
    "$$ \\begin{aligned}\n",
    "  x_{i} &= \\bmod \\left(a x_{i-1}+c, M\\right) \\\\\n",
    "  U_{i} &= \\frac{x_{i}}{M}\n",
    "\\end{aligned} $$"
   ]
  },
  {
   "cell_type": "code",
   "execution_count": 182,
   "metadata": {},
   "outputs": [],
   "source": [
    "def rng_lcg(a, c, m, x0, l):\n",
    "    cal_y = lambda x: a * x + c\n",
    "    dict_rn = rng(x0, l, m, cal_y)\n",
    "    pd_rn = pd.DataFrame.from_dict(dict_rn, orient='index')\n",
    "    rn = pd_rn['u'].tolist()\n",
    "    return rn, pd_rn, dict_rn"
   ]
  },
  {
   "cell_type": "code",
   "execution_count": 183,
   "metadata": {},
   "outputs": [
    {
     "data": {
      "text/plain": [
       "[0.0, 0.0625, 0.375, 0.9375, 0.75, 0.8125, 0.125, 0.6875, 0.5, 0.5625]"
      ]
     },
     "execution_count": 183,
     "metadata": {},
     "output_type": "execute_result"
    }
   ],
   "source": [
    "rng_lcg(a=5, c=1, m=16, x0=3, l=10)[0]"
   ]
  },
  {
   "cell_type": "markdown",
   "metadata": {},
   "source": [
    "## Visualisation of RNG Results"
   ]
  },
  {
   "cell_type": "code",
   "execution_count": 184,
   "metadata": {},
   "outputs": [
    {
     "data": {
      "image/png": "[encoded data removed]",
      "text/plain": [
       "<Figure size 432x288 with 1 Axes>"
      ]
     },
     "metadata": {
      "needs_background": "light"
     },
     "output_type": "display_data"
    }
   ],
   "source": [
    "rn = rng_lcg(a=5, c=1, m=16, x0=3, l=100)[0]\n",
    "plt.plot(rn[0:99], rn[1:100], 'ro')\n",
    "plt.show()"
   ]
  },
  {
   "cell_type": "code",
   "execution_count": 185,
   "metadata": {},
   "outputs": [
    {
     "data": {
      "image/png": "[encoded data removed]",
      "text/plain": [
       "<Figure size 432x288 with 1 Axes>"
      ]
     },
     "metadata": {
      "needs_background": "light"
     },
     "output_type": "display_data"
    }
   ],
   "source": [
    "rn = rng_lcg(a=5, c=1, m=16097564936985763, x0=3, l=100)[0]\n",
    "plt.plot(rn[0:99], rn[1:100], 'ro')\n",
    "plt.show()"
   ]
  },
  {
   "cell_type": "markdown",
   "metadata": {},
   "source": [
    "## Independence Test of RNG Results"
   ]
  },
  {
   "cell_type": "markdown",
   "metadata": {},
   "source": [
    "### Wald–Wolfowitz Runs Test"
   ]
  },
  {
   "cell_type": "code",
   "execution_count": 186,
   "metadata": {},
   "outputs": [],
   "source": [
    "def cal_num_runs(li):\n",
    "    \"\"\"It is assumed that the input list is binary.\"\"\"\n",
    "    x1 = li[0]\n",
    "    num_runs = 1\n",
    "    for x in li:\n",
    "        if x != x1:\n",
    "            x1 = x\n",
    "            num_runs += 1\n",
    "    return num_runs"
   ]
  },
  {
   "cell_type": "code",
   "execution_count": 187,
   "metadata": {},
   "outputs": [
    {
     "data": {
      "text/plain": [
       "19"
      ]
     },
     "execution_count": 187,
     "metadata": {},
     "output_type": "execute_result"
    }
   ],
   "source": [
    "li = [1,1,1,0,1,1,1,0,0,1,1,0,0,1,1,1,0,1,1,0,0,0,1,0,1,0,0,1,0,0,1,1,1,0,0,0,1]\n",
    "cal_num_runs(li)"
   ]
  },
  {
   "cell_type": "code",
   "execution_count": 188,
   "metadata": {},
   "outputs": [],
   "source": [
    "def get_li_binary(li):\n",
    "    \"\"\"Transform the list to binary list.\"\"\"\n",
    "    m = np.median(li)\n",
    "    li_binary = [1 if i > m else 0 for i in li]\n",
    "    return li_binary"
   ]
  },
  {
   "cell_type": "code",
   "execution_count": 189,
   "metadata": {},
   "outputs": [],
   "source": [
    "def cal_z_runs_ww(li):\n",
    "    \"\"\"Wald–Wolfowitz Runs Test\"\"\"\n",
    "    n1 = sum(li)\n",
    "    n2 = len(li) - n1\n",
    "    \n",
    "    num_runs = cal_num_runs(li)    \n",
    "\n",
    "    mu = (2 * n1 * n2) / (n1 + n2) + 1\n",
    "    sigma = math.sqrt( 2 * n1 * n2 * (2 * n1 * n2 - n1 - n2) / (n1 + n2)**2 / (n1 + n1 - 1) )\n",
    "    z = (num_runs - mu) / sigma\n",
    "    print(f'Wald–Wolfowitz Runs Test: z = {z:.4f}.')\n",
    "    print(f'Number of runs: {num_runs}.')\n",
    "    \n",
    "    return z"
   ]
  },
  {
   "cell_type": "code",
   "execution_count": 190,
   "metadata": {},
   "outputs": [],
   "source": [
    "def test_z(z):\n",
    "    \"\"\"Perform Z-test\"\"\"\n",
    "    if z > 0:\n",
    "        p_value = 2 * (1 - st.norm.cdf(z, 0, 1))\n",
    "    else:\n",
    "        p_value = 2 * st.norm.cdf(z, 0, 1)\n",
    "    print(f'Z-test: p_value = {p_value:.4f}.')\n",
    "    print(f'Is the p value smaller than 0.05? {p_value <= 0.05}.')\n",
    "    print(f'If to reject the null hypothesis? {p_value <= 0.05}.')\n",
    "    print(f'If to be random enough? {p_value >= 0.05}.')\n",
    "    \n",
    "    return p_value"
   ]
  },
  {
   "cell_type": "code",
   "execution_count": 191,
   "metadata": {},
   "outputs": [
    {
     "name": "stdout",
     "output_type": "stream",
     "text": [
      "Z-test: p_value = 0.6459.\n",
      "Is the p value smaller than 0.05? False.\n",
      "If to reject the null hypothesis? False.\n",
      "If to be random enough? True.\n"
     ]
    },
    {
     "data": {
      "text/plain": [
       "0.6458966905687964"
      ]
     },
     "execution_count": 191,
     "metadata": {},
     "output_type": "execute_result"
    }
   ],
   "source": [
    "test_z(0.45947)"
   ]
  },
  {
   "cell_type": "code",
   "execution_count": 192,
   "metadata": {},
   "outputs": [
    {
     "name": "stdout",
     "output_type": "stream",
     "text": [
      "Wald–Wolfowitz Runs Test: z = -0.1322.\n",
      "Number of runs: 19.\n",
      "Z-test: p_value = 0.8948.\n",
      "Is the p value smaller than 0.05? False.\n",
      "If to reject the null hypothesis? False.\n",
      "If to be random enough? True.\n"
     ]
    },
    {
     "data": {
      "text/plain": [
       "0.8948095012383603"
      ]
     },
     "execution_count": 192,
     "metadata": {},
     "output_type": "execute_result"
    }
   ],
   "source": [
    "li = [1,1,1,0,1,1,1,0,0,1,1,0,0,1,1,1,0,1,1,0,0,0,1,0,1,0,0,1,0,0,1,1,1,0,0,0,1]\n",
    "z = cal_z_runs_ww(li)\n",
    "test_z(z)"
   ]
  },
  {
   "cell_type": "code",
   "execution_count": 193,
   "metadata": {
    "scrolled": true
   },
   "outputs": [
    {
     "name": "stdout",
     "output_type": "stream",
     "text": [
      "Wald–Wolfowitz Runs Test: z = -4.5751.\n",
      "Number of runs: 17.\n",
      "Z-test: p_value = 0.0000.\n",
      "Is the p value smaller than 0.05? True.\n",
      "If to reject the null hypothesis? True.\n",
      "If to be random enough? False.\n"
     ]
    },
    {
     "data": {
      "text/plain": [
       "4.758949927166804e-06"
      ]
     },
     "execution_count": 193,
     "metadata": {},
     "output_type": "execute_result"
    }
   ],
   "source": [
    "li = [87.9,  64.7,  87.8,  74.9,  71.6,  84.9,  74.3,  76.5,  83.1,  77.5,  80.8,  75.1,\n",
    "      85.6,  56.3,  89.0,  66.2,  68.0,  84.6,  81.2,  78.0,  87.1,  85.9,  84.7,  85.2,\n",
    "      85.2,  83.7,  90.6,  82.4,  75.4,  78.3,  92.8,  79.6,  84.3,  86.3,  87.8,  93.6,\n",
    "      97.4, 102.0,  98.7,  96.2, 100.3,  92.3,  95.1,  91.7,  96.7,  94.0,  94.7, 100.9,\n",
    "      93.5, 100.4,  92.9,  99.0, 100.4,  90.2,  95.9,  94.8,  79.6,  78.8,  98.1,  97.9,\n",
    "      93.0, 100.6,  81.3,  78.6,  81.9,  82.9,  80.9,  85.8,  78.0,  89.3]\n",
    "li = get_li_binary(li)\n",
    "z = cal_z_runs_ww(li)\n",
    "test_z(z)"
   ]
  },
  {
   "cell_type": "code",
   "execution_count": 194,
   "metadata": {},
   "outputs": [
    {
     "name": "stdout",
     "output_type": "stream",
     "text": [
      "Wald–Wolfowitz Runs Test: z = -0.0600.\n",
      "Number of runs: 4998.\n",
      "Z-test: p_value = 0.9522.\n",
      "Is the p value smaller than 0.05? False.\n",
      "If to reject the null hypothesis? False.\n",
      "If to be random enough? True.\n"
     ]
    },
    {
     "data": {
      "text/plain": [
       "0.9521532449248095"
      ]
     },
     "execution_count": 194,
     "metadata": {},
     "output_type": "execute_result"
    }
   ],
   "source": [
    "li = [rd.random() for i in range(10000)]\n",
    "li = get_li_binary(li)\n",
    "z = cal_z_runs_ww(li)\n",
    "test_z(z)"
   ]
  },
  {
   "cell_type": "code",
   "execution_count": 195,
   "metadata": {},
   "outputs": [
    {
     "name": "stdout",
     "output_type": "stream",
     "text": [
      "Wald–Wolfowitz Runs Test: z = -1.8713.\n",
      "Number of runs: 8.\n",
      "Z-test: p_value = 0.0613.\n",
      "Is the p value smaller than 0.05? False.\n",
      "If to reject the null hypothesis? False.\n",
      "If to be random enough? True.\n"
     ]
    },
    {
     "data": {
      "text/plain": [
       "0.06130770698094878"
      ]
     },
     "execution_count": 195,
     "metadata": {},
     "output_type": "execute_result"
    }
   ],
   "source": [
    "li = [5.36, 5.29, 5.58, 5.65, 5.57, 5.53, 5.62, 5.29, 5.44, 5.34, 5.79,\n",
    "    5.10, 5.27, 5.39, 5.42, 5.47, 5.63, 5.34, 5.46, 5.30, 5.75, 5.68, 5.85]\n",
    "li = get_li_binary(li)\n",
    "z = cal_z_runs_ww(li)\n",
    "test_z(z)"
   ]
  },
  {
   "cell_type": "markdown",
   "metadata": {},
   "source": [
    "### Runs Test 3"
   ]
  },
  {
   "cell_type": "code",
   "execution_count": null,
   "metadata": {},
   "outputs": [],
   "source": []
  }
 ],
 "metadata": {
  "kernelspec": {
   "display_name": "Python 3",
   "language": "python",
   "name": "python3"
  },
  "language_info": {
   "codemirror_mode": {
    "name": "ipython",
    "version": 3
   },
   "file_extension": ".py",
   "mimetype": "text/x-python",
   "name": "python",
   "nbconvert_exporter": "python",
   "pygments_lexer": "ipython3",
   "version": "3.7.6"
  }
 },
 "nbformat": 4,
 "nbformat_minor": 2
}
