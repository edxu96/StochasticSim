{
 "cells": [
  {
   "cell_type": "markdown",
   "metadata": {},
   "source": [
    "# Stochastic Simulation 1: Random Number Generator"
   ]
  },
  {
   "cell_type": "code",
   "execution_count": 1,
   "metadata": {},
   "outputs": [],
   "source": [
    "import math\n",
    "import pandas as pd\n",
    "import numpy as np\n",
    "from matplotlib import pyplot as plt\n",
    "import scipy.stats as st\n",
    "import random as rd"
   ]
  },
  {
   "cell_type": "markdown",
   "metadata": {},
   "source": [
    "The structure of the simplest series of random number generators can be represented by:\n",
    "$$ \\begin{aligned}\n",
    "  y_{i-1} &= f(x_{i-1}, ...) \\\\\n",
    "  x_{i} &= \\mathrm{modulo} \\left(y_{i-1}, M\\right) \\\\\n",
    "  U_{i} &= \\frac{x_{i}}{M}\n",
    "\\end{aligned} $$"
   ]
  },
  {
   "cell_type": "code",
   "execution_count": 2,
   "metadata": {},
   "outputs": [],
   "source": [
    "def rng(x0, l, m, cal_y):\n",
    "    \"\"\"Generic function for random number generator.\"\"\"\n",
    "    dict_rn = {0: {'x': x0, 'y': None, 'u': None}}\n",
    "    x = x0\n",
    "    \n",
    "    for i in range(1, l+1):\n",
    "        y1 = cal_y(x)\n",
    "        x1 = y1 % m\n",
    "        u1 = x1 / m\n",
    "        dict_rn.update({i: {'x': x1, 'y': y1, 'u': u1}})\n",
    "        x = x1\n",
    "    \n",
    "    del dict_rn[0]\n",
    "    \n",
    "    return dict_rn"
   ]
  },
  {
   "cell_type": "markdown",
   "metadata": {},
   "source": [
    "## 1. Fibonacci Generator (Additive Congruential Method)\n",
    "\n",
    "Two previous $x$ values are required to calculate $y$, so the general structure cannot be used here."
   ]
  },
  {
   "cell_type": "code",
   "execution_count": 3,
   "metadata": {
    "scrolled": true
   },
   "outputs": [],
   "source": [
    "def rng_fib(x0, x1, l, m):\n",
    "    \"\"\"Fibonacci Generator to generate random number series.\"\"\"\n",
    "    dict_rn = {0: {'x': x0, 'y': None, 'u': None}, 1: {'x': x1, 'y': None, 'u': None}}\n",
    "    x_1 = x0\n",
    "    x_2 = x1\n",
    "    \n",
    "    for i in range(1, l+1):\n",
    "        y1 = x_1 + x_2\n",
    "        x1 = y1 % m\n",
    "        u1 = x1 / m\n",
    "        dict_rn.update({i: {'x': x1, 'y': y1, 'u': u1}})\n",
    "        x_1 = x1\n",
    "        x_2 = x_1\n",
    "    \n",
    "    del dict_rn[0], dict_rn[1]\n",
    "    pd_rn = pd.DataFrame.from_dict(dict_rn, orient='index')\n",
    "    rn = pd_rn['u'].tolist()\n",
    "    \n",
    "    return rn, pd_rn, dict_rn"
   ]
  },
  {
   "cell_type": "code",
   "execution_count": 4,
   "metadata": {},
   "outputs": [
    {
     "data": {
      "text/plain": [
       "[0.008456659619450317,\n",
       " 0.016913319238900635,\n",
       " 0.03382663847780127,\n",
       " 0.06765327695560254,\n",
       " 0.13530655391120508,\n",
       " 0.27061310782241016,\n",
       " 0.5412262156448203,\n",
       " 0.0824524312896406,\n",
       " 0.1649048625792812]"
      ]
     },
     "execution_count": 4,
     "metadata": {},
     "output_type": "execute_result"
    }
   ],
   "source": [
    "rng_fib(1, 1, l=10, m=473)[0]"
   ]
  },
  {
   "cell_type": "markdown",
   "metadata": {},
   "source": [
    "## 2. Linear Congruential Generator (LCG)\n",
    "\n",
    "Given $a$, $c$, $x_0$ and $M$, LCG is defined as:\n",
    "$$ \\begin{aligned}\n",
    "  x_{i} &= \\bmod \\left(a x_{i-1}+c, M\\right) \\\\\n",
    "  U_{i} &= \\frac{x_{i}}{M}\n",
    "\\end{aligned} $$"
   ]
  },
  {
   "cell_type": "code",
   "execution_count": 5,
   "metadata": {},
   "outputs": [],
   "source": [
    "def rng_lcg(a, c, m, x0, l):\n",
    "    cal_y = lambda x: a * x + c\n",
    "    dict_rn = rng(x0, l, m, cal_y)\n",
    "    pd_rn = pd.DataFrame.from_dict(dict_rn, orient='index')\n",
    "    rn = pd_rn['u'].tolist()\n",
    "    return rn, pd_rn, dict_rn"
   ]
  },
  {
   "cell_type": "code",
   "execution_count": 6,
   "metadata": {},
   "outputs": [
    {
     "data": {
      "text/plain": [
       "[0.0, 0.0625, 0.375, 0.9375, 0.75, 0.8125, 0.125, 0.6875, 0.5, 0.5625]"
      ]
     },
     "execution_count": 6,
     "metadata": {},
     "output_type": "execute_result"
    }
   ],
   "source": [
    "rng_lcg(a=5, c=1, m=16, x0=3, l=10)[0]"
   ]
  },
  {
   "cell_type": "markdown",
   "metadata": {},
   "source": [
    "## 3. Visualisation of RNG Results"
   ]
  },
  {
   "cell_type": "code",
   "execution_count": 7,
   "metadata": {},
   "outputs": [
    {
     "data": {
      "image/png": "[encoded data removed]",
      "text/plain": [
       "<Figure size 432x288 with 1 Axes>"
      ]
     },
     "metadata": {
      "needs_background": "light"
     },
     "output_type": "display_data"
    }
   ],
   "source": [
    "rn = rng_lcg(a=5, c=1, m=16, x0=3, l=100)[0]\n",
    "plt.plot(rn[0:99], rn[1:100], 'ro')\n",
    "plt.show()"
   ]
  },
  {
   "cell_type": "code",
   "execution_count": 8,
   "metadata": {},
   "outputs": [
    {
     "data": {
      "image/png": "[encoded data removed]",
      "text/plain": [
       "<Figure size 432x288 with 1 Axes>"
      ]
     },
     "metadata": {
      "needs_background": "light"
     },
     "output_type": "display_data"
    }
   ],
   "source": [
    "rn = rng_lcg(a=5, c=1, m=16097564936985763, x0=3, l=100)[0]\n",
    "plt.plot(rn[0:99], rn[1:100], 'ro')\n",
    "plt.show()"
   ]
  },
  {
   "cell_type": "markdown",
   "metadata": {},
   "source": [
    "## 4. Independence Test of RNG Results"
   ]
  },
  {
   "cell_type": "code",
   "execution_count": 9,
   "metadata": {},
   "outputs": [],
   "source": [
    "def cal_pvalue_chi2(stat, df):\n",
    "    \"\"\"Calculate the statistic according to Chi-Square distribution.\"\"\"\n",
    "    pvalue = 1 - st.chi2.cdf(stat, df)\n",
    "    return pvalue"
   ]
  },
  {
   "cell_type": "code",
   "execution_count": 10,
   "metadata": {},
   "outputs": [],
   "source": [
    "def cal_num_runs(li):\n",
    "    \"\"\"It is assumed that the input list is binary.\"\"\"\n",
    "    x1 = li[0]\n",
    "    num_runs = 1\n",
    "    for x in li:\n",
    "        if x != x1:\n",
    "            x1 = x\n",
    "            num_runs += 1\n",
    "    return num_runs"
   ]
  },
  {
   "cell_type": "code",
   "execution_count": 11,
   "metadata": {
    "scrolled": true
   },
   "outputs": [
    {
     "data": {
      "text/plain": [
       "19"
      ]
     },
     "execution_count": 11,
     "metadata": {},
     "output_type": "execute_result"
    }
   ],
   "source": [
    "li = [1,1,1,0,1,1,1,0,0,1,1,0,0,1,1,1,0,1,1,0,0,0,1,0,1,0,0,1,0,0,1,1,1,0,0,0,1]\n",
    "cal_num_runs(li)"
   ]
  },
  {
   "cell_type": "markdown",
   "metadata": {},
   "source": [
    "Two-sided `Z`-test"
   ]
  },
  {
   "cell_type": "code",
   "execution_count": 12,
   "metadata": {},
   "outputs": [],
   "source": [
    "def test_z(z):\n",
    "    \"\"\"Perform Z-test\"\"\"\n",
    "    if z > 0:\n",
    "        p_value = 2 * (1 - st.norm.cdf(z, 0, 1))\n",
    "    else:\n",
    "        p_value = 2 * st.norm.cdf(z, 0, 1)\n",
    "    print(f'Z-test: p_value = {p_value:.4f}.')\n",
    "    print(f'Is the p value smaller than 0.05? {p_value <= 0.05}.')\n",
    "    print(f'If to reject the null hypothesis? {p_value <= 0.05}.')\n",
    "    print(f'If to be random enough? {p_value >= 0.05}.')\n",
    "    \n",
    "    return p_value"
   ]
  },
  {
   "cell_type": "code",
   "execution_count": 13,
   "metadata": {
    "scrolled": true
   },
   "outputs": [
    {
     "name": "stdout",
     "output_type": "stream",
     "text": [
      "Z-test: p_value = 0.6459.\n",
      "Is the p value smaller than 0.05? False.\n",
      "If to reject the null hypothesis? False.\n",
      "If to be random enough? True.\n"
     ]
    },
    {
     "data": {
      "text/plain": [
       "0.6458966905687964"
      ]
     },
     "execution_count": 13,
     "metadata": {},
     "output_type": "execute_result"
    }
   ],
   "source": [
    "test_z(0.45947)"
   ]
  },
  {
   "cell_type": "markdown",
   "metadata": {},
   "source": [
    "Two-sided `t`-test"
   ]
  },
  {
   "cell_type": "code",
   "execution_count": 14,
   "metadata": {},
   "outputs": [],
   "source": [
    "def test_t(t, df, alpha:float=0.05):\n",
    "    \"\"\"Perform two-sided t-test\"\"\"\n",
    "    p_value = 1 - st.chi2.cdf(t, df)\n",
    "    print(f't-test: p_value = {p_value:.4f}.')\n",
    "    print(f'Is the p value smaller than {alpha}? {p_value < alpha}.')\n",
    "    print(f'If to reject the null hypothesis? {p_value <= 0.05}.')\n",
    "    print(f'If to be random enough? {p_value >= 0.05}.')\n",
    "    \n",
    "    return p_value"
   ]
  },
  {
   "cell_type": "code",
   "execution_count": 15,
   "metadata": {},
   "outputs": [
    {
     "name": "stdout",
     "output_type": "stream",
     "text": [
      "t-test: p_value = 0.8729.\n",
      "Is the p value smaller than 0.05? False.\n",
      "If to reject the null hypothesis? False.\n",
      "If to be random enough? True.\n"
     ]
    },
    {
     "data": {
      "text/plain": [
       "0.8729171686150026"
      ]
     },
     "execution_count": 15,
     "metadata": {},
     "output_type": "execute_result"
    }
   ],
   "source": [
    "test_t(2.46, 6)"
   ]
  },
  {
   "cell_type": "markdown",
   "metadata": {},
   "source": [
    "### 4-1. Wald–Wolfowitz Runs Test"
   ]
  },
  {
   "cell_type": "code",
   "execution_count": 16,
   "metadata": {},
   "outputs": [],
   "source": [
    "def get_binary_ww(li):\n",
    "    \"\"\"Transform the list to binary list.\"\"\"\n",
    "    m = np.median(li)\n",
    "    li_binary = [1 if i > m else 0 for i in li]\n",
    "    return li_binary"
   ]
  },
  {
   "cell_type": "code",
   "execution_count": 17,
   "metadata": {},
   "outputs": [],
   "source": [
    "def cal_z_runs_ww(li):\n",
    "    \"\"\"Wald–Wolfowitz Runs Test\"\"\"\n",
    "    n1 = sum(li)\n",
    "    n2 = len(li) - n1\n",
    "    \n",
    "    ## Number of runs\n",
    "    num_runs = cal_num_runs(li)    \n",
    "\n",
    "    mu = (2 * n1 * n2) / (n1 + n2) + 1\n",
    "    ## Standard error of the estimator\n",
    "    se = math.sqrt( 2 * n1 * n2 * (2 * n1 * n2 - n1 - n2) / (n1 + n2)**2 / (n1 + n1 - 1) )\n",
    "    z = (num_runs - mu) / se\n",
    "    print(f'Wald–Wolfowitz Runs Test: z = {z:.4f}.')\n",
    "    print(f'Number of runs: {num_runs}.')\n",
    "    \n",
    "    return z"
   ]
  },
  {
   "cell_type": "code",
   "execution_count": 18,
   "metadata": {},
   "outputs": [
    {
     "name": "stdout",
     "output_type": "stream",
     "text": [
      "Wald–Wolfowitz Runs Test: z = -0.1322.\n",
      "Number of runs: 19.\n",
      "Z-test: p_value = 0.8948.\n",
      "Is the p value smaller than 0.05? False.\n",
      "If to reject the null hypothesis? False.\n",
      "If to be random enough? True.\n"
     ]
    },
    {
     "data": {
      "text/plain": [
       "0.8948095012383603"
      ]
     },
     "execution_count": 18,
     "metadata": {},
     "output_type": "execute_result"
    }
   ],
   "source": [
    "li = [1,1,1,0,1,1,1,0,0,1,1,0,0,1,1,1,0,1,1,0,0,0,1,0,1,0,0,1,0,0,1,1,1,0,0,0,1]\n",
    "z = cal_z_runs_ww(li)\n",
    "test_z(z)"
   ]
  },
  {
   "cell_type": "code",
   "execution_count": 19,
   "metadata": {
    "scrolled": true
   },
   "outputs": [
    {
     "name": "stdout",
     "output_type": "stream",
     "text": [
      "Wald–Wolfowitz Runs Test: z = -4.5751.\n",
      "Number of runs: 17.\n",
      "Z-test: p_value = 0.0000.\n",
      "Is the p value smaller than 0.05? True.\n",
      "If to reject the null hypothesis? True.\n",
      "If to be random enough? False.\n"
     ]
    },
    {
     "data": {
      "text/plain": [
       "4.758949927166804e-06"
      ]
     },
     "execution_count": 19,
     "metadata": {},
     "output_type": "execute_result"
    }
   ],
   "source": [
    "li = [87.9,  64.7,  87.8,  74.9,  71.6,  84.9,  74.3,  76.5,  83.1,  77.5,  80.8,  75.1,\n",
    "      85.6,  56.3,  89.0,  66.2,  68.0,  84.6,  81.2,  78.0,  87.1,  85.9,  84.7,  85.2,\n",
    "      85.2,  83.7,  90.6,  82.4,  75.4,  78.3,  92.8,  79.6,  84.3,  86.3,  87.8,  93.6,\n",
    "      97.4, 102.0,  98.7,  96.2, 100.3,  92.3,  95.1,  91.7,  96.7,  94.0,  94.7, 100.9,\n",
    "      93.5, 100.4,  92.9,  99.0, 100.4,  90.2,  95.9,  94.8,  79.6,  78.8,  98.1,  97.9,\n",
    "      93.0, 100.6,  81.3,  78.6,  81.9,  82.9,  80.9,  85.8,  78.0,  89.3]\n",
    "li = get_binary_ww(li)\n",
    "z = cal_z_runs_ww(li)\n",
    "test_z(z)"
   ]
  },
  {
   "cell_type": "code",
   "execution_count": 20,
   "metadata": {},
   "outputs": [
    {
     "name": "stdout",
     "output_type": "stream",
     "text": [
      "Wald–Wolfowitz Runs Test: z = -0.8400.\n",
      "Number of runs: 4959.\n",
      "Z-test: p_value = 0.4009.\n",
      "Is the p value smaller than 0.05? False.\n",
      "If to reject the null hypothesis? False.\n",
      "If to be random enough? True.\n"
     ]
    },
    {
     "data": {
      "text/plain": [
       "0.40088483393454866"
      ]
     },
     "execution_count": 20,
     "metadata": {},
     "output_type": "execute_result"
    }
   ],
   "source": [
    "li = [rd.random() for i in range(10000)]\n",
    "li = get_binary_ww(li)\n",
    "z = cal_z_runs_ww(li)\n",
    "test_z(z)"
   ]
  },
  {
   "cell_type": "code",
   "execution_count": 21,
   "metadata": {},
   "outputs": [
    {
     "name": "stdout",
     "output_type": "stream",
     "text": [
      "Wald–Wolfowitz Runs Test: z = -1.8713.\n",
      "Number of runs: 8.\n",
      "Z-test: p_value = 0.0613.\n",
      "Is the p value smaller than 0.05? False.\n",
      "If to reject the null hypothesis? False.\n",
      "If to be random enough? True.\n"
     ]
    },
    {
     "data": {
      "text/plain": [
       "0.06130770698094878"
      ]
     },
     "execution_count": 21,
     "metadata": {},
     "output_type": "execute_result"
    }
   ],
   "source": [
    "li = [5.36, 5.29, 5.58, 5.65, 5.57, 5.53, 5.62, 5.29, 5.44, 5.34, 5.79,\n",
    "    5.10, 5.27, 5.39, 5.42, 5.47, 5.63, 5.34, 5.46, 5.30, 5.75, 5.68, 5.85]\n",
    "li = get_binary_ww(li)\n",
    "z = cal_z_runs_ww(li)\n",
    "test_z(z)"
   ]
  },
  {
   "cell_type": "markdown",
   "metadata": {},
   "source": [
    "### 4-2. Knuth Runs Test"
   ]
  },
  {
   "cell_type": "code",
   "execution_count": 22,
   "metadata": {},
   "outputs": [],
   "source": [
    "def analyse_ups(li):\n",
    "    ups = {}\n",
    "    x = li[0]\n",
    "    len_run = 1\n",
    "    num_runs = 1\n",
    "    for i in li[1: len(li)]:\n",
    "        if i > x:\n",
    "            len_run += 1\n",
    "        else:  # not up, so store the old run, and begin a new run\n",
    "            ups[num_runs] = len_run\n",
    "            num_runs += 1\n",
    "            len_run = 1\n",
    "        x = i\n",
    "            \n",
    "    ## add the last run\n",
    "    ups[num_runs] = len_run\n",
    "    num_runs += 1\n",
    "    len_run = 1\n",
    "    \n",
    "    li_ups = list(ups.values())\n",
    "    return li_ups"
   ]
  },
  {
   "cell_type": "code",
   "execution_count": 23,
   "metadata": {
    "scrolled": true
   },
   "outputs": [
    {
     "data": {
      "text/plain": [
       "[2, 2, 3, 4, 1, 1]"
      ]
     },
     "execution_count": 23,
     "metadata": {},
     "output_type": "execute_result"
    }
   ],
   "source": [
    "li = [0.54, 0.67, 0.13, 0.89, 0.33, 0.45, 0.90, 0.01, 0.45, 0.76, 0.82, 0.24, 0.17]\n",
    "li_ups = analyse_ups(li)\n",
    "li_ups"
   ]
  },
  {
   "cell_type": "code",
   "execution_count": 24,
   "metadata": {},
   "outputs": [],
   "source": [
    "def cal_t_runs_kunth(li_ups):\n",
    "    r = np.zeros(6).reshape((6, 1))\n",
    "    for j in range(5):\n",
    "        r[j][0] = sum([i == j+1 for i in li_ups])\n",
    "    r[5][0] = len(li_ups) - np.sum(r)\n",
    "    \n",
    "    a = np.array([\n",
    "        [4529.4,9044.9,13568,18091,22615,27892],\n",
    "        [9044.9,18097,27139,36187,45234,55789],\n",
    "        [13568,27139,40721,54281,67852,83685],\n",
    "        [18091,36187,54281,72414,90470,111580],\n",
    "        [22615,45234,67852,90470,113262,139476],\n",
    "        [27892,55789,83685,111580,139476,172860]])\n",
    "    b = np.array([[(1)/(6)],[(5)/(24)],[(11)/(120)],[(19)/(720)],[(29)/(5040)],[(1)/(840)]])\n",
    "    n = sum(li_ups)\n",
    "    \n",
    "    t = ( (r - n * b).transpose() @ a @ (r - n * b) )[0][0] / (n - 6)\n",
    "    return t"
   ]
  },
  {
   "cell_type": "code",
   "execution_count": 25,
   "metadata": {},
   "outputs": [
    {
     "data": {
      "text/plain": [
       "2.859818369146385"
      ]
     },
     "execution_count": 25,
     "metadata": {},
     "output_type": "execute_result"
    }
   ],
   "source": [
    "t = cal_t_runs_kunth(li_ups)\n",
    "t"
   ]
  },
  {
   "cell_type": "code",
   "execution_count": 26,
   "metadata": {
    "scrolled": true
   },
   "outputs": [
    {
     "name": "stdout",
     "output_type": "stream",
     "text": [
      "t-test: p_value = 0.8262.\n",
      "Is the p value smaller than 0.05? False.\n",
      "If to reject the null hypothesis? False.\n",
      "If to be random enough? True.\n"
     ]
    },
    {
     "data": {
      "text/plain": [
       "0.8262243090446957"
      ]
     },
     "execution_count": 26,
     "metadata": {},
     "output_type": "execute_result"
    }
   ],
   "source": [
    "test_t(t, 6)"
   ]
  },
  {
   "cell_type": "code",
   "execution_count": 27,
   "metadata": {},
   "outputs": [
    {
     "name": "stdout",
     "output_type": "stream",
     "text": [
      "t-test: p_value = 0.5513.\n",
      "Is the p value smaller than 0.05? False.\n",
      "If to reject the null hypothesis? False.\n",
      "If to be random enough? True.\n"
     ]
    },
    {
     "data": {
      "text/plain": [
       "0.5512541665623205"
      ]
     },
     "execution_count": 27,
     "metadata": {},
     "output_type": "execute_result"
    }
   ],
   "source": [
    "li = [rd.random() for i in range(5000)]\n",
    "li_ups = analyse_ups(li)\n",
    "t = cal_t_runs_kunth(li_ups)\n",
    "test_t(t, 6)"
   ]
  },
  {
   "cell_type": "code",
   "execution_count": 28,
   "metadata": {},
   "outputs": [
    {
     "name": "stdout",
     "output_type": "stream",
     "text": [
      "t-test: p_value = 0.0000.\n",
      "Is the p value smaller than 0.05? True.\n",
      "If to reject the null hypothesis? True.\n",
      "If to be random enough? False.\n"
     ]
    },
    {
     "data": {
      "text/plain": [
       "0.0"
      ]
     },
     "execution_count": 28,
     "metadata": {},
     "output_type": "execute_result"
    }
   ],
   "source": [
    "## The size of random number list must be larger than 6\n",
    "li = [1, 2, 3, 4, 5, 6, 7, 8]\n",
    "li_ups = analyse_ups(li)\n",
    "t = cal_t_runs_kunth(li_ups)\n",
    "test_t(t, 6)"
   ]
  },
  {
   "cell_type": "markdown",
   "metadata": {},
   "source": [
    "### 4-3. Up-and-Down Runs Test\n",
    "\n",
    "> For this test the magnitude of each element is compared with that of its immediate predecessor in the given sequence. If the next element is larger we have a run-up: if smaller, a run-down. We thus observe whether the sequence increases or decreases and for how long. A decision concerning the pseudorandom number generator may then be based on the number and length of the runs. -- section 2.3.5 in [rubinstein1986simulation]"
   ]
  },
  {
   "cell_type": "code",
   "execution_count": 29,
   "metadata": {},
   "outputs": [],
   "source": [
    "def get_binary_ud(li):\n",
    "    li_diff = [li[i+1] - li[i] for i in range(0, len(li) - 1)]\n",
    "    li_binary = [1 if i >= 0 else 0 for i in li_diff]\n",
    "    return li_binary"
   ]
  },
  {
   "cell_type": "code",
   "execution_count": 30,
   "metadata": {},
   "outputs": [],
   "source": [
    "def cal_z_runs_ud(li):\n",
    "    \"\"\"Up-and-Down Runs Test\n",
    "    The hypothesis of randomness is rejected when the total number of runs is small.\n",
    "    \"\"\"\n",
    "    num_runs = cal_num_runs(li)\n",
    "    mu = (2 * num_runs - 1) / 3\n",
    "    se = math.sqrt( (16*num_runs - 29) / 90 )\n",
    "    z = (num_runs - mu) / se\n",
    "    print(f'Up-and-Down Runs Test: z = {z:.4f}.')\n",
    "    print(f'Number of runs: {num_runs}.')\n",
    "    \n",
    "    return z"
   ]
  },
  {
   "cell_type": "code",
   "execution_count": 31,
   "metadata": {},
   "outputs": [
    {
     "name": "stdout",
     "output_type": "stream",
     "text": [
      "Up-and-Down Runs Test: z = 2.8604.\n",
      "Number of runs: 8.\n",
      "Z-test: p_value = 0.0042.\n",
      "Is the p value smaller than 0.05? True.\n",
      "If to reject the null hypothesis? True.\n",
      "If to be random enough? False.\n"
     ]
    },
    {
     "data": {
      "text/plain": [
       "0.004231232899758242"
      ]
     },
     "execution_count": 31,
     "metadata": {},
     "output_type": "execute_result"
    }
   ],
   "source": [
    "li = [0.54, 0.67, 0.13, 0.89, 0.33, 0.45, 0.90, 0.01, 0.45, 0.76, 0.82, 0.24, 0.17]\n",
    "li_binary = get_binary_ud(li)\n",
    "z = cal_z_runs_ud(li_binary)\n",
    "test_z(z)"
   ]
  },
  {
   "cell_type": "code",
   "execution_count": 32,
   "metadata": {
    "scrolled": true
   },
   "outputs": [
    {
     "name": "stdout",
     "output_type": "stream",
     "text": [
      "Up-and-Down Runs Test: z = 20.3074.\n",
      "Number of runs: 656.\n",
      "Z-test: p_value = 0.0000.\n",
      "Is the p value smaller than 0.05? True.\n",
      "If to reject the null hypothesis? True.\n",
      "If to be random enough? False.\n"
     ]
    },
    {
     "data": {
      "text/plain": [
       "0.0"
      ]
     },
     "execution_count": 32,
     "metadata": {},
     "output_type": "execute_result"
    }
   ],
   "source": [
    "li = [rd.random() for i in range(1000)]\n",
    "li_binary = get_binary_ud(li)\n",
    "z = cal_z_runs_ud(li_binary)\n",
    "test_z(z)"
   ]
  },
  {
   "cell_type": "code",
   "execution_count": 33,
   "metadata": {},
   "outputs": [
    {
     "name": "stdout",
     "output_type": "stream",
     "text": [
      "Up-and-Down Runs Test: z = 2.6726.\n",
      "Number of runs: 4.\n"
     ]
    }
   ],
   "source": [
    "li = [0.2, 0.4, 0.1, 0.3, 0.6, 0.7, 0.5]\n",
    "li_binary = get_binary_ud(li)\n",
    "z = cal_z_runs_ud(li_binary)"
   ]
  },
  {
   "cell_type": "markdown",
   "metadata": {},
   "source": [
    "## 5. Correlation Test"
   ]
  },
  {
   "cell_type": "code",
   "execution_count": 34,
   "metadata": {},
   "outputs": [],
   "source": [
    "def cal_corr(li, h):\n",
    "    n = len(li)\n",
    "    s = [li[i] * li[i+h] for i in range(n - h)]    \n",
    "    r = sum(s) / (n - h)\n",
    "    mu = 0.25\n",
    "    se = math.sqrt( 7 / 144 / n )\n",
    "\n",
    "    z = (r - mu) / se\n",
    "    return z"
   ]
  },
  {
   "cell_type": "code",
   "execution_count": 35,
   "metadata": {},
   "outputs": [
    {
     "name": "stdout",
     "output_type": "stream",
     "text": [
      "Z-test: p_value = 0.0000.\n",
      "Is the p value smaller than 0.05? True.\n",
      "If to reject the null hypothesis? True.\n",
      "If to be random enough? False.\n"
     ]
    },
    {
     "data": {
      "text/plain": [
       "0.0"
      ]
     },
     "execution_count": 35,
     "metadata": {},
     "output_type": "execute_result"
    }
   ],
   "source": [
    "li = [1, 2, 3, 4, 5, 6, 7, 8]  \n",
    "z = cal_corr(li, 2)\n",
    "test_z(z)"
   ]
  },
  {
   "cell_type": "code",
   "execution_count": 36,
   "metadata": {
    "scrolled": true
   },
   "outputs": [
    {
     "name": "stdout",
     "output_type": "stream",
     "text": [
      "Z-test: p_value = 0.9954.\n",
      "Is the p value smaller than 0.05? False.\n",
      "If to reject the null hypothesis? False.\n",
      "If to be random enough? True.\n"
     ]
    },
    {
     "data": {
      "text/plain": [
       "0.9954355179365568"
      ]
     },
     "execution_count": 36,
     "metadata": {},
     "output_type": "execute_result"
    }
   ],
   "source": [
    "li = [rd.random() for i in range(1000)]\n",
    "z = cal_corr(li, 2)\n",
    "test_z(z)"
   ]
  },
  {
   "cell_type": "markdown",
   "metadata": {},
   "source": [
    "## 6. Distribution Test"
   ]
  },
  {
   "cell_type": "code",
   "execution_count": 37,
   "metadata": {},
   "outputs": [],
   "source": [
    "def test_dist(pvalue:float, alpha:float=0.05):\n",
    "    \"\"\"Perform distribution test of two populations.\"\"\"\n",
    "    print(\"Null hypothesis: two populations have the same distribution. \\n\" \n",
    "        f\"The input p value is {pvalue:.4f}. \\n\"\n",
    "        f\"Is the p value smaller than {alpha}? {pvalue < alpha}. \\n\" \n",
    "        f\"If reject the null hypothesis? {pvalue <= 0.05}. \\n\" \n",
    "        f\"If from the same distribution? {pvalue >= 0.05}. \\n\")"
   ]
  },
  {
   "cell_type": "markdown",
   "metadata": {},
   "source": [
    "### 6-1. `p`-value of  Kolmogorov–Smirnov Statistic\n",
    "\n",
    "For now, I have tested that `cal_pvalue_ks()` have similar results to `schipy.stats.kstest()`.\n",
    "\n",
    "- The question [How to interpret p-value of Kolmogorov-Smirnov test (python)?](https://stats.stackexchange.com/questions/57885/how-to-interpret-p-value-of-kolmogorov-smirnov-test-python) can be answered by showing the function `cal_pvalue_ks()`.\n",
    "- It seems that the statistic follows Kolmogorovs distribution, and there is a function `scipy.stats.kstwobign.cdf()`. But I haven't obtained satifying test results."
   ]
  },
  {
   "cell_type": "code",
   "execution_count": 38,
   "metadata": {},
   "outputs": [],
   "source": [
    "def cal_pvalue_ks(d, n=10, m=1000):\n",
    "    \"\"\"Obtain the p-value corresponding a statistic from Kolmogorov–Smirnov Test.\n",
    "\n",
    "    Keyword arguments:\n",
    "    n -- sample size (default 10)\n",
    "    m -- number of simulation runs (default 500)\n",
    "    \n",
    "    Returns:\n",
    "    pvalue -- p-value\n",
    "    \"\"\"\n",
    "    num_good = 0  # A counter to remember the number of good runs\n",
    "    for i in range(m):\n",
    "        u = [rd.random() for j in range(n)]\n",
    "        u.sort()\n",
    "        d_sim = [j / n - u[j] for j in range(1, (n-1))] + \\\n",
    "            [u[j] - (j-1) / n for j in range(1, (n-1))]\n",
    "        ## If the value is larger than `d`, we say it is a good run.\n",
    "        if max(d_sim) >= d:\n",
    "            num_good += 1\n",
    "\n",
    "    pvalue = num_good / m\n",
    "    return pvalue"
   ]
  },
  {
   "cell_type": "code",
   "execution_count": 39,
   "metadata": {
    "scrolled": true
   },
   "outputs": [
    {
     "name": "stdout",
     "output_type": "stream",
     "text": [
      "The resulted statistic is 0.0235.\n",
      "The p-value calculated by `st.kstest()` is 0.6367.\n",
      "The p-value calculated by `cal_pvalue_ks()` is 0.6390.\n"
     ]
    }
   ],
   "source": [
    "def exam_cal_pvalue_ks():\n",
    "    n = 1000\n",
    "    li = [rd.normalvariate(0, 1) for i in range(n)]\n",
    "    d, pvalue_1 = st.kstest(rvs=li, cdf='norm', N=20)\n",
    "    print(f'The resulted statistic is {d:.4f}.')\n",
    "    print(f'The p-value calculated by `st.kstest()` is {pvalue_1:.4f}.')\n",
    "    \n",
    "    pvalue_2 = cal_pvalue_ks(d, n)\n",
    "    print(f'The p-value calculated by `cal_pvalue_ks()` is {pvalue_2:.4f}.')\n",
    "\n",
    "    \n",
    "exam_cal_pvalue_ks()"
   ]
  },
  {
   "cell_type": "markdown",
   "metadata": {},
   "source": [
    "### 6-2. One-Sample Kolmogorov–Smirnov Test\n",
    "\n",
    "The Kolmogorov-Smirnov statistic for a given cumulative distribution function $F(x)$ is: \n",
    "$$ D_{n} = \\sup_{x} \\left|F_{n}(x) - F(x)\\right| $$\n",
    "where sup $_{x}$ is the supremum of the set of distances. By the Glivenko-Cantelli theorem, if the sample comes from distribution $F(x)$, then $D_{n}$ converges to 0 almost surely in the limit when $n$ goes to infinity. Kolmogorov strengthened this result, by effectively providing the rate of this convergence. Donsker's theorem provides a yet stronger result.\n",
    "\n",
    "- [Difference between supremum and maximum, math.stackexchange](https://math.stackexchange.com/questions/160451/difference-between-supremum-and-maximum)\n",
    "- `scipy.stats.kstest(rvs, cdf, args=(), N=20, alternative='two-sided', mode='approx')`\n",
    "- [docs for random.py](https://docs.python.org/3/library/random.html)\n",
    "- [Statistical functions (scipy.stats)](https://docs.scipy.org/doc/scipy/reference/stats.html)"
   ]
  },
  {
   "cell_type": "code",
   "execution_count": 40,
   "metadata": {},
   "outputs": [],
   "source": [
    "def cal_stat_ks(li, f):\n",
    "    \"\"\"Calculate statistic in one-sample Kolmogorov–Smirnov test.\"\"\"\n",
    "    li.sort()\n",
    "    n = len(li)\n",
    "    li_new = [(j+1) / n - f(li[j]) for j in range(n)] + \\\n",
    "        [f(li[j]) - j / n  for j in range(n)]\n",
    "    stat = max(li_new)\n",
    "    print(f\"One-sample Kolmogorov–Smirnov test: {stat:.4f}.\")\n",
    "    \n",
    "    return stat"
   ]
  },
  {
   "cell_type": "code",
   "execution_count": 41,
   "metadata": {
    "scrolled": true
   },
   "outputs": [
    {
     "name": "stdout",
     "output_type": "stream",
     "text": [
      "The statistic calculated by `st.kstest()` is 0.0165.\n",
      "One-sample Kolmogorov–Smirnov test: 0.0165.\n"
     ]
    }
   ],
   "source": [
    "def exam_cal_stat_ks_1():\n",
    "    n = 1000\n",
    "    li = [rd.normalvariate(0, 1) for i in range(n)]\n",
    "    d, _ = st.kstest(rvs=li, cdf='norm', N=20)\n",
    "    print(f'The statistic calculated by `st.kstest()` is {d:.4f}.')\n",
    "    \n",
    "    d = cal_stat_ks(li, st.norm.cdf)\n",
    "\n",
    "    \n",
    "exam_cal_stat_ks_1()"
   ]
  },
  {
   "cell_type": "code",
   "execution_count": 42,
   "metadata": {
    "scrolled": true
   },
   "outputs": [
    {
     "name": "stdout",
     "output_type": "stream",
     "text": [
      "The statistic calculated by `st.kstest()` is 0.0277.\n",
      "One-sample Kolmogorov–Smirnov test: 0.0277.\n"
     ]
    }
   ],
   "source": [
    "def exam_cal_stat_ks_2():\n",
    "    n = 1000\n",
    "    li = [rd.uniform(0, 1) for i in range(n)]\n",
    "    d, _ = st.kstest(rvs=li, cdf='uniform', N=20)\n",
    "    print(f'The statistic calculated by `st.kstest()` is {d:.4f}.')\n",
    "    \n",
    "    d = cal_stat_ks(li, st.uniform.cdf)\n",
    "\n",
    "    \n",
    "exam_cal_stat_ks_2()"
   ]
  },
  {
   "cell_type": "code",
   "execution_count": 43,
   "metadata": {},
   "outputs": [
    {
     "name": "stdout",
     "output_type": "stream",
     "text": [
      "One-sample Kolmogorov–Smirnov test: 0.0558.\n",
      "Null hypothesis: two populations have the same distribution. \n",
      "The input p value is 0.0040. \n",
      "Is the p value smaller than 0.05? True. \n",
      "If reject the null hypothesis? True. \n",
      "If from the same distribution? False. \n",
      "\n"
     ]
    }
   ],
   "source": [
    "def exam_test_ks():\n",
    "    \"\"\"Examine one-sample KS test.\"\"\"\n",
    "    n = 1000\n",
    "    li = [rd.normalvariate(0, 1) for i in range(n)]\n",
    "    d = cal_stat_ks(li, st.norm.cdf)\n",
    "    pvalue = cal_pvalue_ks(d, n)\n",
    "    test_dist(pvalue)\n",
    "    \n",
    "    \n",
    "exam_test_ks()"
   ]
  },
  {
   "cell_type": "markdown",
   "metadata": {},
   "source": [
    "### 6-3. Two-Sample Kolmogorov–Smirnov Test\n",
    "\n",
    "The Kolmogorov–Smirnov test may also be used to test whether two underlying one-dimensional probability distributions differ. In this case, the Kolmogorov-Smirnov statistic is\n",
    "$$ D_{n, m} = \\sup \\left|F_{1, n}(x)-F_{2, m}(x)\\right| $$\n",
    "\n",
    "- `scipy.stats.ks_2samp(data1, data2, alternative='two-sided', mode='auto')`"
   ]
  },
  {
   "cell_type": "markdown",
   "metadata": {},
   "source": [
    "### 6-4. Chi-Squared Goodness-of-Fit Test (GoF Test)"
   ]
  },
  {
   "cell_type": "code",
   "execution_count": 44,
   "metadata": {},
   "outputs": [],
   "source": [
    "def count_gof(li:list, end_left:float=0, end_right:float=1, k:int=10):\n",
    "    \"\"\"Count numbers of samples in the different intervals in Chi-Squared Goodness-of-Fit Test\n",
    "    \n",
    "    Keyword arguments\n",
    "    =================\n",
    "    li:        list of samples to be tested\n",
    "    end_left:  minimum possible value of the distribution\n",
    "    end_right: maximum possible value of the distribution\n",
    "    k:         number of intervals in the test.\n",
    "    \n",
    "    Returns\n",
    "    =======\n",
    "    counts: list of counts in different intervals\n",
    "    ends:   list of left end of intervals\n",
    "    \"\"\"\n",
    "    if end_left >= end_right:\n",
    "        raise Exception(\"end_left >= end_right!\")\n",
    "    len_interval = (end_right - end_left) / k\n",
    "    ends = [end_left + (i+1) * len_interval for i in range(k)]\n",
    "    ends[-1] = end_right\n",
    "    counts = [0 for i in range(k)]\n",
    "    li.sort()\n",
    "    \n",
    "    j = 0\n",
    "    i = 0\n",
    "    counter = 0\n",
    "    \n",
    "    ## The left side is considered in the first interval    \n",
    "    while li[i] == end_left:\n",
    "        counter += 1\n",
    "        i += 1\n",
    "\n",
    "    while i < len(li):\n",
    "        if li[i] <= ends[j] and li[i] > ends[j] - len_interval:\n",
    "            counter += 1\n",
    "            i += 1\n",
    "        else:\n",
    "            counts[j] = counter + 0\n",
    "            while not (li[i] <= ends[j] and li[i] > ends[j] - len_interval):\n",
    "                j += 1\n",
    "            counter = 1\n",
    "            i += 1\n",
    "    counts[j] = counter + 0\n",
    "            \n",
    "    return counts, ends"
   ]
  },
  {
   "cell_type": "code",
   "execution_count": 45,
   "metadata": {},
   "outputs": [],
   "source": [
    "def test_dist(pvalue:float, alpha:float=0.05):\n",
    "    \"\"\"Perform distribution test.\"\"\"\n",
    "    print(\"Null hypothesis: two populations have the same distribution. \\n\" \n",
    "        f\"The input p value is {pvalue:.4f}. \\n\"\n",
    "        f\"Is the p value smaller than {alpha}? {pvalue < alpha}. \\n\" \n",
    "        f\"If reject the null hypothesis? {pvalue <= 0.05}. \\n\" \n",
    "        f\"If from the same distribution? {pvalue >= 0.05}. \\n\")"
   ]
  },
  {
   "cell_type": "code",
   "execution_count": 46,
   "metadata": {},
   "outputs": [
    {
     "name": "stdout",
     "output_type": "stream",
     "text": [
      "[4, 0, 0, 2, 1]\n"
     ]
    }
   ],
   "source": [
    "def exam_count_gof():\n",
    "    li = [0, 0, 0.1, 0.05, 0.31, 0.32, 0.5]\n",
    "    li_count, li_k = count_gof(li, 0, 0.5, 5)\n",
    "    print(li_count)\n",
    "\n",
    "    \n",
    "exam_count_gof()"
   ]
  },
  {
   "cell_type": "code",
   "execution_count": 47,
   "metadata": {},
   "outputs": [],
   "source": [
    "def cal_stat_gof(li_count, li_k, f):\n",
    "    \"\"\"Calculate the statistic in Goodness of Fit test.\"\"\"\n",
    "    li_cdf = [f(i) for i in li_k]\n",
    "    li_p = [li_cdf[0]] + [li_cdf[i] - li_cdf[i-1] for i in range(1, len(li_cdf))]\n",
    "    n = sum(li_count)\n",
    "    k = len(li_p)\n",
    "    stat = sum( [(li_count[i] - n * li_p[i])**2 / n / li_p[i] for i in range(k)] )\n",
    "    print(f\"Chi-squared goodness of fit test: {stat:.4f}.\")\n",
    "    \n",
    "    return stat"
   ]
  },
  {
   "cell_type": "code",
   "execution_count": 48,
   "metadata": {},
   "outputs": [
    {
     "name": "stdout",
     "output_type": "stream",
     "text": [
      "[82, 86, 120, 110, 98, 107, 103, 97, 109, 88]\n",
      "[0.1, 0.1, 0.10000000000000003, 0.09999999999999998, 0.09999999999999998, 0.10000000000000009, 0.09999999999999998, 0.09999999999999998, 0.09999999999999998, 0.09999999999999998]\n",
      "Chi-squared goodness of fit test: 13.1600.\n",
      "Null hypothesis: two populations have the same distribution. \n",
      "The input p value is 0.1555. \n",
      "Is the p value smaller than 0.05? False. \n",
      "If reject the null hypothesis? False. \n",
      "If from the same distribution? True. \n",
      "\n"
     ]
    }
   ],
   "source": [
    "def exam_gof():\n",
    "    n = 1000\n",
    "    k = 10\n",
    "    li = [rd.uniform(0, 1) for i in range(n)]\n",
    "    li_count, li_k = count_gof(li, 0, 1, k)\n",
    "    print(li_count)\n",
    "    \n",
    "    f = st.uniform.cdf\n",
    "    li_cdf = [f(i) for i in li_k]\n",
    "    li_p = [li_cdf[0]] + [li_cdf[i] - li_cdf[i-1] for i in range(1, len(li_cdf))]\n",
    "    print(li_p)\n",
    "    \n",
    "    stat = cal_stat_gof(li_count, li_k, st.uniform.cdf)\n",
    "    \n",
    "    pvalue = cal_pvalue_chi2(stat, df=k-1)\n",
    "    test_dist(pvalue)\n",
    "    \n",
    "exam_gof()"
   ]
  },
  {
   "cell_type": "code",
   "execution_count": 49,
   "metadata": {},
   "outputs": [
    {
     "name": "stdout",
     "output_type": "stream",
     "text": [
      "Help on function count_gof in module __main__:\n",
      "\n",
      "count_gof(li: list, end_left: float = 0, end_right: float = 1, k: int = 10)\n",
      "    Count numbers of samples in the different intervals in Chi-Squared Goodness-of-Fit Test\n",
      "    \n",
      "    Keyword arguments\n",
      "    =================\n",
      "    li:        list of samples to be tested\n",
      "    end_left:  minimum possible value of the distribution\n",
      "    end_right: maximum possible value of the distribution\n",
      "    k:         number of intervals in the test.\n",
      "    \n",
      "    Returns\n",
      "    =======\n",
      "    counts: list of counts in different intervals\n",
      "    ends:   list of left end of intervals\n",
      "\n"
     ]
    }
   ],
   "source": [
    "help(count_gof)"
   ]
  },
  {
   "cell_type": "code",
   "execution_count": 50,
   "metadata": {},
   "outputs": [
    {
     "name": "stdout",
     "output_type": "stream",
     "text": [
      "12.8\n",
      "Null hypothesis: two populations have the same distribution. \n",
      "The input p value is 0.0123. \n",
      "Is the p value smaller than 0.01? False. \n",
      "If reject the null hypothesis? True. \n",
      "If from the same distribution? False. \n",
      "\n"
     ]
    }
   ],
   "source": [
    "def exam_gof_2():\n",
    "    li_count = [12,5,19,7,7]\n",
    "    li_p = [0.2 for i in range(5)]\n",
    "    n = sum(li_count)\n",
    "    k = len(li_p)\n",
    "    stat = sum( [(li_count[i] - n * li_p[i])**2 / n / li_p[i] for i in range(k)] )\n",
    "    print(stat)\n",
    "    \n",
    "    pvalue = cal_pvalue_chi2(stat, df=k-1)\n",
    "    test_dist(pvalue, 0.01)\n",
    "    \n",
    "\n",
    "exam_gof_2()"
   ]
  }
 ],
 "metadata": {
  "kernelspec": {
   "display_name": "Python 3",
   "language": "python",
   "name": "python3"
  },
  "language_info": {
   "codemirror_mode": {
    "name": "ipython",
    "version": 3
   },
   "file_extension": ".py",
   "mimetype": "text/x-python",
   "name": "python",
   "nbconvert_exporter": "python",
   "pygments_lexer": "ipython3",
   "version": "3.7.6"
  }
 },
 "nbformat": 4,
 "nbformat_minor": 2
}
