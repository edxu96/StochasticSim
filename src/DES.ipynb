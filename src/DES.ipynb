{
 "cells": [
  {
   "cell_type": "markdown",
   "metadata": {},
   "source": [
    "# Stochastic Simulation: Discrete Event Simulation"
   ]
  },
  {
   "cell_type": "code",
   "execution_count": 7,
   "metadata": {
    "scrolled": true
   },
   "outputs": [],
   "source": [
    "import math\n",
    "import pandas as pd\n",
    "import numpy as np\n",
    "from matplotlib import pyplot as plt\n",
    "import scipy.stats as st\n",
    "import random as rd\n",
    "from importlib import reload  \n",
    "import statsmodels.api as sm\n",
    "from typing import Union\n",
    "\n",
    "import TidySimStat as tss\n",
    "# tss = reload(tss)"
   ]
  },
  {
   "cell_type": "markdown",
   "metadata": {},
   "source": [
    "## 1. Output Detailed Simulation Results"
   ]
  },
  {
   "cell_type": "code",
   "execution_count": 8,
   "metadata": {},
   "outputs": [],
   "source": [
    "ser = tss.Servers(f_serve=lambda: tss.sim_exp(8), f_inter=lambda: tss.sim_exp(1), num_servers=10, cap_queue=1)\n",
    "while ser.clock <= 10000:\n",
    "    ser.advance()"
   ]
  },
  {
   "cell_type": "code",
   "execution_count": 9,
   "metadata": {},
   "outputs": [
    {
     "data": {
      "text/html": [
       "<div>\n",
       "<style scoped>\n",
       "    .dataframe tbody tr th:only-of-type {\n",
       "        vertical-align: middle;\n",
       "    }\n",
       "\n",
       "    .dataframe tbody tr th {\n",
       "        vertical-align: top;\n",
       "    }\n",
       "\n",
       "    .dataframe thead th {\n",
       "        text-align: right;\n",
       "    }\n",
       "</style>\n",
       "<table border=\"1\" class=\"dataframe\">\n",
       "  <thead>\n",
       "    <tr style=\"text-align: right;\">\n",
       "      <th></th>\n",
       "      <th>clock</th>\n",
       "      <th>type</th>\n",
       "      <th>len_queue</th>\n",
       "      <th>num_arriveds</th>\n",
       "      <th>num_busys</th>\n",
       "      <th>num_block</th>\n",
       "      <th>i_customer</th>\n",
       "    </tr>\n",
       "  </thead>\n",
       "  <tbody>\n",
       "    <tr>\n",
       "      <th>1</th>\n",
       "      <td>1.513364</td>\n",
       "      <td>arrive-serve</td>\n",
       "      <td>0</td>\n",
       "      <td>1</td>\n",
       "      <td>1</td>\n",
       "      <td>0</td>\n",
       "      <td>1</td>\n",
       "    </tr>\n",
       "    <tr>\n",
       "      <th>2</th>\n",
       "      <td>3.027902</td>\n",
       "      <td>arrive-serve</td>\n",
       "      <td>0</td>\n",
       "      <td>2</td>\n",
       "      <td>2</td>\n",
       "      <td>0</td>\n",
       "      <td>2</td>\n",
       "    </tr>\n",
       "    <tr>\n",
       "      <th>3</th>\n",
       "      <td>3.515396</td>\n",
       "      <td>leave</td>\n",
       "      <td>0</td>\n",
       "      <td>2</td>\n",
       "      <td>1</td>\n",
       "      <td>0</td>\n",
       "      <td>1</td>\n",
       "    </tr>\n",
       "    <tr>\n",
       "      <th>4</th>\n",
       "      <td>4.471413</td>\n",
       "      <td>arrive-serve</td>\n",
       "      <td>0</td>\n",
       "      <td>3</td>\n",
       "      <td>2</td>\n",
       "      <td>0</td>\n",
       "      <td>3</td>\n",
       "    </tr>\n",
       "    <tr>\n",
       "      <th>5</th>\n",
       "      <td>5.376605</td>\n",
       "      <td>arrive-serve</td>\n",
       "      <td>0</td>\n",
       "      <td>4</td>\n",
       "      <td>3</td>\n",
       "      <td>0</td>\n",
       "      <td>4</td>\n",
       "    </tr>\n",
       "  </tbody>\n",
       "</table>\n",
       "</div>"
      ],
      "text/plain": [
       "      clock          type  len_queue  num_arriveds  num_busys  num_block  \\\n",
       "1  1.513364  arrive-serve          0             1          1          0   \n",
       "2  3.027902  arrive-serve          0             2          2          0   \n",
       "3  3.515396         leave          0             2          1          0   \n",
       "4  4.471413  arrive-serve          0             3          2          0   \n",
       "5  5.376605  arrive-serve          0             4          3          0   \n",
       "\n",
       "   i_customer  \n",
       "1           1  \n",
       "2           2  \n",
       "3           1  \n",
       "4           3  \n",
       "5           4  "
      ]
     },
     "execution_count": 9,
     "metadata": {},
     "output_type": "execute_result"
    }
   ],
   "source": [
    "ser.pd_events[0:5]"
   ]
  },
  {
   "cell_type": "code",
   "execution_count": 10,
   "metadata": {
    "scrolled": false
   },
   "outputs": [
    {
     "data": {
      "text/html": [
       "<div>\n",
       "<style scoped>\n",
       "    .dataframe tbody tr th:only-of-type {\n",
       "        vertical-align: middle;\n",
       "    }\n",
       "\n",
       "    .dataframe tbody tr th {\n",
       "        vertical-align: top;\n",
       "    }\n",
       "\n",
       "    .dataframe thead th {\n",
       "        text-align: right;\n",
       "    }\n",
       "</style>\n",
       "<table border=\"1\" class=\"dataframe\">\n",
       "  <thead>\n",
       "    <tr style=\"text-align: right;\">\n",
       "      <th></th>\n",
       "      <th>clock</th>\n",
       "      <th>type</th>\n",
       "      <th>t</th>\n",
       "      <th>i_customer</th>\n",
       "    </tr>\n",
       "  </thead>\n",
       "  <tbody>\n",
       "    <tr>\n",
       "      <th>1</th>\n",
       "      <td>1.513364</td>\n",
       "      <td>serve</td>\n",
       "      <td>2.002032</td>\n",
       "      <td>1</td>\n",
       "    </tr>\n",
       "    <tr>\n",
       "      <th>2</th>\n",
       "      <td>1.513364</td>\n",
       "      <td>inter</td>\n",
       "      <td>1.514539</td>\n",
       "      <td>2</td>\n",
       "    </tr>\n",
       "    <tr>\n",
       "      <th>3</th>\n",
       "      <td>3.027902</td>\n",
       "      <td>serve</td>\n",
       "      <td>25.952955</td>\n",
       "      <td>2</td>\n",
       "    </tr>\n",
       "    <tr>\n",
       "      <th>4</th>\n",
       "      <td>3.027902</td>\n",
       "      <td>inter</td>\n",
       "      <td>1.443510</td>\n",
       "      <td>3</td>\n",
       "    </tr>\n",
       "    <tr>\n",
       "      <th>5</th>\n",
       "      <td>4.471413</td>\n",
       "      <td>serve</td>\n",
       "      <td>5.645919</td>\n",
       "      <td>3</td>\n",
       "    </tr>\n",
       "    <tr>\n",
       "      <th>6</th>\n",
       "      <td>4.471413</td>\n",
       "      <td>inter</td>\n",
       "      <td>0.905193</td>\n",
       "      <td>4</td>\n",
       "    </tr>\n",
       "    <tr>\n",
       "      <th>7</th>\n",
       "      <td>5.376605</td>\n",
       "      <td>serve</td>\n",
       "      <td>1.255494</td>\n",
       "      <td>4</td>\n",
       "    </tr>\n",
       "    <tr>\n",
       "      <th>8</th>\n",
       "      <td>5.376605</td>\n",
       "      <td>inter</td>\n",
       "      <td>1.975906</td>\n",
       "      <td>5</td>\n",
       "    </tr>\n",
       "    <tr>\n",
       "      <th>9</th>\n",
       "      <td>7.352511</td>\n",
       "      <td>serve</td>\n",
       "      <td>9.063047</td>\n",
       "      <td>5</td>\n",
       "    </tr>\n",
       "    <tr>\n",
       "      <th>10</th>\n",
       "      <td>7.352511</td>\n",
       "      <td>inter</td>\n",
       "      <td>0.553235</td>\n",
       "      <td>6</td>\n",
       "    </tr>\n",
       "  </tbody>\n",
       "</table>\n",
       "</div>"
      ],
      "text/plain": [
       "       clock   type          t  i_customer\n",
       "1   1.513364  serve   2.002032           1\n",
       "2   1.513364  inter   1.514539           2\n",
       "3   3.027902  serve  25.952955           2\n",
       "4   3.027902  inter   1.443510           3\n",
       "5   4.471413  serve   5.645919           3\n",
       "6   4.471413  inter   0.905193           4\n",
       "7   5.376605  serve   1.255494           4\n",
       "8   5.376605  inter   1.975906           5\n",
       "9   7.352511  serve   9.063047           5\n",
       "10  7.352511  inter   0.553235           6"
      ]
     },
     "execution_count": 10,
     "metadata": {},
     "output_type": "execute_result"
    }
   ],
   "source": [
    "ser.pd_times[0:10]"
   ]
  },
  {
   "cell_type": "markdown",
   "metadata": {},
   "source": [
    "## 2. Calculate Block Rates of Queueing System with Finite Waiting Space"
   ]
  },
  {
   "cell_type": "code",
   "execution_count": 13,
   "metadata": {
    "scrolled": true
   },
   "outputs": [],
   "source": [
    "block_rates = [0 for i in range(10)]\n",
    "for i in range(10):\n",
    "    ser = tss.Servers(f_serve=lambda: tss.sim_exp(8), f_inter=lambda: tss.sim_exp(1), num_servers=10, cap_queue=0)\n",
    "    while ser.num_arriveds <= 10000:\n",
    "        ser.advance()\n",
    "    block_rates[i] = ser.num_block / 10000"
   ]
  },
  {
   "cell_type": "code",
   "execution_count": 14,
   "metadata": {
    "scrolled": false
   },
   "outputs": [
    {
     "data": {
      "text/plain": [
       "[0.1228,\n",
       " 0.1187,\n",
       " 0.1285,\n",
       " 0.1234,\n",
       " 0.1164,\n",
       " 0.1284,\n",
       " 0.1299,\n",
       " 0.1282,\n",
       " 0.1082,\n",
       " 0.1091]"
      ]
     },
     "execution_count": 14,
     "metadata": {},
     "output_type": "execute_result"
    }
   ],
   "source": [
    "block_rates"
   ]
  }
 ],
 "metadata": {
  "kernelspec": {
   "display_name": "Python 3",
   "language": "python",
   "name": "python3"
  },
  "language_info": {
   "codemirror_mode": {
    "name": "ipython",
    "version": 3
   },
   "file_extension": ".py",
   "mimetype": "text/x-python",
   "name": "python",
   "nbconvert_exporter": "python",
   "pygments_lexer": "ipython3",
   "version": "3.7.6"
  }
 },
 "nbformat": 4,
 "nbformat_minor": 2
}
