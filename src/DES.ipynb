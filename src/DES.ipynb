{
 "cells": [
  {
   "cell_type": "markdown",
   "metadata": {},
   "source": [
    "# Stochastic Simulation: Discrete Event Simulation"
   ]
  },
  {
   "cell_type": "code",
   "execution_count": 1,
   "metadata": {},
   "outputs": [
    {
     "name": "stdout",
     "output_type": "stream",
     "text": [
      "`TidySimStat.py` by Edward J. Xu is imported. Copyright all reserved. \n",
      "Last modifed date is June 2, 2020.\n"
     ]
    }
   ],
   "source": [
    "import random as rd\n",
    "import TidySimStat as tss"
   ]
  },
  {
   "cell_type": "code",
   "execution_count": 41,
   "metadata": {},
   "outputs": [],
   "source": [
    "\n",
    "class Node:\n",
    "\n",
    "    def __init__(self, index):\n",
    "        self._index = index\n",
    "        self._next = None\n",
    "\n",
    "\n",
    "class Head:\n",
    "\n",
    "    def __init__(self):\n",
    "        \"Initiate an empty linked list.\"\n",
    "        self._next = None\n",
    "\n",
    "    def insert(self, node_new):\n",
    "        \"Insert the given node according to indices.\"\n",
    "        if self.last._index <= node_new._index:\n",
    "            ## If the index of the last node is smaller than the index of the\n",
    "            ## given node, there is no need to check all nodes.\n",
    "            self.last._next = node_new\n",
    "        else:\n",
    "            cur = self._next\n",
    "            while True:\n",
    "                if cur._next._index < node_new._index:\n",
    "                    cur = cur._next\n",
    "                else:\n",
    "                    node_new._next = cur._next\n",
    "                    cur._next = node_new\n",
    "                    break\n",
    "\n",
    "    def undock():\n",
    "        \"\"\"Undock the first node and return it. The second node become the\n",
    "        first one.\"\"\"\n",
    "        undocked = self._next\n",
    "        self._next = self._next._next\n",
    "\n",
    "        return undocked\n",
    "\n",
    "    def collect_index(self):\n",
    "        cur = self._next\n",
    "        indices = {}\n",
    "        i = 0\n",
    "        while cur:\n",
    "            indices[i] = cur._index\n",
    "            cur = cur._next\n",
    "            i += 1\n",
    "        n = len(indices)\n",
    "        print(n)\n",
    "        results = [indices[i] for i in range(n)]\n",
    "\n",
    "\n",
    "class Arrival(Node):\n",
    "\n",
    "    def __init__(self, time):\n",
    "        super().__init__(time)\n",
    "        self.whe_block = None\n",
    "        self._next_arrived = None\n",
    "\n",
    "\n",
    "class Leave(Node):\n",
    "\n",
    "    def __init__(self, time:float, whi_server:int):\n",
    "        super().__init__(time)\n",
    "        self.whi_server = whi_server\n",
    "        self._arrival = None\n",
    "\n",
    "\n",
    "class Servers(Head):\n",
    "\n",
    "    def __init__(self, f_serve, f_arrive, num:int=5):\n",
    "        \"\"\"Queueing system modelled by linked lists.\n",
    "\n",
    "        Notes\n",
    "        =====\n",
    "        There is no waiting room in this setting.\n",
    "        \"\"\"\n",
    "        if not callable(f_serve):\n",
    "            raise ValueError(\"Function to simulate service time is \"\n",
    "                \"not callable.\")\n",
    "        if not callable(f_arrive):\n",
    "            raise ValueError(\"Function to simulate arrival sojourn time is \"\n",
    "                \"not callable.\")\n",
    "\n",
    "        super().__init__()\n",
    "        self.states = [0 for i in range(num)]\n",
    "        self.num_arrival = 0\n",
    "        self.num_block = 0\n",
    "        self.f_serve = f_serve\n",
    "        self.f_arrive = f_arrive\n",
    "        self.clock = 0\n",
    "        self._next_arrived = None\n",
    "\n",
    "        self.warmup()\n",
    "\n",
    "    def warmup(self):\n",
    "        \"\"\"Warm up the scheduled arrivals.\n",
    "\n",
    "        Notes\n",
    "        =====\n",
    "        There is no need to schedule multiple arrivals in warming up stage.\n",
    "        \"\"\"\n",
    "        t = self.f_arrive()\n",
    "        self._next = Arrival(t)\n",
    "        # self.states[0] = 1\n",
    "        # self._next_arrived = self._next\n",
    "\n",
    "    def schedule_arrival(self):\n",
    "        \"\"\"The new arrival always follows the last scheduled arrival.\"\"\"\n",
    "        t = self._next._index + self.f_arrive()\n",
    "        self.insert(Arrival(t))\n",
    "\n",
    "    def schedule_leave(self, whi_server):\n",
    "        t = self.clock + self.f_serve()\n",
    "        self.insert(Leave(t, whi_server))\n",
    "\n",
    "    def arrive(self):\n",
    "        \"Event routine triggered when a new customer arrives.\"\n",
    "        self.num_arrival += 1\n",
    "        whi_server = self.first_idle + 0\n",
    "        if whi_server > self.num:  # There is no idle server.\n",
    "            ## If the customer is blocked, there is no need to set a\n",
    "            ## `leave` event.\n",
    "            self.num_block += 1\n",
    "            self._next.whe_block = 1\n",
    "        else:\n",
    "            ## To assign the customer to the first idle server and simulate\n",
    "            ## his/her leaving time.\n",
    "            self.states[whi_server] = 1\n",
    "            # print(self.states)\n",
    "            self.schedule_leave(whi_server)\n",
    "\n",
    "        ## Next schedule\n",
    "        self.schedule_arrival()\n",
    "\n",
    "    def leave(self):\n",
    "        \"Event routine triggered when an existing customer leaves.\"\n",
    "        self.states[self._next.whi_server] = 0  # To set the server idle.\n",
    "\n",
    "    def advance(self):\n",
    "        \"Invoke next event and advance the clock time.\"\n",
    "        self.clock = self._next._index + 0\n",
    "\n",
    "        if type(self._next) is Leave:\n",
    "            self.leave()\n",
    "            self._next = self._next._next\n",
    "        else:\n",
    "            self.arrive()\n",
    "            self._last_schedule = self._next\n",
    "            self._next = self._next._next\n",
    "\n",
    "        return self.clock\n",
    "\n",
    "    @property\n",
    "    def num(self):\n",
    "        return len(self.states)\n",
    "\n",
    "    @property\n",
    "    def first_idle(self):\n",
    "        result = 0\n",
    "        i = 0\n",
    "        while i <= self.num:\n",
    "            if self.states[i] == 0:\n",
    "                break\n",
    "            else:\n",
    "                i += 1\n",
    "        return i\n",
    "\n",
    "    @property\n",
    "    def last(self):\n",
    "        cur = self._next\n",
    "        while cur._next:\n",
    "            cur = cur._next\n",
    "        return cur\n",
    "\n",
    "    # @property\n",
    "    # def last_arrival(self):\n",
    "    #     cur = self._next_arrived\n",
    "    #     while cur._next_arrived:\n",
    "    #         cur = cur._next_arrived\n",
    "    #     return cur\n"
   ]
  },
  {
   "cell_type": "code",
   "execution_count": 42,
   "metadata": {},
   "outputs": [
    {
     "name": "stdout",
     "output_type": "stream",
     "text": [
      "1\n"
     ]
    }
   ],
   "source": [
    "ser = Servers(lambda: 5, lambda: 5, 10)\n",
    "ser.collect_index()"
   ]
  },
  {
   "cell_type": "code",
   "execution_count": 43,
   "metadata": {},
   "outputs": [
    {
     "data": {
      "text/plain": [
       "True"
      ]
     },
     "execution_count": 43,
     "metadata": {},
     "output_type": "execute_result"
    }
   ],
   "source": [
    "[1] == [1]"
   ]
  },
  {
   "cell_type": "code",
   "execution_count": 34,
   "metadata": {},
   "outputs": [],
   "source": [
    "ser = Servers(num=10, f_serve=lambda: tss.sim_exp(5), f_arrive=lambda: tss.sim_exp(5))"
   ]
  },
  {
   "cell_type": "code",
   "execution_count": 35,
   "metadata": {},
   "outputs": [
    {
     "ename": "AttributeError",
     "evalue": "'Servers' object has no attribute '_last_schedule'",
     "output_type": "error",
     "traceback": [
      "\u001b[0;31m---------------------------------------------------------------------------\u001b[0m",
      "\u001b[0;31mAttributeError\u001b[0m                            Traceback (most recent call last)",
      "\u001b[0;32m<ipython-input-35-7e15ad6b9387>\u001b[0m in \u001b[0;36m<module>\u001b[0;34m\u001b[0m\n\u001b[0;32m----> 1\u001b[0;31m \u001b[0mser\u001b[0m\u001b[0;34m.\u001b[0m\u001b[0mwarmup\u001b[0m\u001b[0;34m(\u001b[0m\u001b[0;34m)\u001b[0m\u001b[0;34m\u001b[0m\u001b[0;34m\u001b[0m\u001b[0m\n\u001b[0m\u001b[1;32m      2\u001b[0m \u001b[0mser\u001b[0m\u001b[0;34m.\u001b[0m\u001b[0mshow_all\u001b[0m\u001b[0;34m(\u001b[0m\u001b[0;34m)\u001b[0m\u001b[0;34m\u001b[0m\u001b[0;34m\u001b[0m\u001b[0m\n",
      "\u001b[0;32m<ipython-input-33-fb41bf7de554>\u001b[0m in \u001b[0;36mwarmup\u001b[0;34m(self)\u001b[0m\n\u001b[1;32m     75\u001b[0m         \u001b[0mself\u001b[0m\u001b[0;34m.\u001b[0m\u001b[0mstates\u001b[0m\u001b[0;34m[\u001b[0m\u001b[0;36m0\u001b[0m\u001b[0;34m]\u001b[0m \u001b[0;34m=\u001b[0m \u001b[0;36m1\u001b[0m\u001b[0;34m\u001b[0m\u001b[0;34m\u001b[0m\u001b[0m\n\u001b[1;32m     76\u001b[0m \u001b[0;34m\u001b[0m\u001b[0m\n\u001b[0;32m---> 77\u001b[0;31m         \u001b[0mself\u001b[0m\u001b[0;34m.\u001b[0m\u001b[0m_last_schedule\u001b[0m \u001b[0;34m+=\u001b[0m \u001b[0mself\u001b[0m\u001b[0;34m.\u001b[0m\u001b[0mf_arrive\u001b[0m\u001b[0;34m(\u001b[0m\u001b[0;34m)\u001b[0m\u001b[0;34m\u001b[0m\u001b[0;34m\u001b[0m\u001b[0m\n\u001b[0m\u001b[1;32m     78\u001b[0m         \u001b[0mself\u001b[0m\u001b[0;34m.\u001b[0m\u001b[0m_next\u001b[0m \u001b[0;34m=\u001b[0m \u001b[0mArrival\u001b[0m\u001b[0;34m(\u001b[0m\u001b[0mself\u001b[0m\u001b[0;34m.\u001b[0m\u001b[0m_last_schedule\u001b[0m\u001b[0;34m)\u001b[0m\u001b[0;34m\u001b[0m\u001b[0;34m\u001b[0m\u001b[0m\n\u001b[1;32m     79\u001b[0m \u001b[0;34m\u001b[0m\u001b[0m\n",
      "\u001b[0;31mAttributeError\u001b[0m: 'Servers' object has no attribute '_last_schedule'"
     ]
    }
   ],
   "source": [
    "ser.warmup()\n",
    "ser.show_all()"
   ]
  },
  {
   "cell_type": "code",
   "execution_count": 22,
   "metadata": {
    "scrolled": true
   },
   "outputs": [
    {
     "name": "stdout",
     "output_type": "stream",
     "text": [
      "[1, 1, 0, 0, 0, 0, 0, 0, 0, 0]\n",
      "[1, 1, 1, 0, 0, 0, 0, 0, 0, 0]\n",
      "[1, 1, 0, 0, 0, 0, 0, 0, 0, 0]\n",
      "[1, 1, 0, 0, 0, 0, 0, 0, 0, 0]\n",
      "[1, 1, 1, 0, 0, 0, 0, 0, 0, 0]\n",
      "[1, 1, 1, 1, 0, 0, 0, 0, 0, 0]\n",
      "[1, 1, 1, 1, 0, 0, 0, 0, 0, 0]\n",
      "[1, 1, 0, 1, 0, 0, 0, 0, 0, 0]\n",
      "[1, 1, 0, 0, 0, 0, 0, 0, 0, 0]\n",
      "[1, 1, 0, 0, 0, 0, 0, 0, 0, 0]\n",
      "[1, 1, 0, 0, 0, 0, 0, 0, 0, 0]\n",
      "[1, 1, 1, 0, 0, 0, 0, 0, 0, 0]\n",
      "[1, 1, 1, 1, 0, 0, 0, 0, 0, 0]\n",
      "[1, 1, 1, 0, 0, 0, 0, 0, 0, 0]\n",
      "[1, 1, 1, 0, 0, 0, 0, 0, 0, 0]\n",
      "[1, 1, 1, 1, 0, 0, 0, 0, 0, 0]\n"
     ]
    }
   ],
   "source": [
    "ser = Servers(num=10, f_serve=lambda: tss.sim_exp(5), f_arrive=lambda: tss.sim_exp(5))\n",
    "ser.warmup()\n",
    "clock = 0\n",
    "while clock <= 100:\n",
    "    clock = ser.advance()"
   ]
  },
  {
   "cell_type": "code",
   "execution_count": 24,
   "metadata": {},
   "outputs": [
    {
     "name": "stdout",
     "output_type": "stream",
     "text": [
      "1-th event invoke time: 101.4041845697292\n",
      "2-th event invoke time: 103.3489731418054\n",
      "3-th event invoke time: 106.26527470019144\n",
      "4-th event invoke time: 111.51176292771603\n",
      "5-th event invoke time: 111.62918458882754\n",
      "6-th event invoke time: 116.43794989568627\n",
      "7-th event invoke time: 117.27897965288827\n",
      "8-th event invoke time: 123.48802146860986\n",
      "9-th event invoke time: 126.09902556415422\n",
      "10-th event invoke time: 136.0048862193945\n",
      "11-th event invoke time: 137.12271299637982\n",
      "12-th event invoke time: 139.71482334447103\n",
      "13-th event invoke time: 141.4408838512817\n",
      "14-th event invoke time: 146.45844764868093\n"
     ]
    }
   ],
   "source": [
    "ser.show_all()"
   ]
  },
  {
   "cell_type": "code",
   "execution_count": 23,
   "metadata": {},
   "outputs": [
    {
     "data": {
      "text/plain": [
       "146.45844764868093"
      ]
     },
     "execution_count": 23,
     "metadata": {},
     "output_type": "execute_result"
    }
   ],
   "source": [
    "ser.schedule()\n",
    "ser.last._index"
   ]
  },
  {
   "cell_type": "code",
   "execution_count": 32,
   "metadata": {},
   "outputs": [
    {
     "data": {
      "text/plain": [
       "True"
      ]
     },
     "execution_count": 32,
     "metadata": {},
     "output_type": "execute_result"
    }
   ],
   "source": [
    "type(ser.last) is Event"
   ]
  },
  {
   "cell_type": "code",
   "execution_count": 30,
   "metadata": {},
   "outputs": [],
   "source": [
    "def add(num, nums=[]):\n",
    "#     if nums is None:\n",
    "#         nums = []\n",
    "    nums.append(num)\n",
    "    print(nums)"
   ]
  },
  {
   "cell_type": "code",
   "execution_count": 31,
   "metadata": {},
   "outputs": [
    {
     "name": "stdout",
     "output_type": "stream",
     "text": [
      "([],)\n",
      "[1]\n",
      "([1],)\n"
     ]
    }
   ],
   "source": [
    "print(add.__defaults__)\n",
    "add(1)\n",
    "print(add.__defaults__)"
   ]
  },
  {
   "cell_type": "code",
   "execution_count": null,
   "metadata": {},
   "outputs": [],
   "source": []
  }
 ],
 "metadata": {
  "kernelspec": {
   "display_name": "Python 3",
   "language": "python",
   "name": "python3"
  },
  "language_info": {
   "codemirror_mode": {
    "name": "ipython",
    "version": 3
   },
   "file_extension": ".py",
   "mimetype": "text/x-python",
   "name": "python",
   "nbconvert_exporter": "python",
   "pygments_lexer": "ipython3",
   "version": "3.7.6"
  }
 },
 "nbformat": 4,
 "nbformat_minor": 2
}
