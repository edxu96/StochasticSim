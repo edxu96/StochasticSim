{
 "cells": [
  {
   "cell_type": "markdown",
   "metadata": {},
   "source": [
    "# Stochastic Simulation: Discrete Event Simulation"
   ]
  },
  {
   "cell_type": "code",
   "execution_count": 1,
   "metadata": {},
   "outputs": [
    {
     "name": "stdout",
     "output_type": "stream",
     "text": [
      "`TidySimStat.py` by Edward J. Xu is imported. Copyright all reserved. \n",
      "Last modifed date is June 2, 2020.\n"
     ]
    }
   ],
   "source": [
    "import random as rd\n",
    "import TidySimStat as tss"
   ]
  },
  {
   "cell_type": "code",
   "execution_count": 97,
   "metadata": {},
   "outputs": [],
   "source": [
    "class Node:\n",
    "\n",
    "    def __init__(self, index):\n",
    "        self._index = index\n",
    "        self._next = None\n",
    "\n",
    "\n",
    "class Head:\n",
    "\n",
    "    def __init__(self):\n",
    "        \"Initiate an empty linked list.\"\n",
    "        self._next = None\n",
    "\n",
    "    def insert(self, node_new):\n",
    "        \"Insert the given node according to indices.\"\n",
    "        cur = self._next\n",
    "        while True:\n",
    "            if cur._next is None:\n",
    "                cur._next = node_new\n",
    "                break\n",
    "            elif cur._next._index < node_new._index:\n",
    "                cur = cur._next\n",
    "            else:\n",
    "                node_new._next = cur._next\n",
    "                cur._next = node_new\n",
    "                break\n",
    "\n",
    "    def print_all(self):\n",
    "        cur = self._next\n",
    "        i = 1\n",
    "        while cur:\n",
    "            print(f\"{i}-th event invoke time: {cur._index}\")\n",
    "            cur = cur._next\n",
    "            i += 1\n",
    "\n",
    "\n",
    "class Event(Node):\n",
    "\n",
    "    def __init__(self, time, whi_server=None):\n",
    "        super().__init__(time)\n",
    "        self.whi_server = whi_server\n",
    "\n",
    "    def trigger(self):\n",
    "        \"The event is triggered.\"\n",
    "\n",
    "\n",
    "class Servers(Head):\n",
    "\n",
    "    def __init__(self, num, f_serve, f_arrive):\n",
    "        if not callable(f_serve):\n",
    "            raise ValueError(\"Function to simulate service time is \"\n",
    "                \"not callable.\")\n",
    "        if not callable(f_arrive):\n",
    "            raise ValueError(\"Function to simulate arrival sojourn time is \"\n",
    "                \"not callable.\")\n",
    "\n",
    "        super().__init__()\n",
    "        self.states = [0 for i in range(num)]\n",
    "        self.num_arrival = 0\n",
    "        self.blocks = {}\n",
    "        self.f_serve = f_serve\n",
    "        self.f_arrive = f_arrive\n",
    "        self.clock = 0\n",
    "        self._last_schedule = 0\n",
    "\n",
    "    def warmup(self):\n",
    "        self.states[0] = 1\n",
    "\n",
    "        self._last_schedule += self.f_arrive()\n",
    "        self._next = Event(self._last_schedule)\n",
    "\n",
    "        for i in range(10):\n",
    "            self.schedule()\n",
    "\n",
    "    def schedule(self):\n",
    "        \"\"\"The new arrival always follows the last scheduled arrival.\"\"\"\n",
    "        self._last_schedule += self.f_arrive()\n",
    "        self.insert(Event(self._last_schedule))\n",
    "\n",
    "    def arrive(self):\n",
    "        \"Event routine triggered when a new customer arrives.\"\n",
    "        self.num_arrival += 1\n",
    "        first = self.first_idle + 0\n",
    "        if first > self.num:  # There is no idle server.\n",
    "            ## The customer is blocked.\n",
    "            ## There is no need to set a `leave` event.\n",
    "            self.blocks[len(self.blocks) + 1] = self.num_arrival\n",
    "        else:\n",
    "            ## To assign the customer to the first idle server and simulate\n",
    "            ## his/her leaving time.\n",
    "            self.states[first] = 1\n",
    "            print(self.states)  # !!!!!!!!!!!!!!!!!!!!!!!!!!!\n",
    "            t_leave = self.clock + self.f_serve()\n",
    "            self.insert(Event(t_leave, first))\n",
    "\n",
    "        ## Next schedule\n",
    "        self.schedule()\n",
    "\n",
    "    def leave(self, whi_server):\n",
    "        \"Event routine triggered when an existing customer leaves.\"\n",
    "        self.states[whi_server] = 0\n",
    "\n",
    "    def advance(self):\n",
    "        \"Invoke next event and advance the clock time.\"\n",
    "        self.clock = self._next._index + 0\n",
    "        # print(self.clock)\n",
    "        if self._next.whi_server:\n",
    "            self.leave(self._next.whi_server)\n",
    "        else:\n",
    "            self.arrive()\n",
    "\n",
    "        self._next = self._next._next\n",
    "        return self.clock\n",
    "\n",
    "    @property\n",
    "    def num(self):\n",
    "        return len(self.states)\n",
    "\n",
    "    @property\n",
    "    def first_idle(self):\n",
    "        result = 0\n",
    "        i = 0\n",
    "        while i <= self.num:\n",
    "            if self.states[i] == 0:\n",
    "                break\n",
    "            else:\n",
    "                i += 1\n",
    "        return i"
   ]
  },
  {
   "cell_type": "code",
   "execution_count": 98,
   "metadata": {},
   "outputs": [],
   "source": [
    "ser = Servers(num=10, f_serve=lambda: tss.sim_exp(5), f_arrive=lambda: tss.sim_exp(5))"
   ]
  },
  {
   "cell_type": "code",
   "execution_count": 99,
   "metadata": {},
   "outputs": [
    {
     "name": "stdout",
     "output_type": "stream",
     "text": [
      "1-th event invoke time: 8.480582897763009\n",
      "2-th event invoke time: 12.206968731073083\n",
      "3-th event invoke time: 14.884704643499996\n",
      "4-th event invoke time: 16.826163736876047\n",
      "5-th event invoke time: 23.66579399442033\n",
      "6-th event invoke time: 25.90703203699378\n",
      "7-th event invoke time: 26.56817460634789\n",
      "8-th event invoke time: 31.897023753594876\n",
      "9-th event invoke time: 42.786599240726815\n",
      "10-th event invoke time: 61.16425533760679\n",
      "11-th event invoke time: 65.82472364226837\n"
     ]
    }
   ],
   "source": [
    "ser.warmup()\n",
    "ser.print_all()"
   ]
  },
  {
   "cell_type": "code",
   "execution_count": 103,
   "metadata": {},
   "outputs": [
    {
     "name": "stdout",
     "output_type": "stream",
     "text": [
      "[1, 1, 0, 0, 0, 0, 0, 0, 0, 0]\n",
      "[1, 1, 1, 0, 0, 0, 0, 0, 0, 0]\n",
      "[1, 1, 1, 0, 0, 0, 0, 0, 0, 0]\n",
      "[1, 1, 1, 0, 0, 0, 0, 0, 0, 0]\n",
      "[1, 1, 1, 0, 0, 0, 0, 0, 0, 0]\n",
      "[1, 1, 1, 1, 0, 0, 0, 0, 0, 0]\n",
      "[1, 1, 0, 1, 0, 0, 0, 0, 0, 0]\n",
      "[1, 1, 1, 0, 0, 0, 0, 0, 0, 0]\n",
      "[1, 1, 0, 0, 0, 0, 0, 0, 0, 0]\n",
      "[1, 1, 1, 0, 0, 0, 0, 0, 0, 0]\n",
      "[1, 1, 0, 0, 0, 0, 0, 0, 0, 0]\n",
      "[1, 1, 1, 0, 0, 0, 0, 0, 0, 0]\n",
      "[1, 1, 1, 1, 0, 0, 0, 0, 0, 0]\n",
      "[1, 1, 1, 1, 0, 0, 0, 0, 0, 0]\n",
      "[1, 1, 1, 1, 1, 0, 0, 0, 0, 0]\n",
      "[1, 1, 1, 1, 1, 1, 0, 0, 0, 0]\n",
      "[1, 1, 0, 0, 0, 0, 0, 0, 0, 0]\n",
      "[1, 1, 1, 0, 0, 0, 0, 0, 0, 0]\n",
      "[1, 1, 0, 0, 0, 0, 0, 0, 0, 0]\n",
      "[1, 1, 1, 0, 0, 0, 0, 0, 0, 0]\n",
      "[1, 1, 0, 0, 0, 0, 0, 0, 0, 0]\n",
      "[1, 1, 0, 0, 0, 0, 0, 0, 0, 0]\n",
      "[1, 1, 0, 0, 0, 0, 0, 0, 0, 0]\n",
      "[1, 1, 1, 0, 0, 0, 0, 0, 0, 0]\n",
      "[1, 1, 1, 1, 0, 0, 0, 0, 0, 0]\n",
      "[1, 1, 1, 1, 0, 0, 0, 0, 0, 0]\n",
      "[1, 1, 1, 1, 0, 0, 0, 0, 0, 0]\n",
      "[1, 1, 1, 1, 1, 0, 0, 0, 0, 0]\n",
      "[1, 1, 1, 1, 1, 1, 0, 0, 0, 0]\n",
      "[1, 1, 1, 1, 1, 1, 0, 0, 0, 0]\n"
     ]
    }
   ],
   "source": [
    "ser = Servers(num=10, f_serve=lambda: tss.sim_exp(5), f_arrive=lambda: tss.sim_exp(5))\n",
    "ser.warmup()\n",
    "clock = 0\n",
    "while clock <= 100:\n",
    "    clock = ser.advance()"
   ]
  },
  {
   "cell_type": "code",
   "execution_count": null,
   "metadata": {},
   "outputs": [],
   "source": []
  }
 ],
 "metadata": {
  "kernelspec": {
   "display_name": "Python 3",
   "language": "python",
   "name": "python3"
  },
  "language_info": {
   "codemirror_mode": {
    "name": "ipython",
    "version": 3
   },
   "file_extension": ".py",
   "mimetype": "text/x-python",
   "name": "python",
   "nbconvert_exporter": "python",
   "pygments_lexer": "ipython3",
   "version": "3.7.6"
  }
 },
 "nbformat": 4,
 "nbformat_minor": 2
}
