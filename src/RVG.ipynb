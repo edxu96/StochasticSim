{
 "cells": [
  {
   "cell_type": "markdown",
   "metadata": {},
   "source": [
    "\n",
    "# Stochastic Simulation: Random Variable Generator (RVG)"
   ]
  },
  {
   "cell_type": "code",
   "execution_count": 1,
   "metadata": {},
   "outputs": [],
   "source": [
    "import math\n",
    "import pandas as pd\n",
    "import numpy as np\n",
    "from matplotlib import pyplot as plt\n",
    "import scipy.stats as st\n",
    "import random as rd\n",
    "from operator import add"
   ]
  },
  {
   "cell_type": "markdown",
   "metadata": {},
   "source": [
    "## 1. Inverse Transform Method / Direct Method / Crude Method"
   ]
  },
  {
   "cell_type": "markdown",
   "metadata": {},
   "source": [
    "## 2. Rejection Method / Acceptance-Rejection Method"
   ]
  },
  {
   "cell_type": "code",
   "execution_count": 2,
   "metadata": {},
   "outputs": [],
   "source": [
    "def sim_reject(fq, qs, ps, c, num:int=10):\n",
    "    \"\"\"Simulate realisations of discrete random variables using \n",
    "        rejection method.\n",
    "    \n",
    "    Keyworkd Argument\n",
    "    =================\n",
    "    num: Number of simulated variables.\n",
    "    fq: Function to simulate realisations of discrete random \n",
    "        variables with `qs` PMF. The default value is `rd.random()`.\n",
    "    qs: Probability mass function of basis random variable.\n",
    "    ps: Probability mass function of desired random variable.\n",
    "    \"\"\"\n",
    "    if not callable(fq) or not callable(qs) or not callable(ps):\n",
    "        raise Exception(\"`fq` and `qs` must be functions!\")\n",
    "    \n",
    "    xs = [0 for i in range(num)]\n",
    "    for i in range(num):\n",
    "        if_continue = True\n",
    "        ## The process will continue until `xs[i]` is determined.\n",
    "        while if_continue:\n",
    "            y = fq()\n",
    "            u = rd.random()  \n",
    "            if u < ps(y) / c / qs(y):\n",
    "                xs[i] = y\n",
    "                if_continue = False"
   ]
  },
  {
   "cell_type": "code",
   "execution_count": 3,
   "metadata": {},
   "outputs": [],
   "source": [
    "def exam_sim_reject():\n",
    "    fq = rd.randint(0, 10)"
   ]
  },
  {
   "cell_type": "code",
   "execution_count": 4,
   "metadata": {},
   "outputs": [],
   "source": [
    "def pmf_q_uniform(j:int):\n",
    "    if j < 0 or type(j) is not int:\n",
    "        raise Exception(\"j must be a non-negative integer!\")\n",
    "    elif j <= 9:\n",
    "        pm = 0.1\n",
    "    else:\n",
    "        pm = 0\n",
    "    return pm"
   ]
  },
  {
   "cell_type": "markdown",
   "metadata": {},
   "source": [
    "## 2. Alias Method"
   ]
  },
  {
   "cell_type": "code",
   "execution_count": 5,
   "metadata": {},
   "outputs": [],
   "source": [
    "def check_posi_pmf(li:list, if_mute=True):\n",
    "    \"\"\"Check if input probability mass function represented by a list is\n",
    "    a `n`-point positive probability mass function.\"\"\"\n",
    "    if sum([i <= -0.0001 for i in li]) > 0:\n",
    "        print(li)\n",
    "        raise Exception(\"Some probability is not positive.\")\n",
    "    elif abs(sum(li) - 1) >= 0.001:\n",
    "        raise Exception(f\"Sum of PMF {sum(li):.4f} is not 100%.\")\n",
    "    elif not if_mute:\n",
    "        print(f\"The input is a {len(li)}-point positive PMF.\")"
   ]
  },
  {
   "cell_type": "code",
   "execution_count": 6,
   "metadata": {
    "scrolled": false
   },
   "outputs": [
    {
     "name": "stdout",
     "output_type": "stream",
     "text": [
      "The input is a 5-point positive PMF.\n"
     ]
    }
   ],
   "source": [
    "li = [0.39, 0.2, 0.2, 0.2, 0.01]\n",
    "check_posi_pmf(li, False)"
   ]
  },
  {
   "cell_type": "code",
   "execution_count": 7,
   "metadata": {},
   "outputs": [],
   "source": [
    "def find_ij(p):\n",
    "    \"\"\"Find the index i, j in the apas method for generating \n",
    "    discrete random variables.\n",
    "    \n",
    "    Issues\n",
    "    ======\n",
    "    There are many numerical issues. I have tried to solve most of them.\n",
    "    Details can be found in comments.\n",
    "    \"\"\"\n",
    "    n = len([l for l in p if l > 0.0001])\n",
    "\n",
    "    ## Find all indices with their values smaller than 1/(n-1) and \n",
    "    ## return the first one. Note that p is considered as positive \n",
    "    ## PMF, so point with 0 probablity is not considered.\n",
    "    i = [l for l, x in enumerate(p) if x < 1 / (n - 1) - 0.0001 and x > 0.0001][0]\n",
    "    \n",
    "    indices = [l for l, x in enumerate(p) if p[i] + x >= 1 / (n - 1) - 0.0001]\n",
    "    # Note that the value to compare with must be set as ... - 0.0001\n",
    "    k = 0\n",
    "    ## To make sure that j != i\n",
    "    while indices[k] == i:\n",
    "        k += 1\n",
    "    j = indices[k]\n",
    "    \n",
    "    ## It is easy to check the results\n",
    "    if j == i or p[i] >= 1 / (n - 1) or p[i] + p[j] < 1 / (n - 1) - 0.0001:\n",
    "        # Note that the value to compare with must be set as ... - 0.0001\n",
    "        raise Exception(\"There is something wrong with the function.\")\n",
    "    \n",
    "    ## It is very likely that `p[i]` is larger than `p[j]` in last iterations.\n",
    "    ## Specifically, when it becomes a two-point PMF, either index can be \n",
    "    ## chosen as `i`. To prevent `p[i]` is larger, we can simply swap the two.\n",
    "    if p[i] > p[j]:\n",
    "        k = i + 0\n",
    "        i = j + 0\n",
    "        j = k + 0\n",
    "    \n",
    "    ## The index in Python starts with 0\n",
    "    i += 1\n",
    "    j += 1\n",
    "    \n",
    "    return i, j"
   ]
  },
  {
   "cell_type": "code",
   "execution_count": 8,
   "metadata": {},
   "outputs": [],
   "source": [
    "def set_alias(p):\n",
    "    \"\"\"Set up alias for `n`-point positive probability mass function.\n",
    "    \n",
    "    Keyword Arguments\n",
    "    =================\n",
    "    p: list indicating `n`-point positive PMF\n",
    "    \n",
    "    Local Variables\n",
    "    ===============\n",
    "    ps: dict of PMF \"p\"\n",
    "    qs: dict of PMF \"q\"\n",
    "    qis: dict of `i` values in each iteration\n",
    "    qjs: dict of `j` values in each iteration\n",
    "    \n",
    "    Issues\n",
    "    ======\n",
    "    Not sure if the `i` and `j` in the final iteration is right.\n",
    "    For now, the index of the smaller one is assumed to be `i`.\n",
    "    \"\"\"\n",
    "    check_posi_pmf(p)\n",
    "    n = len(p)\n",
    "    ps = {n: [l for l in p]}\n",
    "    qs = {}\n",
    "    qis = {}\n",
    "    qjs = {}\n",
    "    for k in range(1, n-1):\n",
    "        i, j = find_ij(ps[n-k+1])\n",
    "        qis[k] = i + 0\n",
    "        qjs[k] = j + 0\n",
    "        i -= 1\n",
    "        j -= 1\n",
    "        \n",
    "        qs[k] = [0 for l in range(n)]\n",
    "        qs[k][i] = (n-k) * ps[n-k+1][i]\n",
    "        qs[k][j] = 1 - (n-k) * ps[n-k+1][i]\n",
    "        check_posi_pmf(qs[k])\n",
    "        \n",
    "        ps[n-k] = [(n-k) / (n-k-1) * l for l in ps[n-k+1]]\n",
    "        ps[n-k][j] = (n-k) / (n-k-1) * (ps[n-k+1][i] + ps[n-k+1][j] - 1/(n-k))\n",
    "        ps[n-k][i] = 0\n",
    "        check_posi_pmf(ps[n-k])\n",
    "        \n",
    "        ## `ps[n-k]` should be a {n-k}-point PMF\n",
    "        if abs( sum(ps[n-k]) - 1 ) > 0.0001:\n",
    "            raise Exception(f\"There is something wrong with {n-k}-point PMF.\")\n",
    "        \n",
    "        ## Check the iteration\n",
    "        q_t = [l / (n-k) for l in qs[k]]\n",
    "        p_t = [(n-k-1) / (n-k) * l for l in ps[n-k]]\n",
    "        p_tt = map(add, q_t, p_t)\n",
    "        t = sum( map(add, ps[n-k+1], [-l for l in p_tt]) )\n",
    "        if abs(t) > 0.001:\n",
    "            print(f\"t = {t}.\")\n",
    "            raise Exception(\"The function is wrong.\")\n",
    "        \n",
    "    ## Final iteration.\n",
    "    k = n - 1\n",
    "    qs[k] = [l for l in ps[2]]\n",
    "\n",
    "    n_final = len([l for l in ps[2] if l > 0.0001])\n",
    "    if n_final == 1:\n",
    "        qis[k] = [l for l, x in enumerate(ps[2]) if x > 0.0001][0] + 1\n",
    "        qjs[k] = qis[k] + 0\n",
    "    else:\n",
    "        i, j = find_ij(ps[2])\n",
    "        qis[k] = i + 0\n",
    "        qjs[k] = j + 0\n",
    "\n",
    "    ## Convert the dict to pandas data frame.\n",
    "    q_pd = pd.DataFrame.from_dict(qs, orient='index')\n",
    "    q_pd.columns = [l for l in range(1, n+1)]\n",
    "    \n",
    "    ##\n",
    "    p_pd = pd.DataFrame.from_dict(ps, orient='index')\n",
    "    \n",
    "    ## Test the final result\n",
    "    p_new = [i / (n-1) for i in q_pd.sum().tolist()]\n",
    "    delta = map(add, p, [-l for l in p_new])\n",
    "    t = sum([abs(l) for l in delta])\n",
    "    if abs(t) > 0.001:\n",
    "        print(f\"t = {t}.\")\n",
    "        raise Exception(\"The final result is wrong.\")\n",
    "    \n",
    "    ## Add columns containing `i` and `j` information in each iteration.\n",
    "    ## Note that `pandas.assign` doesn't change the original data frame directly.\n",
    "    q_pd = q_pd.assign(i=[l for l in qis.values()], j=[l for l in qjs.values()])\n",
    "    \n",
    "    return q_pd"
   ]
  },
  {
   "cell_type": "code",
   "execution_count": 9,
   "metadata": {
    "scrolled": true
   },
   "outputs": [
    {
     "name": "stdout",
     "output_type": "stream",
     "text": [
      "     1    2    3    4    5    6  i  j\n",
      "1  0.5  0.5  0.0  0.0  0.0  0.0  1  2\n",
      "2  0.0  0.0  1.0  0.0  0.0  0.0  3  4\n",
      "3  0.0  0.0  0.0  0.5  0.5  0.0  5  4\n",
      "4  0.0  0.0  0.0  0.5  0.0  0.5  6  4\n",
      "5  0.0  0.0  0.0  1.0  0.0  0.0  4  4\n"
     ]
    }
   ],
   "source": [
    "def exam_set_alias():\n",
    "#     p = [7/16, 0.5, 1/16]\n",
    "#     p = [7/16, 1/4, 1/8, 3/16]\n",
    "    p = [0.1, 0.1, 0.2, 0.4, 0.1, 0.1]\n",
    "    alias = set_alias(p)\n",
    "    print(alias)\n",
    "    \n",
    "    \n",
    "exam_set_alias()"
   ]
  },
  {
   "cell_type": "code",
   "execution_count": 10,
   "metadata": {},
   "outputs": [],
   "source": [
    "def run_alias(alias):\n",
    "    n = alias.shape[0] + 1\n",
    "    int_sim = rd.randint(1, n-1)\n",
    "    u = rd.random()\n",
    "    i_sim = alias['i'][int_sim]\n",
    "    j_sim = alias['j'][int_sim]\n",
    "    \n",
    "    if u < alias[i_sim][int_sim]:\n",
    "        x = i_sim\n",
    "    else:\n",
    "        x = j_sim\n",
    "    \n",
    "    return x"
   ]
  },
  {
   "cell_type": "code",
   "execution_count": 11,
   "metadata": {
    "scrolled": true
   },
   "outputs": [
    {
     "data": {
      "image/png": "[encoded data removed]",
      "text/plain": [
       "<Figure size 432x288 with 1 Axes>"
      ]
     },
     "metadata": {
      "needs_background": "light"
     },
     "output_type": "display_data"
    }
   ],
   "source": [
    "def exam_run_alias():\n",
    "    num_sim = 10000\n",
    "#     p = [7/16, 1/4, 1/8, 3/16]\n",
    "    p = [0.1, 0.1, 0.2, 0.4, 0.1, 0.1]\n",
    "    n = len(p)\n",
    "    alias = set_alias(p)\n",
    "    \n",
    "    xs = [run_alias(alias) for l in range(num_sim)]\n",
    "    p_sample = [xs.count(l) / num_sim for l in range(1, n+1)]\n",
    "    \n",
    "    ## Start plotting.\n",
    "    labels = [l for l in range(1, n+1)]\n",
    "\n",
    "    x = np.arange(len(labels))  # the label locations\n",
    "    width = 0.35  # the width of the bars\n",
    "\n",
    "    fig, ax = plt.subplots()\n",
    "    rects1 = ax.bar(x - width/2, p, width, label='given')\n",
    "    rects2 = ax.bar(x + width/2, p_sample, width, label='sample')\n",
    "\n",
    "    # Add some text for labels, title and custom x-axis tick labels, etc.\n",
    "    ax.set_ylabel('Probability')\n",
    "    ax.set_title('Given Probabilities and Probabilities from Samples')\n",
    "    ax.set_xticks(x)\n",
    "    ax.set_xticklabels(labels)\n",
    "    ax.legend()\n",
    "\n",
    "\n",
    "    def autolabel(rects):\n",
    "        \"\"\"Attach a text label above each bar in *rects*, displaying its height.\"\"\"\n",
    "        for rect in rects:\n",
    "            height = rect.get_height()\n",
    "            ax.annotate('{}'.format(height),\n",
    "                xy=(rect.get_x() + rect.get_width() / 2, height),\n",
    "                xytext=(0, 3),  # 3 points vertical offset\n",
    "                textcoords=\"offset points\",\n",
    "                ha='center', va='bottom')\n",
    "\n",
    "\n",
    "    autolabel(rects1)\n",
    "    autolabel(rects2)\n",
    "\n",
    "    fig.tight_layout()\n",
    "\n",
    "    plt.show()\n",
    "\n",
    "\n",
    "exam_run_alias()"
   ]
  },
  {
   "cell_type": "markdown",
   "metadata": {},
   "source": [
    "## 3. Chi-Squared Goodness-of-Fit Test of Samples"
   ]
  },
  {
   "cell_type": "code",
   "execution_count": 12,
   "metadata": {},
   "outputs": [],
   "source": [
    "def test_dist(pvalue:float, alpha:float=0.05):\n",
    "    \"\"\"Perform distribution test.\"\"\"\n",
    "    print(\"Null hypothesis: two populations have the same distribution. \\n\" \n",
    "        f\"The input p value is {pvalue:.4f}. \\n\"\n",
    "        f\"Is the p value smaller than {alpha}? {pvalue < alpha}. \\n\" \n",
    "        f\"If reject the null hypothesis? {pvalue <= 0.05}. \\n\" \n",
    "        f\"If from the same distribution? {pvalue >= 0.05}. \\n\")"
   ]
  },
  {
   "cell_type": "markdown",
   "metadata": {},
   "source": [
    "The function `cal_stat_gof` is a bit different from that in `RNG.ipynb`"
   ]
  },
  {
   "cell_type": "code",
   "execution_count": 13,
   "metadata": {},
   "outputs": [],
   "source": [
    "def cal_stat_gof(li_count, li_cdf):\n",
    "    \"\"\"Calculate the statistic in Goodness of Fit test.\"\"\"\n",
    "    li_p = [li_cdf[0]] + [li_cdf[i] - li_cdf[i-1] for i in range(1, len(li_cdf))]\n",
    "    n = sum(li_count)\n",
    "    k = len(li_p)\n",
    "    stat = sum( [(li_count[i] - n * li_p[i])**2 / n / li_p[i] for i in range(k)] )\n",
    "    print(f\"Chi-squared goodness of fit test: {stat:.4f}.\")\n",
    "    \n",
    "    return stat"
   ]
  },
  {
   "cell_type": "code",
   "execution_count": 14,
   "metadata": {},
   "outputs": [],
   "source": [
    "def cal_pvalue_chi2(stat, df):\n",
    "    \"\"\"Calculate the pvalue of two-sided t-test using Chi-Square distribution.\"\"\"\n",
    "    pvalue = 1 - st.chi2.cdf(stat, df)\n",
    "    print(f\"The input stat: {stat:.4f}. \\n\"\n",
    "        f\"The p value from Chi-Square distribution: {pvalue:.4f}.\")\n",
    "    return pvalue"
   ]
  },
  {
   "cell_type": "code",
   "execution_count": 15,
   "metadata": {
    "scrolled": true
   },
   "outputs": [
    {
     "name": "stdout",
     "output_type": "stream",
     "text": [
      "Chi-squared goodness of fit test: 6.0765.\n",
      "The input stat: 6.0765. \n",
      "The p value from Chi-Square distribution: 0.2988.\n",
      "Null hypothesis: two populations have the same distribution. \n",
      "The input p value is 0.2988. \n",
      "Is the p value smaller than 0.05? False. \n",
      "If reject the null hypothesis? False. \n",
      "If from the same distribution? True. \n",
      "\n"
     ]
    }
   ],
   "source": [
    "num_sim = 10000\n",
    "#     p = [7/16, 1/4, 1/8, 3/16]\n",
    "p = [0.1, 0.1, 0.2, 0.4, 0.1, 0.1]\n",
    "n = len(p)\n",
    "alias = set_alias(p)\n",
    "\n",
    "xs = [run_alias(alias) for l in range(num_sim)]\n",
    "li_count = [xs.count(l) for l in range(1, n+1)]\n",
    "\n",
    "li_cdf = [0.1, 0.2, 0.4, 0.8, 0.9, 1]\n",
    "stat = cal_stat_gof(li_count, li_cdf)\n",
    "pvalue = cal_pvalue_chi2(stat, df=5)\n",
    "test_dist(pvalue)"
   ]
  }
 ],
 "metadata": {
  "kernelspec": {
   "display_name": "Python 3",
   "language": "python",
   "name": "python3"
  },
  "language_info": {
   "codemirror_mode": {
    "name": "ipython",
    "version": 3
   },
   "file_extension": ".py",
   "mimetype": "text/x-python",
   "name": "python",
   "nbconvert_exporter": "python",
   "pygments_lexer": "ipython3",
   "version": "3.7.6"
  }
 },
 "nbformat": 4,
 "nbformat_minor": 2
}
