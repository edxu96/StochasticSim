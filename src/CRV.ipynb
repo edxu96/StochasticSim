{
 "cells": [
  {
   "cell_type": "markdown",
   "metadata": {},
   "source": [
    "# Simulation of Continuous Random Variables\n",
    "\n",
    "- author: Edward J. Xu\n",
    "- date: June 1, 2020"
   ]
  },
  {
   "cell_type": "code",
   "execution_count": 41,
   "metadata": {},
   "outputs": [
    {
     "name": "stdout",
     "output_type": "stream",
     "text": [
      "`TidySimStat.py` by Edward J. Xu is imported. Last modifed date is June 1, 2020.\n"
     ]
    }
   ],
   "source": [
    "import math\n",
    "import pandas as pd\n",
    "import numpy as np\n",
    "from matplotlib import pyplot as plt\n",
    "import scipy.stats as st\n",
    "import random as rd\n",
    "from importlib import reload  \n",
    "import TidySimStat as tss\n",
    "tss = reload(tss)"
   ]
  },
  {
   "cell_type": "markdown",
   "metadata": {},
   "source": [
    "## 1. Inverse Method\n",
    "\n",
    "$$ \\begin{aligned}\n",
    "    U &= F(X) \\\\\n",
    "    X &= F^{-1}(U)\n",
    "\\end{aligned} $$"
   ]
  },
  {
   "cell_type": "markdown",
   "metadata": {},
   "source": [
    "### 1-1. to Simulate Exponential Distribution"
   ]
  },
  {
   "cell_type": "code",
   "execution_count": 8,
   "metadata": {},
   "outputs": [],
   "source": [
    "def sim_exp(expect, u=True):\n",
    "    \"\"\"Simulate a realisation of a random variable with exponential distribution\n",
    "    and specified expect.\n",
    "    \n",
    "    Keyword Argument\n",
    "    ================\n",
    "    expect: expect of the distribution\n",
    "    u: input simulated random number. If missing, simulate one.\n",
    "       The default value should be set at `rd.random()` directly,\n",
    "       or the realisation in different calls will the same.\n",
    "    \n",
    "    Note\n",
    "    ====\n",
    "    The CDF is defined as `1 - math.exp(- x / expect)`.\n",
    "    The PDF is thus `math.exp(- x / expect) / expect`.\n",
    "    \"\"\"\n",
    "    if u:\n",
    "        u = rd.random()\n",
    "    elif u < 0 or u > 1:\n",
    "        raise Exception(\"Please input a simulated random number of leave it blank!\")\n",
    "        \n",
    "    x = - math.log(u) * expect\n",
    "    return x"
   ]
  },
  {
   "cell_type": "code",
   "execution_count": 9,
   "metadata": {
    "scrolled": false
   },
   "outputs": [
    {
     "name": "stdout",
     "output_type": "stream",
     "text": [
      "One-sample Kolmogorov–Smirnov test: 0.0184.\n",
      "Null hypothesis: two populations have the same distribution. \n",
      "The input p value is 1.0000. \n",
      "Is the p value smaller than 0.05? False. \n",
      "If reject the null hypothesis? False. \n",
      "If from the same distribution? True.\n"
     ]
    },
    {
     "data": {
      "image/png": "[encoded data removed]",
      "text/plain": [
       "<Figure size 432x288 with 1 Axes>"
      ]
     },
     "metadata": {
      "needs_background": "light"
     },
     "output_type": "display_data"
    }
   ],
   "source": [
    "def exam_sim_exp():\n",
    "    num_sim = 1000\n",
    "    expect = 5\n",
    "    samples = [sim_exp(expect) for i in range(1000)]\n",
    "    \n",
    "    stat = tss.cal_stat_ks(samples, cdf = lambda x: 1 - math.exp(- x / expect))\n",
    "    pvalue = tss.cal_pvalue_ks(stat)\n",
    "    tss.test_dist(pvalue)\n",
    "    \n",
    "    xs = [i for i in range(40)]\n",
    "    densities = [math.exp(- i / expect) / expect for i in xs]\n",
    "    \n",
    "    plt.hist(samples, bins = 20, density=True)\n",
    "    plt.plot(xs, densities)\n",
    "    plt.show()\n",
    "    \n",
    "    \n",
    "exam_sim_exp()"
   ]
  },
  {
   "cell_type": "code",
   "execution_count": 10,
   "metadata": {
    "scrolled": true
   },
   "outputs": [
    {
     "name": "stdout",
     "output_type": "stream",
     "text": [
      "Help on function cal_stat_ks in module TidySimStat:\n",
      "\n",
      "cal_stat_ks(samples, cdf)\n",
      "    Calculate statistic in one-sample Kolmogorov–Smirnov test.\n",
      "    \n",
      "    Keyword Arguments\n",
      "    =================\n",
      "    samples: list of samples\n",
      "    cdf: target cumulative density function\n",
      "\n"
     ]
    }
   ],
   "source": [
    "help(tss.cal_stat_ks)"
   ]
  },
  {
   "cell_type": "markdown",
   "metadata": {},
   "source": [
    "## 1-2. to Simulate Pareto Distribution"
   ]
  },
  {
   "cell_type": "code",
   "execution_count": 11,
   "metadata": {},
   "outputs": [],
   "source": [
    "def sim_pareto(beta, k, u=True):\n",
    "    \"\"\"Simulate a realisation of a random variable with Pareto distribution\n",
    "    and specified beta and k.\n",
    "    \n",
    "    Keyword Argument\n",
    "    ================\n",
    "    beta: parameter in the CDF.\n",
    "    k: parameter in the CDf\n",
    "    \n",
    "    Note\n",
    "    ====\n",
    "    The CDF is defined as `1 - (beta / x)**k`.\n",
    "    The PDF is thus `k * (beta)**k / x**(k+1)`.\n",
    "    \"\"\"\n",
    "    if u:\n",
    "        u = rd.random()\n",
    "    elif u < 0 or u > 1:\n",
    "        raise Exception(\"Please input a simulated random number of leave it blank!\")\n",
    "        \n",
    "    x = beta / (1 - u)**(1/k)\n",
    "    return x"
   ]
  },
  {
   "cell_type": "code",
   "execution_count": 12,
   "metadata": {
    "scrolled": true
   },
   "outputs": [
    {
     "name": "stdout",
     "output_type": "stream",
     "text": [
      "One-sample Kolmogorov–Smirnov test: 0.0179.\n",
      "Null hypothesis: two populations have the same distribution. \n",
      "The input p value is 1.0000. \n",
      "Is the p value smaller than 0.05? False. \n",
      "If reject the null hypothesis? False. \n",
      "If from the same distribution? True.\n"
     ]
    },
    {
     "data": {
      "image/png": "[encoded data removed]",
      "text/plain": [
       "<Figure size 432x288 with 1 Axes>"
      ]
     },
     "metadata": {
      "needs_background": "light"
     },
     "output_type": "display_data"
    }
   ],
   "source": [
    "def exam_sim_pareto():\n",
    "    num_sim = 1000\n",
    "    beta = 5\n",
    "    k = 5\n",
    "    samples = [sim_pareto(beta, k) for i in range(1000)]\n",
    "    \n",
    "    ## Perform Kolmogorov–Smirnov test\n",
    "    stat = tss.cal_stat_ks(samples, cdf = lambda x: 1 - (beta / x)**k)\n",
    "    pvalue = tss.cal_pvalue_ks(stat)\n",
    "    tss.test_dist(pvalue)\n",
    "    \n",
    "    ## Calculate theoretical values\n",
    "    xs = [i for i in range(5, 40)]\n",
    "    densities = [k * (beta)**k / i**(k+1) for i in xs]\n",
    "    \n",
    "    plt.hist(samples, bins = 20, density=True)\n",
    "    plt.plot(xs, densities)\n",
    "    plt.show()\n",
    "    \n",
    "    \n",
    "exam_sim_pareto()"
   ]
  },
  {
   "cell_type": "markdown",
   "metadata": {},
   "source": [
    "## 2. Simulate Normal RVs using Central Limit Theory"
   ]
  },
  {
   "cell_type": "code",
   "execution_count": 13,
   "metadata": {},
   "outputs": [],
   "source": [
    "def sim_norm(num_samples:int):\n",
    "    \"\"\"Simulate a realisation of a random variable with normal distribution\n",
    "    according to central limit theory.\n",
    "    \n",
    "    Keyword Argument\n",
    "    ================\n",
    "    num_samples: number of samples for one realisation. \n",
    "    \n",
    "    Note\n",
    "    ====\n",
    "    The CDF is defined as `st.norm.cdf`.\n",
    "    The PDF is thus `st.norm.pdf`.\n",
    "    \"\"\"\n",
    "    us = [rd.random() for i in range(num_samples)]\n",
    "        \n",
    "    x = sum(us) - num_samples / 2\n",
    "    return x"
   ]
  },
  {
   "cell_type": "code",
   "execution_count": 14,
   "metadata": {
    "scrolled": false
   },
   "outputs": [
    {
     "name": "stdout",
     "output_type": "stream",
     "text": [
      "One-sample Kolmogorov–Smirnov test: 0.0288.\n",
      "Null hypothesis: two populations have the same distribution. \n",
      "The input p value is 1.0000. \n",
      "Is the p value smaller than 0.05? False. \n",
      "If reject the null hypothesis? False. \n",
      "If from the same distribution? True.\n"
     ]
    },
    {
     "data": {
      "image/png": "[encoded data removed]",
      "text/plain": [
       "<Figure size 432x288 with 1 Axes>"
      ]
     },
     "metadata": {
      "needs_background": "light"
     },
     "output_type": "display_data"
    }
   ],
   "source": [
    "def exam_sim_norm():\n",
    "    num_sim = 1000\n",
    "    beta = 5\n",
    "    k = 5\n",
    "    samples = [sim_norm(10) for i in range(1000)]\n",
    "    \n",
    "    ## Perform Kolmogorov–Smirnov test\n",
    "    stat = tss.cal_stat_ks(samples, cdf = st.norm.cdf)\n",
    "    pvalue = tss.cal_pvalue_ks(stat)\n",
    "    tss.test_dist(pvalue)\n",
    "    \n",
    "    ## Calculate theoretical values\n",
    "    xs = [i / 10 for i in range(-50, 50)]\n",
    "    densities = [st.norm.pdf(i) for i in xs]\n",
    "    \n",
    "    plt.hist(samples, bins = 20, density=True)\n",
    "    plt.plot(xs, densities)\n",
    "    plt.show()\n",
    "    \n",
    "    \n",
    "exam_sim_norm()"
   ]
  },
  {
   "cell_type": "markdown",
   "metadata": {},
   "source": [
    "## 2. Box-Mullter Method for Normal RVs"
   ]
  },
  {
   "cell_type": "code",
   "execution_count": 24,
   "metadata": {},
   "outputs": [],
   "source": [
    "def sim_cossin():\n",
    "    while True:\n",
    "        v1 = 2 * rd.random() - 1\n",
    "        v2 = 2 * rd.random() - 1\n",
    "        r_square = v1**2 + v2**2\n",
    "        if r_square <= 1:\n",
    "            break\n",
    "    sample = [0, 0]\n",
    "    sample[0] = v1 / math.sqrt(r_square)  # cosine\n",
    "    sample[1] = v2 / math.sqrt(r_square)  # sine\n",
    "    return sample"
   ]
  },
  {
   "cell_type": "code",
   "execution_count": 27,
   "metadata": {},
   "outputs": [],
   "source": [
    "def sim_norm_bm():\n",
    "    \"\"\"Simulate a realisation of a random variable with normal distribution\n",
    "    using Box-Muller method.\n",
    "    \n",
    "    Note\n",
    "    ====\n",
    "    The CDF is defined as `st.norm.cdf`.\n",
    "    The PDF is thus `st.norm.pdf`.\n",
    "    \"\"\"\n",
    "    samples = sim_cossin()\n",
    "    u1 = rd.random()\n",
    "    z1 = math.sqrt(- 2 * math.log(u1)) * samples[0]\n",
    "    z2 = math.sqrt(- 2 * math.log(u1)) * samples[0]\n",
    "\n",
    "    return [z1, z2]"
   ]
  },
  {
   "cell_type": "code",
   "execution_count": 33,
   "metadata": {},
   "outputs": [
    {
     "data": {
      "text/plain": [
       "0.34756819900673486"
      ]
     },
     "execution_count": 33,
     "metadata": {},
     "output_type": "execute_result"
    }
   ],
   "source": [
    "sim_norm_bm()[0]"
   ]
  },
  {
   "cell_type": "code",
   "execution_count": 34,
   "metadata": {},
   "outputs": [
    {
     "name": "stdout",
     "output_type": "stream",
     "text": [
      "One-sample Kolmogorov–Smirnov test: 0.0375.\n",
      "Null hypothesis: two populations have the same distribution. \n",
      "The input p value is 1.0000. \n",
      "Is the p value smaller than 0.05? False. \n",
      "If reject the null hypothesis? False. \n",
      "If from the same distribution? True.\n"
     ]
    },
    {
     "data": {
      "image/png": "[encoded data removed]",
      "text/plain": [
       "<Figure size 432x288 with 1 Axes>"
      ]
     },
     "metadata": {
      "needs_background": "light"
     },
     "output_type": "display_data"
    }
   ],
   "source": [
    "def exam_sim_norm_bm():\n",
    "    num_sim = 1000\n",
    "    beta = 5\n",
    "    k = 5\n",
    "    samples = [sim_norm_bm()[0] for i in range(1000)]\n",
    "    \n",
    "    ## Perform Kolmogorov–Smirnov test\n",
    "    stat = tss.cal_stat_ks(samples, cdf = st.norm.cdf)\n",
    "    pvalue = tss.cal_pvalue_ks(stat)\n",
    "    tss.test_dist(pvalue)\n",
    "    \n",
    "    ## Calculate theoretical values\n",
    "    xs = [i / 10 for i in range(-50, 50)]\n",
    "    densities = [st.norm.pdf(i) for i in xs]\n",
    "    \n",
    "    plt.hist(samples, bins = 20, density=True)\n",
    "    plt.plot(xs, densities)\n",
    "    plt.show()\n",
    "    \n",
    "    \n",
    "exam_sim_norm_bm()"
   ]
  },
  {
   "cell_type": "code",
   "execution_count": null,
   "metadata": {},
   "outputs": [],
   "source": []
  }
 ],
 "metadata": {
  "kernelspec": {
   "display_name": "Python 3",
   "language": "python",
   "name": "python3"
  },
  "language_info": {
   "codemirror_mode": {
    "name": "ipython",
    "version": 3
   },
   "file_extension": ".py",
   "mimetype": "text/x-python",
   "name": "python",
   "nbconvert_exporter": "python",
   "pygments_lexer": "ipython3",
   "version": "3.7.6"
  }
 },
 "nbformat": 4,
 "nbformat_minor": 2
}
